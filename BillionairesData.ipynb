{
  "nbformat": 4,
  "nbformat_minor": 0,
  "metadata": {
    "colab": {
      "name": "BillionairesData.ipynb",
      "provenance": [],
      "authorship_tag": "ABX9TyP+xFFTL3W/lMspTIJfi1b2",
      "include_colab_link": true
    },
    "kernelspec": {
      "name": "python3",
      "display_name": "Python 3"
    },
    "language_info": {
      "name": "python"
    }
  },
  "cells": [
    {
      "cell_type": "markdown",
      "metadata": {
        "id": "view-in-github",
        "colab_type": "text"
      },
      "source": [
        "<a href=\"https://colab.research.google.com/github/SarahMason2015/Billionaires/blob/main/BillionairesData.ipynb\" target=\"_parent\"><img src=\"https://colab.research.google.com/assets/colab-badge.svg\" alt=\"Open In Colab\"/></a>"
      ]
    },
    {
      "cell_type": "code",
      "execution_count": 1,
      "metadata": {
        "id": "AMrWPOtRhj6D"
      },
      "outputs": [],
      "source": [
        "# Import our dependencies\n",
        "import pandas as pd\n",
        "import matplotlib as plt\n",
        "import sklearn as skl\n",
        "import tensorflow as tf"
      ]
    },
    {
      "cell_type": "code",
      "source": [
        "billion_df = pd.read_csv(\"billionaires_dataset.csv\")\n",
        "billion_df.head()"
      ],
      "metadata": {
        "colab": {
          "base_uri": "https://localhost:8080/",
          "height": 206
        },
        "id": "6Dcpg0S3jePk",
        "outputId": "30f4ad4a-f969-492c-c848-99b50b81f567"
      },
      "execution_count": 2,
      "outputs": [
        {
          "output_type": "execute_result",
          "data": {
            "text/plain": [
              "   company.founded  demographics.age demographics.gender location.citizenship  \\\n",
              "0             1975                40                male        United States   \n",
              "1             1975                45                male        United States   \n",
              "2             1975                58                male        United States   \n",
              "3             1962                65                male        United States   \n",
              "4             1962                70                male        United States   \n",
              "\n",
              "  location.region  wealth.how.industry wealth.how.inherited  \n",
              "0   North America  Technology-Computer        not inherited  \n",
              "1   North America  Technology-Computer        not inherited  \n",
              "2   North America  Technology-Computer        not inherited  \n",
              "3   North America             Consumer        not inherited  \n",
              "4   North America             Consumer        not inherited  "
            ],
            "text/html": [
              "\n",
              "  <div id=\"df-70ef438e-2caa-48c3-b7f1-6aa30865b45a\">\n",
              "    <div class=\"colab-df-container\">\n",
              "      <div>\n",
              "<style scoped>\n",
              "    .dataframe tbody tr th:only-of-type {\n",
              "        vertical-align: middle;\n",
              "    }\n",
              "\n",
              "    .dataframe tbody tr th {\n",
              "        vertical-align: top;\n",
              "    }\n",
              "\n",
              "    .dataframe thead th {\n",
              "        text-align: right;\n",
              "    }\n",
              "</style>\n",
              "<table border=\"1\" class=\"dataframe\">\n",
              "  <thead>\n",
              "    <tr style=\"text-align: right;\">\n",
              "      <th></th>\n",
              "      <th>company.founded</th>\n",
              "      <th>demographics.age</th>\n",
              "      <th>demographics.gender</th>\n",
              "      <th>location.citizenship</th>\n",
              "      <th>location.region</th>\n",
              "      <th>wealth.how.industry</th>\n",
              "      <th>wealth.how.inherited</th>\n",
              "    </tr>\n",
              "  </thead>\n",
              "  <tbody>\n",
              "    <tr>\n",
              "      <th>0</th>\n",
              "      <td>1975</td>\n",
              "      <td>40</td>\n",
              "      <td>male</td>\n",
              "      <td>United States</td>\n",
              "      <td>North America</td>\n",
              "      <td>Technology-Computer</td>\n",
              "      <td>not inherited</td>\n",
              "    </tr>\n",
              "    <tr>\n",
              "      <th>1</th>\n",
              "      <td>1975</td>\n",
              "      <td>45</td>\n",
              "      <td>male</td>\n",
              "      <td>United States</td>\n",
              "      <td>North America</td>\n",
              "      <td>Technology-Computer</td>\n",
              "      <td>not inherited</td>\n",
              "    </tr>\n",
              "    <tr>\n",
              "      <th>2</th>\n",
              "      <td>1975</td>\n",
              "      <td>58</td>\n",
              "      <td>male</td>\n",
              "      <td>United States</td>\n",
              "      <td>North America</td>\n",
              "      <td>Technology-Computer</td>\n",
              "      <td>not inherited</td>\n",
              "    </tr>\n",
              "    <tr>\n",
              "      <th>3</th>\n",
              "      <td>1962</td>\n",
              "      <td>65</td>\n",
              "      <td>male</td>\n",
              "      <td>United States</td>\n",
              "      <td>North America</td>\n",
              "      <td>Consumer</td>\n",
              "      <td>not inherited</td>\n",
              "    </tr>\n",
              "    <tr>\n",
              "      <th>4</th>\n",
              "      <td>1962</td>\n",
              "      <td>70</td>\n",
              "      <td>male</td>\n",
              "      <td>United States</td>\n",
              "      <td>North America</td>\n",
              "      <td>Consumer</td>\n",
              "      <td>not inherited</td>\n",
              "    </tr>\n",
              "  </tbody>\n",
              "</table>\n",
              "</div>\n",
              "      <button class=\"colab-df-convert\" onclick=\"convertToInteractive('df-70ef438e-2caa-48c3-b7f1-6aa30865b45a')\"\n",
              "              title=\"Convert this dataframe to an interactive table.\"\n",
              "              style=\"display:none;\">\n",
              "        \n",
              "  <svg xmlns=\"http://www.w3.org/2000/svg\" height=\"24px\"viewBox=\"0 0 24 24\"\n",
              "       width=\"24px\">\n",
              "    <path d=\"M0 0h24v24H0V0z\" fill=\"none\"/>\n",
              "    <path d=\"M18.56 5.44l.94 2.06.94-2.06 2.06-.94-2.06-.94-.94-2.06-.94 2.06-2.06.94zm-11 1L8.5 8.5l.94-2.06 2.06-.94-2.06-.94L8.5 2.5l-.94 2.06-2.06.94zm10 10l.94 2.06.94-2.06 2.06-.94-2.06-.94-.94-2.06-.94 2.06-2.06.94z\"/><path d=\"M17.41 7.96l-1.37-1.37c-.4-.4-.92-.59-1.43-.59-.52 0-1.04.2-1.43.59L10.3 9.45l-7.72 7.72c-.78.78-.78 2.05 0 2.83L4 21.41c.39.39.9.59 1.41.59.51 0 1.02-.2 1.41-.59l7.78-7.78 2.81-2.81c.8-.78.8-2.07 0-2.86zM5.41 20L4 18.59l7.72-7.72 1.47 1.35L5.41 20z\"/>\n",
              "  </svg>\n",
              "      </button>\n",
              "      \n",
              "  <style>\n",
              "    .colab-df-container {\n",
              "      display:flex;\n",
              "      flex-wrap:wrap;\n",
              "      gap: 12px;\n",
              "    }\n",
              "\n",
              "    .colab-df-convert {\n",
              "      background-color: #E8F0FE;\n",
              "      border: none;\n",
              "      border-radius: 50%;\n",
              "      cursor: pointer;\n",
              "      display: none;\n",
              "      fill: #1967D2;\n",
              "      height: 32px;\n",
              "      padding: 0 0 0 0;\n",
              "      width: 32px;\n",
              "    }\n",
              "\n",
              "    .colab-df-convert:hover {\n",
              "      background-color: #E2EBFA;\n",
              "      box-shadow: 0px 1px 2px rgba(60, 64, 67, 0.3), 0px 1px 3px 1px rgba(60, 64, 67, 0.15);\n",
              "      fill: #174EA6;\n",
              "    }\n",
              "\n",
              "    [theme=dark] .colab-df-convert {\n",
              "      background-color: #3B4455;\n",
              "      fill: #D2E3FC;\n",
              "    }\n",
              "\n",
              "    [theme=dark] .colab-df-convert:hover {\n",
              "      background-color: #434B5C;\n",
              "      box-shadow: 0px 1px 3px 1px rgba(0, 0, 0, 0.15);\n",
              "      filter: drop-shadow(0px 1px 2px rgba(0, 0, 0, 0.3));\n",
              "      fill: #FFFFFF;\n",
              "    }\n",
              "  </style>\n",
              "\n",
              "      <script>\n",
              "        const buttonEl =\n",
              "          document.querySelector('#df-70ef438e-2caa-48c3-b7f1-6aa30865b45a button.colab-df-convert');\n",
              "        buttonEl.style.display =\n",
              "          google.colab.kernel.accessAllowed ? 'block' : 'none';\n",
              "\n",
              "        async function convertToInteractive(key) {\n",
              "          const element = document.querySelector('#df-70ef438e-2caa-48c3-b7f1-6aa30865b45a');\n",
              "          const dataTable =\n",
              "            await google.colab.kernel.invokeFunction('convertToInteractive',\n",
              "                                                     [key], {});\n",
              "          if (!dataTable) return;\n",
              "\n",
              "          const docLinkHtml = 'Like what you see? Visit the ' +\n",
              "            '<a target=\"_blank\" href=https://colab.research.google.com/notebooks/data_table.ipynb>data table notebook</a>'\n",
              "            + ' to learn more about interactive tables.';\n",
              "          element.innerHTML = '';\n",
              "          dataTable['output_type'] = 'display_data';\n",
              "          await google.colab.output.renderOutput(dataTable, element);\n",
              "          const docLink = document.createElement('div');\n",
              "          docLink.innerHTML = docLinkHtml;\n",
              "          element.appendChild(docLink);\n",
              "        }\n",
              "      </script>\n",
              "    </div>\n",
              "  </div>\n",
              "  "
            ]
          },
          "metadata": {},
          "execution_count": 2
        }
      ]
    },
    {
      "cell_type": "code",
      "source": [
        "billion_df.drop('company.founded', axis = 1, inplace = True)"
      ],
      "metadata": {
        "id": "VmFx0Z2Qj-h2"
      },
      "execution_count": 3,
      "outputs": []
    },
    {
      "cell_type": "code",
      "source": [
        "billion_df.head(5)"
      ],
      "metadata": {
        "colab": {
          "base_uri": "https://localhost:8080/",
          "height": 206
        },
        "id": "MxRkOPglkJrg",
        "outputId": "cda715a7-d718-4f6a-e05d-5fb866d56971"
      },
      "execution_count": 4,
      "outputs": [
        {
          "output_type": "execute_result",
          "data": {
            "text/plain": [
              "   demographics.age demographics.gender location.citizenship location.region  \\\n",
              "0                40                male        United States   North America   \n",
              "1                45                male        United States   North America   \n",
              "2                58                male        United States   North America   \n",
              "3                65                male        United States   North America   \n",
              "4                70                male        United States   North America   \n",
              "\n",
              "   wealth.how.industry wealth.how.inherited  \n",
              "0  Technology-Computer        not inherited  \n",
              "1  Technology-Computer        not inherited  \n",
              "2  Technology-Computer        not inherited  \n",
              "3             Consumer        not inherited  \n",
              "4             Consumer        not inherited  "
            ],
            "text/html": [
              "\n",
              "  <div id=\"df-3a4ce757-2868-4b81-b188-a534a69b6600\">\n",
              "    <div class=\"colab-df-container\">\n",
              "      <div>\n",
              "<style scoped>\n",
              "    .dataframe tbody tr th:only-of-type {\n",
              "        vertical-align: middle;\n",
              "    }\n",
              "\n",
              "    .dataframe tbody tr th {\n",
              "        vertical-align: top;\n",
              "    }\n",
              "\n",
              "    .dataframe thead th {\n",
              "        text-align: right;\n",
              "    }\n",
              "</style>\n",
              "<table border=\"1\" class=\"dataframe\">\n",
              "  <thead>\n",
              "    <tr style=\"text-align: right;\">\n",
              "      <th></th>\n",
              "      <th>demographics.age</th>\n",
              "      <th>demographics.gender</th>\n",
              "      <th>location.citizenship</th>\n",
              "      <th>location.region</th>\n",
              "      <th>wealth.how.industry</th>\n",
              "      <th>wealth.how.inherited</th>\n",
              "    </tr>\n",
              "  </thead>\n",
              "  <tbody>\n",
              "    <tr>\n",
              "      <th>0</th>\n",
              "      <td>40</td>\n",
              "      <td>male</td>\n",
              "      <td>United States</td>\n",
              "      <td>North America</td>\n",
              "      <td>Technology-Computer</td>\n",
              "      <td>not inherited</td>\n",
              "    </tr>\n",
              "    <tr>\n",
              "      <th>1</th>\n",
              "      <td>45</td>\n",
              "      <td>male</td>\n",
              "      <td>United States</td>\n",
              "      <td>North America</td>\n",
              "      <td>Technology-Computer</td>\n",
              "      <td>not inherited</td>\n",
              "    </tr>\n",
              "    <tr>\n",
              "      <th>2</th>\n",
              "      <td>58</td>\n",
              "      <td>male</td>\n",
              "      <td>United States</td>\n",
              "      <td>North America</td>\n",
              "      <td>Technology-Computer</td>\n",
              "      <td>not inherited</td>\n",
              "    </tr>\n",
              "    <tr>\n",
              "      <th>3</th>\n",
              "      <td>65</td>\n",
              "      <td>male</td>\n",
              "      <td>United States</td>\n",
              "      <td>North America</td>\n",
              "      <td>Consumer</td>\n",
              "      <td>not inherited</td>\n",
              "    </tr>\n",
              "    <tr>\n",
              "      <th>4</th>\n",
              "      <td>70</td>\n",
              "      <td>male</td>\n",
              "      <td>United States</td>\n",
              "      <td>North America</td>\n",
              "      <td>Consumer</td>\n",
              "      <td>not inherited</td>\n",
              "    </tr>\n",
              "  </tbody>\n",
              "</table>\n",
              "</div>\n",
              "      <button class=\"colab-df-convert\" onclick=\"convertToInteractive('df-3a4ce757-2868-4b81-b188-a534a69b6600')\"\n",
              "              title=\"Convert this dataframe to an interactive table.\"\n",
              "              style=\"display:none;\">\n",
              "        \n",
              "  <svg xmlns=\"http://www.w3.org/2000/svg\" height=\"24px\"viewBox=\"0 0 24 24\"\n",
              "       width=\"24px\">\n",
              "    <path d=\"M0 0h24v24H0V0z\" fill=\"none\"/>\n",
              "    <path d=\"M18.56 5.44l.94 2.06.94-2.06 2.06-.94-2.06-.94-.94-2.06-.94 2.06-2.06.94zm-11 1L8.5 8.5l.94-2.06 2.06-.94-2.06-.94L8.5 2.5l-.94 2.06-2.06.94zm10 10l.94 2.06.94-2.06 2.06-.94-2.06-.94-.94-2.06-.94 2.06-2.06.94z\"/><path d=\"M17.41 7.96l-1.37-1.37c-.4-.4-.92-.59-1.43-.59-.52 0-1.04.2-1.43.59L10.3 9.45l-7.72 7.72c-.78.78-.78 2.05 0 2.83L4 21.41c.39.39.9.59 1.41.59.51 0 1.02-.2 1.41-.59l7.78-7.78 2.81-2.81c.8-.78.8-2.07 0-2.86zM5.41 20L4 18.59l7.72-7.72 1.47 1.35L5.41 20z\"/>\n",
              "  </svg>\n",
              "      </button>\n",
              "      \n",
              "  <style>\n",
              "    .colab-df-container {\n",
              "      display:flex;\n",
              "      flex-wrap:wrap;\n",
              "      gap: 12px;\n",
              "    }\n",
              "\n",
              "    .colab-df-convert {\n",
              "      background-color: #E8F0FE;\n",
              "      border: none;\n",
              "      border-radius: 50%;\n",
              "      cursor: pointer;\n",
              "      display: none;\n",
              "      fill: #1967D2;\n",
              "      height: 32px;\n",
              "      padding: 0 0 0 0;\n",
              "      width: 32px;\n",
              "    }\n",
              "\n",
              "    .colab-df-convert:hover {\n",
              "      background-color: #E2EBFA;\n",
              "      box-shadow: 0px 1px 2px rgba(60, 64, 67, 0.3), 0px 1px 3px 1px rgba(60, 64, 67, 0.15);\n",
              "      fill: #174EA6;\n",
              "    }\n",
              "\n",
              "    [theme=dark] .colab-df-convert {\n",
              "      background-color: #3B4455;\n",
              "      fill: #D2E3FC;\n",
              "    }\n",
              "\n",
              "    [theme=dark] .colab-df-convert:hover {\n",
              "      background-color: #434B5C;\n",
              "      box-shadow: 0px 1px 3px 1px rgba(0, 0, 0, 0.15);\n",
              "      filter: drop-shadow(0px 1px 2px rgba(0, 0, 0, 0.3));\n",
              "      fill: #FFFFFF;\n",
              "    }\n",
              "  </style>\n",
              "\n",
              "      <script>\n",
              "        const buttonEl =\n",
              "          document.querySelector('#df-3a4ce757-2868-4b81-b188-a534a69b6600 button.colab-df-convert');\n",
              "        buttonEl.style.display =\n",
              "          google.colab.kernel.accessAllowed ? 'block' : 'none';\n",
              "\n",
              "        async function convertToInteractive(key) {\n",
              "          const element = document.querySelector('#df-3a4ce757-2868-4b81-b188-a534a69b6600');\n",
              "          const dataTable =\n",
              "            await google.colab.kernel.invokeFunction('convertToInteractive',\n",
              "                                                     [key], {});\n",
              "          if (!dataTable) return;\n",
              "\n",
              "          const docLinkHtml = 'Like what you see? Visit the ' +\n",
              "            '<a target=\"_blank\" href=https://colab.research.google.com/notebooks/data_table.ipynb>data table notebook</a>'\n",
              "            + ' to learn more about interactive tables.';\n",
              "          element.innerHTML = '';\n",
              "          dataTable['output_type'] = 'display_data';\n",
              "          await google.colab.output.renderOutput(dataTable, element);\n",
              "          const docLink = document.createElement('div');\n",
              "          docLink.innerHTML = docLinkHtml;\n",
              "          element.appendChild(docLink);\n",
              "        }\n",
              "      </script>\n",
              "    </div>\n",
              "  </div>\n",
              "  "
            ]
          },
          "metadata": {},
          "execution_count": 4
        }
      ]
    },
    {
      "cell_type": "code",
      "source": [
        "billion_df.nunique()"
      ],
      "metadata": {
        "colab": {
          "base_uri": "https://localhost:8080/"
        },
        "id": "6i9KAugOkMQk",
        "outputId": "4780bc02-d9fb-4422-acc4-80a261f4bd24"
      },
      "execution_count": 5,
      "outputs": [
        {
          "output_type": "execute_result",
          "data": {
            "text/plain": [
              "demographics.age        76\n",
              "demographics.gender      3\n",
              "location.citizenship    73\n",
              "location.region          8\n",
              "wealth.how.industry     19\n",
              "wealth.how.inherited     6\n",
              "dtype: int64"
            ]
          },
          "metadata": {},
          "execution_count": 5
        }
      ]
    },
    {
      "cell_type": "code",
      "source": [
        "billion_df['location.citizenship'].value_counts()\n",
        "\n",
        "#good place for binning or bucketing\n",
        "# actually leave all in, even 1 values"
      ],
      "metadata": {
        "colab": {
          "base_uri": "https://localhost:8080/"
        },
        "id": "iHWYzjewk2xP",
        "outputId": "938b270c-607b-4c0e-f232-af6af191b01c"
      },
      "execution_count": 10,
      "outputs": [
        {
          "output_type": "execute_result",
          "data": {
            "text/plain": [
              "United States    903\n",
              "Germany          160\n",
              "China            153\n",
              "Russia           119\n",
              "Japan             96\n",
              "                ... \n",
              "Bahrain            1\n",
              "Ecuador            1\n",
              "Georgia            1\n",
              "Bermuda            1\n",
              "Tanzania           1\n",
              "Name: location.citizenship, Length: 73, dtype: int64"
            ]
          },
          "metadata": {},
          "execution_count": 10
        }
      ]
    },
    {
      "cell_type": "code",
      "source": [
        "billion_df['location.region'].value_counts()\n",
        "#remove null value here"
      ],
      "metadata": {
        "colab": {
          "base_uri": "https://localhost:8080/"
        },
        "id": "Kb7AAvp-EokF",
        "outputId": "b7fbddcb-c31a-4bc8-faaf-e3f47d956f4c"
      },
      "execution_count": 12,
      "outputs": [
        {
          "output_type": "execute_result",
          "data": {
            "text/plain": [
              "North America               992\n",
              "Europe                      698\n",
              "East Asia                   535\n",
              "Latin America               182\n",
              "Middle East/North Africa    117\n",
              "South Asia                   69\n",
              "Sub-Saharan Africa           20\n",
              "0                             1\n",
              "Name: location.region, dtype: int64"
            ]
          },
          "metadata": {},
          "execution_count": 12
        }
      ]
    },
    {
      "cell_type": "code",
      "source": [
        "billion_df['wealth.how.industry'].value_counts()\n",
        "\n",
        "#needs cleaning, combining\n",
        "#consider a spiral chart\n"
      ],
      "metadata": {
        "colab": {
          "base_uri": "https://localhost:8080/"
        },
        "id": "LvYOuOUIE6Al",
        "outputId": "cf665223-7ea0-46b7-ee12-22d22f1e3398"
      },
      "execution_count": 27,
      "outputs": [
        {
          "output_type": "execute_result",
          "data": {
            "text/plain": [
              "Consumer                           471\n",
              "Retail, Restaurant                 281\n",
              "Real Estate                        280\n",
              "Money Management                   249\n",
              "Media                              219\n",
              "Technology-Computer                208\n",
              "Diversified financial              167\n",
              "Energy                             132\n",
              "Technology-Medical                 111\n",
              "Non-consumer industrial            107\n",
              "Constrution                         97\n",
              "Mining and metals                   90\n",
              "Other                               83\n",
              "Hedge funds                         67\n",
              "Private equity/leveraged buyout     25\n",
              "0                                   16\n",
              "Venture Capital                      8\n",
              "banking                              1\n",
              "services                             1\n",
              "Name: wealth.how.industry, dtype: int64"
            ]
          },
          "metadata": {},
          "execution_count": 27
        }
      ]
    },
    {
      "cell_type": "code",
      "source": [
        "billion_df['wealth.how.inherited'].value_counts()\n",
        "#combine all columns that aren't \"not inherited\""
      ],
      "metadata": {
        "colab": {
          "base_uri": "https://localhost:8080/"
        },
        "id": "QFNJk7YwE6k_",
        "outputId": "a0f66af5-8f05-4172-eb17-4d1f0955596b"
      },
      "execution_count": 14,
      "outputs": [
        {
          "output_type": "execute_result",
          "data": {
            "text/plain": [
              "not inherited               1688\n",
              "father                       558\n",
              "3rd generation               210\n",
              "4th generation                68\n",
              "spouse/widow                  59\n",
              "5th generation or longer      31\n",
              "Name: wealth.how.inherited, dtype: int64"
            ]
          },
          "metadata": {},
          "execution_count": 14
        }
      ]
    },
    {
      "cell_type": "code",
      "source": [
        "billion_df['demographics.gender'].value_counts()\n",
        "#remove married couple "
      ],
      "metadata": {
        "colab": {
          "base_uri": "https://localhost:8080/"
        },
        "id": "mEGncuJOEQV_",
        "outputId": "9965099d-d022-4e85-b1b5-ee0d3f13ae5e"
      },
      "execution_count": 15,
      "outputs": [
        {
          "output_type": "execute_result",
          "data": {
            "text/plain": [
              "male              2328\n",
              "female             249\n",
              "married couple       3\n",
              "Name: demographics.gender, dtype: int64"
            ]
          },
          "metadata": {},
          "execution_count": 15
        }
      ]
    },
    {
      "cell_type": "code",
      "source": [
        "billion_df.duplicated().value_counts()"
      ],
      "metadata": {
        "colab": {
          "base_uri": "https://localhost:8080/"
        },
        "id": "JNPdDv-fH_62",
        "outputId": "584244d5-e4a1-40cc-ab3d-28183d04114a"
      },
      "execution_count": 17,
      "outputs": [
        {
          "output_type": "execute_result",
          "data": {
            "text/plain": [
              "False    2136\n",
              "True      478\n",
              "dtype: int64"
            ]
          },
          "metadata": {},
          "execution_count": 17
        }
      ]
    },
    {
      "cell_type": "code",
      "source": [
        "clean_gender = billion_df['demographics.gender']"
      ],
      "metadata": {
        "id": "afVDBhiklP1b"
      },
      "execution_count": 7,
      "outputs": []
    },
    {
      "cell_type": "code",
      "source": [
        "clean_gender"
      ],
      "metadata": {
        "colab": {
          "base_uri": "https://localhost:8080/"
        },
        "id": "mCZn9HZynO2f",
        "outputId": "d8c757fc-91f7-4bdb-862c-dbad63917d4c"
      },
      "execution_count": 8,
      "outputs": [
        {
          "output_type": "execute_result",
          "data": {
            "text/plain": [
              "0       male\n",
              "1       male\n",
              "2       male\n",
              "3       male\n",
              "4       male\n",
              "        ... \n",
              "2609    male\n",
              "2610    male\n",
              "2611    male\n",
              "2612    male\n",
              "2613    male\n",
              "Name: demographics.gender, Length: 2614, dtype: object"
            ]
          },
          "metadata": {},
          "execution_count": 8
        }
      ]
    },
    {
      "cell_type": "code",
      "source": [
        "if clean_gender == 'married couple':\n",
        "  (clean_gender['male'] + 1) + (clean_gender['female' + 1])"
      ],
      "metadata": {
        "colab": {
          "base_uri": "https://localhost:8080/",
          "height": 305
        },
        "id": "5odUL7qgl5uU",
        "outputId": "463bc7a0-5276-406d-ca26-4e5fad5bace1"
      },
      "execution_count": 9,
      "outputs": [
        {
          "output_type": "error",
          "ename": "ValueError",
          "evalue": "ignored",
          "traceback": [
            "\u001b[0;31m---------------------------------------------------------------------------\u001b[0m",
            "\u001b[0;31mValueError\u001b[0m                                Traceback (most recent call last)",
            "\u001b[0;32m<ipython-input-9-e404908826dc>\u001b[0m in \u001b[0;36m<module>\u001b[0;34m()\u001b[0m\n\u001b[0;32m----> 1\u001b[0;31m \u001b[0;32mif\u001b[0m \u001b[0mclean_gender\u001b[0m \u001b[0;34m==\u001b[0m \u001b[0;34m'married couple'\u001b[0m\u001b[0;34m:\u001b[0m\u001b[0;34m\u001b[0m\u001b[0;34m\u001b[0m\u001b[0m\n\u001b[0m\u001b[1;32m      2\u001b[0m   \u001b[0;34m(\u001b[0m\u001b[0mclean_gender\u001b[0m\u001b[0;34m[\u001b[0m\u001b[0;34m'male'\u001b[0m\u001b[0;34m]\u001b[0m \u001b[0;34m+\u001b[0m \u001b[0;36m1\u001b[0m\u001b[0;34m)\u001b[0m \u001b[0;34m+\u001b[0m \u001b[0;34m(\u001b[0m\u001b[0mclean_gender\u001b[0m\u001b[0;34m[\u001b[0m\u001b[0;34m'female'\u001b[0m \u001b[0;34m+\u001b[0m \u001b[0;36m1\u001b[0m\u001b[0;34m]\u001b[0m\u001b[0;34m)\u001b[0m\u001b[0;34m\u001b[0m\u001b[0;34m\u001b[0m\u001b[0m\n",
            "\u001b[0;32m/usr/local/lib/python3.7/dist-packages/pandas/core/generic.py\u001b[0m in \u001b[0;36m__nonzero__\u001b[0;34m(self)\u001b[0m\n\u001b[1;32m   1536\u001b[0m     \u001b[0;32mdef\u001b[0m \u001b[0m__nonzero__\u001b[0m\u001b[0;34m(\u001b[0m\u001b[0mself\u001b[0m\u001b[0;34m)\u001b[0m\u001b[0;34m:\u001b[0m\u001b[0;34m\u001b[0m\u001b[0;34m\u001b[0m\u001b[0m\n\u001b[1;32m   1537\u001b[0m         raise ValueError(\n\u001b[0;32m-> 1538\u001b[0;31m             \u001b[0;34mf\"The truth value of a {type(self).__name__} is ambiguous. \"\u001b[0m\u001b[0;34m\u001b[0m\u001b[0;34m\u001b[0m\u001b[0m\n\u001b[0m\u001b[1;32m   1539\u001b[0m             \u001b[0;34m\"Use a.empty, a.bool(), a.item(), a.any() or a.all().\"\u001b[0m\u001b[0;34m\u001b[0m\u001b[0;34m\u001b[0m\u001b[0m\n\u001b[1;32m   1540\u001b[0m         )\n",
            "\u001b[0;31mValueError\u001b[0m: The truth value of a Series is ambiguous. Use a.empty, a.bool(), a.item(), a.any() or a.all()."
          ]
        }
      ]
    },
    {
      "cell_type": "code",
      "source": [
        "billion_df = billion_df[billion_df.demographics.gender !='married couple']\n",
        "# Ref: https://www.statology.org/pandas-drop-rows-with-value/"
      ],
      "metadata": {
        "id": "o1PS_Sb_mw9C"
      },
      "execution_count": null,
      "outputs": []
    },
    {
      "cell_type": "code",
      "source": [
        "#Rename columns with simpler titles\n",
        "# Then get back to this dataframe error."
      ],
      "metadata": {
        "id": "ZCJHCD2moNnF"
      },
      "execution_count": null,
      "outputs": []
    },
    {
      "cell_type": "code",
      "source": [
        "billionaires_df = pd.read_csv(\"billionaires.csv\")\n",
        "billionaires_df.head(10)"
      ],
      "metadata": {
        "colab": {
          "base_uri": "https://localhost:8080/",
          "height": 717
        },
        "id": "iX20c3k8IWBL",
        "outputId": "30451c34-5d63-4fbe-94b3-61f6cde46779"
      },
      "execution_count": 26,
      "outputs": [
        {
          "output_type": "execute_result",
          "data": {
            "text/plain": [
              "                      name  rank  year  company.founded  \\\n",
              "0               Bill Gates     1  1996             1975   \n",
              "1               Bill Gates     1  2001             1975   \n",
              "2               Bill Gates     1  2014             1975   \n",
              "3           Warren Buffett     2  1996             1962   \n",
              "4           Warren Buffett     2  2001             1962   \n",
              "5         Carlos Slim Helu     2  2014             1990   \n",
              "6  Oeri Hoffman and Sacher     3  1996             1896   \n",
              "7               Paul Allen     3  2001             1975   \n",
              "8           Amancio Ortega     3  2014             1975   \n",
              "9             Lee Shau Kee     4  1996             1976   \n",
              "\n",
              "                 company.name company.relationship   company.sector  \\\n",
              "0                   Microsoft              founder         Software   \n",
              "1                   Microsoft              founder         Software   \n",
              "2                   Microsoft              founder         Software   \n",
              "3          Berkshire Hathaway              founder          Finance   \n",
              "4          Berkshire Hathaway              founder          Finance   \n",
              "5                      Telmex              founder   Communications   \n",
              "6        F. Hoffmann-La Roche                  NaN  pharmaceuticals   \n",
              "7                   Microsoft              founder       technology   \n",
              "8                        Zara              founder          Fashion   \n",
              "9  Henderson Land Development     founder/chairman      real estate   \n",
              "\n",
              "    company.type  demographics.age demographics.gender  ...  location.gdp  \\\n",
              "0            new                40                male  ...  8.100000e+12   \n",
              "1            new                45                male  ...  1.060000e+13   \n",
              "2            new                58                male  ...  0.000000e+00   \n",
              "3            new                65                male  ...  8.100000e+12   \n",
              "4            new                70                male  ...  1.060000e+13   \n",
              "5  privatization                74                male  ...  0.000000e+00   \n",
              "6            new                 0                 NaN  ...  3.300000e+11   \n",
              "7            new                48                male  ...  1.060000e+13   \n",
              "8            new                77                male  ...  0.000000e+00   \n",
              "9            new                68                male  ...  1.600000e+11   \n",
              "\n",
              "  location.region               wealth.type wealth.worth in billions  \\\n",
              "0   North America       founder non-finance                     18.5   \n",
              "1   North America       founder non-finance                     58.7   \n",
              "2   North America       founder non-finance                     76.0   \n",
              "3   North America       founder non-finance                     15.0   \n",
              "4   North America       founder non-finance                     32.3   \n",
              "5   Latin America  privatized and resources                     72.0   \n",
              "6          Europe                 inherited                     13.1   \n",
              "7   North America       founder non-finance                     30.4   \n",
              "8          Europe       founder non-finance                     64.0   \n",
              "9       East Asia         self-made finance                     12.7   \n",
              "\n",
              "  wealth.how.category  wealth.how.from emerging  wealth.how.industry  \\\n",
              "0         New Sectors                      True  Technology-Computer   \n",
              "1         New Sectors                      True  Technology-Computer   \n",
              "2         New Sectors                      True  Technology-Computer   \n",
              "3      Traded Sectors                      True             Consumer   \n",
              "4      Traded Sectors                      True             Consumer   \n",
              "5  Non-Traded Sectors                      True                Media   \n",
              "6         New Sectors                      True   Technology-Medical   \n",
              "7         New Sectors                      True  Technology-Computer   \n",
              "8  Non-Traded Sectors                      True   Retail, Restaurant   \n",
              "9           Financial                      True          Real Estate   \n",
              "\n",
              "   wealth.how.inherited wealth.how.was founder wealth.how.was political  \n",
              "0         not inherited                   True                     True  \n",
              "1         not inherited                   True                     True  \n",
              "2         not inherited                   True                     True  \n",
              "3         not inherited                   True                     True  \n",
              "4         not inherited                   True                     True  \n",
              "5         not inherited                   True                     True  \n",
              "6        3rd generation                   True                     True  \n",
              "7         not inherited                   True                     True  \n",
              "8         not inherited                   True                     True  \n",
              "9         not inherited                   True                     True  \n",
              "\n",
              "[10 rows x 22 columns]"
            ],
            "text/html": [
              "\n",
              "  <div id=\"df-68abc7ea-beba-4a14-b47e-c47f8551c3c3\">\n",
              "    <div class=\"colab-df-container\">\n",
              "      <div>\n",
              "<style scoped>\n",
              "    .dataframe tbody tr th:only-of-type {\n",
              "        vertical-align: middle;\n",
              "    }\n",
              "\n",
              "    .dataframe tbody tr th {\n",
              "        vertical-align: top;\n",
              "    }\n",
              "\n",
              "    .dataframe thead th {\n",
              "        text-align: right;\n",
              "    }\n",
              "</style>\n",
              "<table border=\"1\" class=\"dataframe\">\n",
              "  <thead>\n",
              "    <tr style=\"text-align: right;\">\n",
              "      <th></th>\n",
              "      <th>name</th>\n",
              "      <th>rank</th>\n",
              "      <th>year</th>\n",
              "      <th>company.founded</th>\n",
              "      <th>company.name</th>\n",
              "      <th>company.relationship</th>\n",
              "      <th>company.sector</th>\n",
              "      <th>company.type</th>\n",
              "      <th>demographics.age</th>\n",
              "      <th>demographics.gender</th>\n",
              "      <th>...</th>\n",
              "      <th>location.gdp</th>\n",
              "      <th>location.region</th>\n",
              "      <th>wealth.type</th>\n",
              "      <th>wealth.worth in billions</th>\n",
              "      <th>wealth.how.category</th>\n",
              "      <th>wealth.how.from emerging</th>\n",
              "      <th>wealth.how.industry</th>\n",
              "      <th>wealth.how.inherited</th>\n",
              "      <th>wealth.how.was founder</th>\n",
              "      <th>wealth.how.was political</th>\n",
              "    </tr>\n",
              "  </thead>\n",
              "  <tbody>\n",
              "    <tr>\n",
              "      <th>0</th>\n",
              "      <td>Bill Gates</td>\n",
              "      <td>1</td>\n",
              "      <td>1996</td>\n",
              "      <td>1975</td>\n",
              "      <td>Microsoft</td>\n",
              "      <td>founder</td>\n",
              "      <td>Software</td>\n",
              "      <td>new</td>\n",
              "      <td>40</td>\n",
              "      <td>male</td>\n",
              "      <td>...</td>\n",
              "      <td>8.100000e+12</td>\n",
              "      <td>North America</td>\n",
              "      <td>founder non-finance</td>\n",
              "      <td>18.5</td>\n",
              "      <td>New Sectors</td>\n",
              "      <td>True</td>\n",
              "      <td>Technology-Computer</td>\n",
              "      <td>not inherited</td>\n",
              "      <td>True</td>\n",
              "      <td>True</td>\n",
              "    </tr>\n",
              "    <tr>\n",
              "      <th>1</th>\n",
              "      <td>Bill Gates</td>\n",
              "      <td>1</td>\n",
              "      <td>2001</td>\n",
              "      <td>1975</td>\n",
              "      <td>Microsoft</td>\n",
              "      <td>founder</td>\n",
              "      <td>Software</td>\n",
              "      <td>new</td>\n",
              "      <td>45</td>\n",
              "      <td>male</td>\n",
              "      <td>...</td>\n",
              "      <td>1.060000e+13</td>\n",
              "      <td>North America</td>\n",
              "      <td>founder non-finance</td>\n",
              "      <td>58.7</td>\n",
              "      <td>New Sectors</td>\n",
              "      <td>True</td>\n",
              "      <td>Technology-Computer</td>\n",
              "      <td>not inherited</td>\n",
              "      <td>True</td>\n",
              "      <td>True</td>\n",
              "    </tr>\n",
              "    <tr>\n",
              "      <th>2</th>\n",
              "      <td>Bill Gates</td>\n",
              "      <td>1</td>\n",
              "      <td>2014</td>\n",
              "      <td>1975</td>\n",
              "      <td>Microsoft</td>\n",
              "      <td>founder</td>\n",
              "      <td>Software</td>\n",
              "      <td>new</td>\n",
              "      <td>58</td>\n",
              "      <td>male</td>\n",
              "      <td>...</td>\n",
              "      <td>0.000000e+00</td>\n",
              "      <td>North America</td>\n",
              "      <td>founder non-finance</td>\n",
              "      <td>76.0</td>\n",
              "      <td>New Sectors</td>\n",
              "      <td>True</td>\n",
              "      <td>Technology-Computer</td>\n",
              "      <td>not inherited</td>\n",
              "      <td>True</td>\n",
              "      <td>True</td>\n",
              "    </tr>\n",
              "    <tr>\n",
              "      <th>3</th>\n",
              "      <td>Warren Buffett</td>\n",
              "      <td>2</td>\n",
              "      <td>1996</td>\n",
              "      <td>1962</td>\n",
              "      <td>Berkshire Hathaway</td>\n",
              "      <td>founder</td>\n",
              "      <td>Finance</td>\n",
              "      <td>new</td>\n",
              "      <td>65</td>\n",
              "      <td>male</td>\n",
              "      <td>...</td>\n",
              "      <td>8.100000e+12</td>\n",
              "      <td>North America</td>\n",
              "      <td>founder non-finance</td>\n",
              "      <td>15.0</td>\n",
              "      <td>Traded Sectors</td>\n",
              "      <td>True</td>\n",
              "      <td>Consumer</td>\n",
              "      <td>not inherited</td>\n",
              "      <td>True</td>\n",
              "      <td>True</td>\n",
              "    </tr>\n",
              "    <tr>\n",
              "      <th>4</th>\n",
              "      <td>Warren Buffett</td>\n",
              "      <td>2</td>\n",
              "      <td>2001</td>\n",
              "      <td>1962</td>\n",
              "      <td>Berkshire Hathaway</td>\n",
              "      <td>founder</td>\n",
              "      <td>Finance</td>\n",
              "      <td>new</td>\n",
              "      <td>70</td>\n",
              "      <td>male</td>\n",
              "      <td>...</td>\n",
              "      <td>1.060000e+13</td>\n",
              "      <td>North America</td>\n",
              "      <td>founder non-finance</td>\n",
              "      <td>32.3</td>\n",
              "      <td>Traded Sectors</td>\n",
              "      <td>True</td>\n",
              "      <td>Consumer</td>\n",
              "      <td>not inherited</td>\n",
              "      <td>True</td>\n",
              "      <td>True</td>\n",
              "    </tr>\n",
              "    <tr>\n",
              "      <th>5</th>\n",
              "      <td>Carlos Slim Helu</td>\n",
              "      <td>2</td>\n",
              "      <td>2014</td>\n",
              "      <td>1990</td>\n",
              "      <td>Telmex</td>\n",
              "      <td>founder</td>\n",
              "      <td>Communications</td>\n",
              "      <td>privatization</td>\n",
              "      <td>74</td>\n",
              "      <td>male</td>\n",
              "      <td>...</td>\n",
              "      <td>0.000000e+00</td>\n",
              "      <td>Latin America</td>\n",
              "      <td>privatized and resources</td>\n",
              "      <td>72.0</td>\n",
              "      <td>Non-Traded Sectors</td>\n",
              "      <td>True</td>\n",
              "      <td>Media</td>\n",
              "      <td>not inherited</td>\n",
              "      <td>True</td>\n",
              "      <td>True</td>\n",
              "    </tr>\n",
              "    <tr>\n",
              "      <th>6</th>\n",
              "      <td>Oeri Hoffman and Sacher</td>\n",
              "      <td>3</td>\n",
              "      <td>1996</td>\n",
              "      <td>1896</td>\n",
              "      <td>F. Hoffmann-La Roche</td>\n",
              "      <td>NaN</td>\n",
              "      <td>pharmaceuticals</td>\n",
              "      <td>new</td>\n",
              "      <td>0</td>\n",
              "      <td>NaN</td>\n",
              "      <td>...</td>\n",
              "      <td>3.300000e+11</td>\n",
              "      <td>Europe</td>\n",
              "      <td>inherited</td>\n",
              "      <td>13.1</td>\n",
              "      <td>New Sectors</td>\n",
              "      <td>True</td>\n",
              "      <td>Technology-Medical</td>\n",
              "      <td>3rd generation</td>\n",
              "      <td>True</td>\n",
              "      <td>True</td>\n",
              "    </tr>\n",
              "    <tr>\n",
              "      <th>7</th>\n",
              "      <td>Paul Allen</td>\n",
              "      <td>3</td>\n",
              "      <td>2001</td>\n",
              "      <td>1975</td>\n",
              "      <td>Microsoft</td>\n",
              "      <td>founder</td>\n",
              "      <td>technology</td>\n",
              "      <td>new</td>\n",
              "      <td>48</td>\n",
              "      <td>male</td>\n",
              "      <td>...</td>\n",
              "      <td>1.060000e+13</td>\n",
              "      <td>North America</td>\n",
              "      <td>founder non-finance</td>\n",
              "      <td>30.4</td>\n",
              "      <td>New Sectors</td>\n",
              "      <td>True</td>\n",
              "      <td>Technology-Computer</td>\n",
              "      <td>not inherited</td>\n",
              "      <td>True</td>\n",
              "      <td>True</td>\n",
              "    </tr>\n",
              "    <tr>\n",
              "      <th>8</th>\n",
              "      <td>Amancio Ortega</td>\n",
              "      <td>3</td>\n",
              "      <td>2014</td>\n",
              "      <td>1975</td>\n",
              "      <td>Zara</td>\n",
              "      <td>founder</td>\n",
              "      <td>Fashion</td>\n",
              "      <td>new</td>\n",
              "      <td>77</td>\n",
              "      <td>male</td>\n",
              "      <td>...</td>\n",
              "      <td>0.000000e+00</td>\n",
              "      <td>Europe</td>\n",
              "      <td>founder non-finance</td>\n",
              "      <td>64.0</td>\n",
              "      <td>Non-Traded Sectors</td>\n",
              "      <td>True</td>\n",
              "      <td>Retail, Restaurant</td>\n",
              "      <td>not inherited</td>\n",
              "      <td>True</td>\n",
              "      <td>True</td>\n",
              "    </tr>\n",
              "    <tr>\n",
              "      <th>9</th>\n",
              "      <td>Lee Shau Kee</td>\n",
              "      <td>4</td>\n",
              "      <td>1996</td>\n",
              "      <td>1976</td>\n",
              "      <td>Henderson Land Development</td>\n",
              "      <td>founder/chairman</td>\n",
              "      <td>real estate</td>\n",
              "      <td>new</td>\n",
              "      <td>68</td>\n",
              "      <td>male</td>\n",
              "      <td>...</td>\n",
              "      <td>1.600000e+11</td>\n",
              "      <td>East Asia</td>\n",
              "      <td>self-made finance</td>\n",
              "      <td>12.7</td>\n",
              "      <td>Financial</td>\n",
              "      <td>True</td>\n",
              "      <td>Real Estate</td>\n",
              "      <td>not inherited</td>\n",
              "      <td>True</td>\n",
              "      <td>True</td>\n",
              "    </tr>\n",
              "  </tbody>\n",
              "</table>\n",
              "<p>10 rows × 22 columns</p>\n",
              "</div>\n",
              "      <button class=\"colab-df-convert\" onclick=\"convertToInteractive('df-68abc7ea-beba-4a14-b47e-c47f8551c3c3')\"\n",
              "              title=\"Convert this dataframe to an interactive table.\"\n",
              "              style=\"display:none;\">\n",
              "        \n",
              "  <svg xmlns=\"http://www.w3.org/2000/svg\" height=\"24px\"viewBox=\"0 0 24 24\"\n",
              "       width=\"24px\">\n",
              "    <path d=\"M0 0h24v24H0V0z\" fill=\"none\"/>\n",
              "    <path d=\"M18.56 5.44l.94 2.06.94-2.06 2.06-.94-2.06-.94-.94-2.06-.94 2.06-2.06.94zm-11 1L8.5 8.5l.94-2.06 2.06-.94-2.06-.94L8.5 2.5l-.94 2.06-2.06.94zm10 10l.94 2.06.94-2.06 2.06-.94-2.06-.94-.94-2.06-.94 2.06-2.06.94z\"/><path d=\"M17.41 7.96l-1.37-1.37c-.4-.4-.92-.59-1.43-.59-.52 0-1.04.2-1.43.59L10.3 9.45l-7.72 7.72c-.78.78-.78 2.05 0 2.83L4 21.41c.39.39.9.59 1.41.59.51 0 1.02-.2 1.41-.59l7.78-7.78 2.81-2.81c.8-.78.8-2.07 0-2.86zM5.41 20L4 18.59l7.72-7.72 1.47 1.35L5.41 20z\"/>\n",
              "  </svg>\n",
              "      </button>\n",
              "      \n",
              "  <style>\n",
              "    .colab-df-container {\n",
              "      display:flex;\n",
              "      flex-wrap:wrap;\n",
              "      gap: 12px;\n",
              "    }\n",
              "\n",
              "    .colab-df-convert {\n",
              "      background-color: #E8F0FE;\n",
              "      border: none;\n",
              "      border-radius: 50%;\n",
              "      cursor: pointer;\n",
              "      display: none;\n",
              "      fill: #1967D2;\n",
              "      height: 32px;\n",
              "      padding: 0 0 0 0;\n",
              "      width: 32px;\n",
              "    }\n",
              "\n",
              "    .colab-df-convert:hover {\n",
              "      background-color: #E2EBFA;\n",
              "      box-shadow: 0px 1px 2px rgba(60, 64, 67, 0.3), 0px 1px 3px 1px rgba(60, 64, 67, 0.15);\n",
              "      fill: #174EA6;\n",
              "    }\n",
              "\n",
              "    [theme=dark] .colab-df-convert {\n",
              "      background-color: #3B4455;\n",
              "      fill: #D2E3FC;\n",
              "    }\n",
              "\n",
              "    [theme=dark] .colab-df-convert:hover {\n",
              "      background-color: #434B5C;\n",
              "      box-shadow: 0px 1px 3px 1px rgba(0, 0, 0, 0.15);\n",
              "      filter: drop-shadow(0px 1px 2px rgba(0, 0, 0, 0.3));\n",
              "      fill: #FFFFFF;\n",
              "    }\n",
              "  </style>\n",
              "\n",
              "      <script>\n",
              "        const buttonEl =\n",
              "          document.querySelector('#df-68abc7ea-beba-4a14-b47e-c47f8551c3c3 button.colab-df-convert');\n",
              "        buttonEl.style.display =\n",
              "          google.colab.kernel.accessAllowed ? 'block' : 'none';\n",
              "\n",
              "        async function convertToInteractive(key) {\n",
              "          const element = document.querySelector('#df-68abc7ea-beba-4a14-b47e-c47f8551c3c3');\n",
              "          const dataTable =\n",
              "            await google.colab.kernel.invokeFunction('convertToInteractive',\n",
              "                                                     [key], {});\n",
              "          if (!dataTable) return;\n",
              "\n",
              "          const docLinkHtml = 'Like what you see? Visit the ' +\n",
              "            '<a target=\"_blank\" href=https://colab.research.google.com/notebooks/data_table.ipynb>data table notebook</a>'\n",
              "            + ' to learn more about interactive tables.';\n",
              "          element.innerHTML = '';\n",
              "          dataTable['output_type'] = 'display_data';\n",
              "          await google.colab.output.renderOutput(dataTable, element);\n",
              "          const docLink = document.createElement('div');\n",
              "          docLink.innerHTML = docLinkHtml;\n",
              "          element.appendChild(docLink);\n",
              "        }\n",
              "      </script>\n",
              "    </div>\n",
              "  </div>\n",
              "  "
            ]
          },
          "metadata": {},
          "execution_count": 26
        }
      ]
    },
    {
      "cell_type": "code",
      "source": [
        "multi_bills = billionaires_df.duplicated(subset='name')\n",
        "multi_bills.value_counts()"
      ],
      "metadata": {
        "colab": {
          "base_uri": "https://localhost:8080/"
        },
        "id": "8ECdJBIVIcKR",
        "outputId": "9bf0f1ec-9ead-482d-f00c-b94d3093da86"
      },
      "execution_count": 25,
      "outputs": [
        {
          "output_type": "execute_result",
          "data": {
            "text/plain": [
              "False    2077\n",
              "True      537\n",
              "dtype: int64"
            ]
          },
          "metadata": {},
          "execution_count": 25
        }
      ]
    },
    {
      "cell_type": "code",
      "source": [
        ""
      ],
      "metadata": {
        "id": "l58hJiCEIlny"
      },
      "execution_count": null,
      "outputs": []
    }
  ]
}