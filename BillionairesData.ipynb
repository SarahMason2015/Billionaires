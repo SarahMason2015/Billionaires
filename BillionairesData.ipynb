{
  "nbformat": 4,
  "nbformat_minor": 0,
  "metadata": {
    "colab": {
      "name": "BillionairesData.ipynb",
      "provenance": [],
      "authorship_tag": "ABX9TyN5lzyhY5noOcM3fs7OS4wE",
      "include_colab_link": true
    },
    "kernelspec": {
      "name": "python3",
      "display_name": "Python 3"
    },
    "language_info": {
      "name": "python"
    }
  },
  "cells": [
    {
      "cell_type": "markdown",
      "metadata": {
        "id": "view-in-github",
        "colab_type": "text"
      },
      "source": [
        "<a href=\"https://colab.research.google.com/github/SarahMason2015/Billionaires/blob/main/BillionairesData.ipynb\" target=\"_parent\"><img src=\"https://colab.research.google.com/assets/colab-badge.svg\" alt=\"Open In Colab\"/></a>"
      ]
    },
    {
      "cell_type": "code",
      "execution_count": 44,
      "metadata": {
        "id": "AMrWPOtRhj6D"
      },
      "outputs": [],
      "source": [
        "# Import our dependencies\n",
        "import pandas as pd\n",
        "import matplotlib as plt\n",
        "import sklearn as skl\n",
        "import tensorflow as tf"
      ]
    },
    {
      "cell_type": "code",
      "source": [
        "billion_df = pd.read_csv(\"billionaires_dataset.csv\")\n",
        "billion_df.head()"
      ],
      "metadata": {
        "colab": {
          "base_uri": "https://localhost:8080/",
          "height": 270
        },
        "id": "6Dcpg0S3jePk",
        "outputId": "186d4469-c8b0-417b-ae65-18c4537af286"
      },
      "execution_count": 45,
      "outputs": [
        {
          "output_type": "execute_result",
          "data": {
            "text/plain": [
              "   company.founded  demographics.age demographics.gender location.citizenship  \\\n",
              "0             1975                40                male        United States   \n",
              "1             1975                45                male        United States   \n",
              "2             1975                58                male        United States   \n",
              "3             1962                65                male        United States   \n",
              "4             1962                70                male        United States   \n",
              "\n",
              "  location.region  wealth.how.industry wealth.how.inherited  \n",
              "0   North America  Technology-Computer        not inherited  \n",
              "1   North America  Technology-Computer        not inherited  \n",
              "2   North America  Technology-Computer        not inherited  \n",
              "3   North America             Consumer        not inherited  \n",
              "4   North America             Consumer        not inherited  "
            ],
            "text/html": [
              "\n",
              "  <div id=\"df-c2f7397e-ada7-49f1-a5a4-6a4553c44836\">\n",
              "    <div class=\"colab-df-container\">\n",
              "      <div>\n",
              "<style scoped>\n",
              "    .dataframe tbody tr th:only-of-type {\n",
              "        vertical-align: middle;\n",
              "    }\n",
              "\n",
              "    .dataframe tbody tr th {\n",
              "        vertical-align: top;\n",
              "    }\n",
              "\n",
              "    .dataframe thead th {\n",
              "        text-align: right;\n",
              "    }\n",
              "</style>\n",
              "<table border=\"1\" class=\"dataframe\">\n",
              "  <thead>\n",
              "    <tr style=\"text-align: right;\">\n",
              "      <th></th>\n",
              "      <th>company.founded</th>\n",
              "      <th>demographics.age</th>\n",
              "      <th>demographics.gender</th>\n",
              "      <th>location.citizenship</th>\n",
              "      <th>location.region</th>\n",
              "      <th>wealth.how.industry</th>\n",
              "      <th>wealth.how.inherited</th>\n",
              "    </tr>\n",
              "  </thead>\n",
              "  <tbody>\n",
              "    <tr>\n",
              "      <th>0</th>\n",
              "      <td>1975</td>\n",
              "      <td>40</td>\n",
              "      <td>male</td>\n",
              "      <td>United States</td>\n",
              "      <td>North America</td>\n",
              "      <td>Technology-Computer</td>\n",
              "      <td>not inherited</td>\n",
              "    </tr>\n",
              "    <tr>\n",
              "      <th>1</th>\n",
              "      <td>1975</td>\n",
              "      <td>45</td>\n",
              "      <td>male</td>\n",
              "      <td>United States</td>\n",
              "      <td>North America</td>\n",
              "      <td>Technology-Computer</td>\n",
              "      <td>not inherited</td>\n",
              "    </tr>\n",
              "    <tr>\n",
              "      <th>2</th>\n",
              "      <td>1975</td>\n",
              "      <td>58</td>\n",
              "      <td>male</td>\n",
              "      <td>United States</td>\n",
              "      <td>North America</td>\n",
              "      <td>Technology-Computer</td>\n",
              "      <td>not inherited</td>\n",
              "    </tr>\n",
              "    <tr>\n",
              "      <th>3</th>\n",
              "      <td>1962</td>\n",
              "      <td>65</td>\n",
              "      <td>male</td>\n",
              "      <td>United States</td>\n",
              "      <td>North America</td>\n",
              "      <td>Consumer</td>\n",
              "      <td>not inherited</td>\n",
              "    </tr>\n",
              "    <tr>\n",
              "      <th>4</th>\n",
              "      <td>1962</td>\n",
              "      <td>70</td>\n",
              "      <td>male</td>\n",
              "      <td>United States</td>\n",
              "      <td>North America</td>\n",
              "      <td>Consumer</td>\n",
              "      <td>not inherited</td>\n",
              "    </tr>\n",
              "  </tbody>\n",
              "</table>\n",
              "</div>\n",
              "      <button class=\"colab-df-convert\" onclick=\"convertToInteractive('df-c2f7397e-ada7-49f1-a5a4-6a4553c44836')\"\n",
              "              title=\"Convert this dataframe to an interactive table.\"\n",
              "              style=\"display:none;\">\n",
              "        \n",
              "  <svg xmlns=\"http://www.w3.org/2000/svg\" height=\"24px\"viewBox=\"0 0 24 24\"\n",
              "       width=\"24px\">\n",
              "    <path d=\"M0 0h24v24H0V0z\" fill=\"none\"/>\n",
              "    <path d=\"M18.56 5.44l.94 2.06.94-2.06 2.06-.94-2.06-.94-.94-2.06-.94 2.06-2.06.94zm-11 1L8.5 8.5l.94-2.06 2.06-.94-2.06-.94L8.5 2.5l-.94 2.06-2.06.94zm10 10l.94 2.06.94-2.06 2.06-.94-2.06-.94-.94-2.06-.94 2.06-2.06.94z\"/><path d=\"M17.41 7.96l-1.37-1.37c-.4-.4-.92-.59-1.43-.59-.52 0-1.04.2-1.43.59L10.3 9.45l-7.72 7.72c-.78.78-.78 2.05 0 2.83L4 21.41c.39.39.9.59 1.41.59.51 0 1.02-.2 1.41-.59l7.78-7.78 2.81-2.81c.8-.78.8-2.07 0-2.86zM5.41 20L4 18.59l7.72-7.72 1.47 1.35L5.41 20z\"/>\n",
              "  </svg>\n",
              "      </button>\n",
              "      \n",
              "  <style>\n",
              "    .colab-df-container {\n",
              "      display:flex;\n",
              "      flex-wrap:wrap;\n",
              "      gap: 12px;\n",
              "    }\n",
              "\n",
              "    .colab-df-convert {\n",
              "      background-color: #E8F0FE;\n",
              "      border: none;\n",
              "      border-radius: 50%;\n",
              "      cursor: pointer;\n",
              "      display: none;\n",
              "      fill: #1967D2;\n",
              "      height: 32px;\n",
              "      padding: 0 0 0 0;\n",
              "      width: 32px;\n",
              "    }\n",
              "\n",
              "    .colab-df-convert:hover {\n",
              "      background-color: #E2EBFA;\n",
              "      box-shadow: 0px 1px 2px rgba(60, 64, 67, 0.3), 0px 1px 3px 1px rgba(60, 64, 67, 0.15);\n",
              "      fill: #174EA6;\n",
              "    }\n",
              "\n",
              "    [theme=dark] .colab-df-convert {\n",
              "      background-color: #3B4455;\n",
              "      fill: #D2E3FC;\n",
              "    }\n",
              "\n",
              "    [theme=dark] .colab-df-convert:hover {\n",
              "      background-color: #434B5C;\n",
              "      box-shadow: 0px 1px 3px 1px rgba(0, 0, 0, 0.15);\n",
              "      filter: drop-shadow(0px 1px 2px rgba(0, 0, 0, 0.3));\n",
              "      fill: #FFFFFF;\n",
              "    }\n",
              "  </style>\n",
              "\n",
              "      <script>\n",
              "        const buttonEl =\n",
              "          document.querySelector('#df-c2f7397e-ada7-49f1-a5a4-6a4553c44836 button.colab-df-convert');\n",
              "        buttonEl.style.display =\n",
              "          google.colab.kernel.accessAllowed ? 'block' : 'none';\n",
              "\n",
              "        async function convertToInteractive(key) {\n",
              "          const element = document.querySelector('#df-c2f7397e-ada7-49f1-a5a4-6a4553c44836');\n",
              "          const dataTable =\n",
              "            await google.colab.kernel.invokeFunction('convertToInteractive',\n",
              "                                                     [key], {});\n",
              "          if (!dataTable) return;\n",
              "\n",
              "          const docLinkHtml = 'Like what you see? Visit the ' +\n",
              "            '<a target=\"_blank\" href=https://colab.research.google.com/notebooks/data_table.ipynb>data table notebook</a>'\n",
              "            + ' to learn more about interactive tables.';\n",
              "          element.innerHTML = '';\n",
              "          dataTable['output_type'] = 'display_data';\n",
              "          await google.colab.output.renderOutput(dataTable, element);\n",
              "          const docLink = document.createElement('div');\n",
              "          docLink.innerHTML = docLinkHtml;\n",
              "          element.appendChild(docLink);\n",
              "        }\n",
              "      </script>\n",
              "    </div>\n",
              "  </div>\n",
              "  "
            ]
          },
          "metadata": {},
          "execution_count": 45
        }
      ]
    },
    {
      "cell_type": "code",
      "source": [
        "billion_df.drop('company.founded', axis = 1, inplace = True)"
      ],
      "metadata": {
        "id": "VmFx0Z2Qj-h2"
      },
      "execution_count": 46,
      "outputs": []
    },
    {
      "cell_type": "code",
      "source": [
        "billion_df.head(5)"
      ],
      "metadata": {
        "colab": {
          "base_uri": "https://localhost:8080/",
          "height": 270
        },
        "id": "MxRkOPglkJrg",
        "outputId": "2c83ce5c-0a18-4052-a90f-f4118fb00ab3"
      },
      "execution_count": 47,
      "outputs": [
        {
          "output_type": "execute_result",
          "data": {
            "text/plain": [
              "   demographics.age demographics.gender location.citizenship location.region  \\\n",
              "0                40                male        United States   North America   \n",
              "1                45                male        United States   North America   \n",
              "2                58                male        United States   North America   \n",
              "3                65                male        United States   North America   \n",
              "4                70                male        United States   North America   \n",
              "\n",
              "   wealth.how.industry wealth.how.inherited  \n",
              "0  Technology-Computer        not inherited  \n",
              "1  Technology-Computer        not inherited  \n",
              "2  Technology-Computer        not inherited  \n",
              "3             Consumer        not inherited  \n",
              "4             Consumer        not inherited  "
            ],
            "text/html": [
              "\n",
              "  <div id=\"df-d85a949c-2420-4d05-94c1-f3c04139b904\">\n",
              "    <div class=\"colab-df-container\">\n",
              "      <div>\n",
              "<style scoped>\n",
              "    .dataframe tbody tr th:only-of-type {\n",
              "        vertical-align: middle;\n",
              "    }\n",
              "\n",
              "    .dataframe tbody tr th {\n",
              "        vertical-align: top;\n",
              "    }\n",
              "\n",
              "    .dataframe thead th {\n",
              "        text-align: right;\n",
              "    }\n",
              "</style>\n",
              "<table border=\"1\" class=\"dataframe\">\n",
              "  <thead>\n",
              "    <tr style=\"text-align: right;\">\n",
              "      <th></th>\n",
              "      <th>demographics.age</th>\n",
              "      <th>demographics.gender</th>\n",
              "      <th>location.citizenship</th>\n",
              "      <th>location.region</th>\n",
              "      <th>wealth.how.industry</th>\n",
              "      <th>wealth.how.inherited</th>\n",
              "    </tr>\n",
              "  </thead>\n",
              "  <tbody>\n",
              "    <tr>\n",
              "      <th>0</th>\n",
              "      <td>40</td>\n",
              "      <td>male</td>\n",
              "      <td>United States</td>\n",
              "      <td>North America</td>\n",
              "      <td>Technology-Computer</td>\n",
              "      <td>not inherited</td>\n",
              "    </tr>\n",
              "    <tr>\n",
              "      <th>1</th>\n",
              "      <td>45</td>\n",
              "      <td>male</td>\n",
              "      <td>United States</td>\n",
              "      <td>North America</td>\n",
              "      <td>Technology-Computer</td>\n",
              "      <td>not inherited</td>\n",
              "    </tr>\n",
              "    <tr>\n",
              "      <th>2</th>\n",
              "      <td>58</td>\n",
              "      <td>male</td>\n",
              "      <td>United States</td>\n",
              "      <td>North America</td>\n",
              "      <td>Technology-Computer</td>\n",
              "      <td>not inherited</td>\n",
              "    </tr>\n",
              "    <tr>\n",
              "      <th>3</th>\n",
              "      <td>65</td>\n",
              "      <td>male</td>\n",
              "      <td>United States</td>\n",
              "      <td>North America</td>\n",
              "      <td>Consumer</td>\n",
              "      <td>not inherited</td>\n",
              "    </tr>\n",
              "    <tr>\n",
              "      <th>4</th>\n",
              "      <td>70</td>\n",
              "      <td>male</td>\n",
              "      <td>United States</td>\n",
              "      <td>North America</td>\n",
              "      <td>Consumer</td>\n",
              "      <td>not inherited</td>\n",
              "    </tr>\n",
              "  </tbody>\n",
              "</table>\n",
              "</div>\n",
              "      <button class=\"colab-df-convert\" onclick=\"convertToInteractive('df-d85a949c-2420-4d05-94c1-f3c04139b904')\"\n",
              "              title=\"Convert this dataframe to an interactive table.\"\n",
              "              style=\"display:none;\">\n",
              "        \n",
              "  <svg xmlns=\"http://www.w3.org/2000/svg\" height=\"24px\"viewBox=\"0 0 24 24\"\n",
              "       width=\"24px\">\n",
              "    <path d=\"M0 0h24v24H0V0z\" fill=\"none\"/>\n",
              "    <path d=\"M18.56 5.44l.94 2.06.94-2.06 2.06-.94-2.06-.94-.94-2.06-.94 2.06-2.06.94zm-11 1L8.5 8.5l.94-2.06 2.06-.94-2.06-.94L8.5 2.5l-.94 2.06-2.06.94zm10 10l.94 2.06.94-2.06 2.06-.94-2.06-.94-.94-2.06-.94 2.06-2.06.94z\"/><path d=\"M17.41 7.96l-1.37-1.37c-.4-.4-.92-.59-1.43-.59-.52 0-1.04.2-1.43.59L10.3 9.45l-7.72 7.72c-.78.78-.78 2.05 0 2.83L4 21.41c.39.39.9.59 1.41.59.51 0 1.02-.2 1.41-.59l7.78-7.78 2.81-2.81c.8-.78.8-2.07 0-2.86zM5.41 20L4 18.59l7.72-7.72 1.47 1.35L5.41 20z\"/>\n",
              "  </svg>\n",
              "      </button>\n",
              "      \n",
              "  <style>\n",
              "    .colab-df-container {\n",
              "      display:flex;\n",
              "      flex-wrap:wrap;\n",
              "      gap: 12px;\n",
              "    }\n",
              "\n",
              "    .colab-df-convert {\n",
              "      background-color: #E8F0FE;\n",
              "      border: none;\n",
              "      border-radius: 50%;\n",
              "      cursor: pointer;\n",
              "      display: none;\n",
              "      fill: #1967D2;\n",
              "      height: 32px;\n",
              "      padding: 0 0 0 0;\n",
              "      width: 32px;\n",
              "    }\n",
              "\n",
              "    .colab-df-convert:hover {\n",
              "      background-color: #E2EBFA;\n",
              "      box-shadow: 0px 1px 2px rgba(60, 64, 67, 0.3), 0px 1px 3px 1px rgba(60, 64, 67, 0.15);\n",
              "      fill: #174EA6;\n",
              "    }\n",
              "\n",
              "    [theme=dark] .colab-df-convert {\n",
              "      background-color: #3B4455;\n",
              "      fill: #D2E3FC;\n",
              "    }\n",
              "\n",
              "    [theme=dark] .colab-df-convert:hover {\n",
              "      background-color: #434B5C;\n",
              "      box-shadow: 0px 1px 3px 1px rgba(0, 0, 0, 0.15);\n",
              "      filter: drop-shadow(0px 1px 2px rgba(0, 0, 0, 0.3));\n",
              "      fill: #FFFFFF;\n",
              "    }\n",
              "  </style>\n",
              "\n",
              "      <script>\n",
              "        const buttonEl =\n",
              "          document.querySelector('#df-d85a949c-2420-4d05-94c1-f3c04139b904 button.colab-df-convert');\n",
              "        buttonEl.style.display =\n",
              "          google.colab.kernel.accessAllowed ? 'block' : 'none';\n",
              "\n",
              "        async function convertToInteractive(key) {\n",
              "          const element = document.querySelector('#df-d85a949c-2420-4d05-94c1-f3c04139b904');\n",
              "          const dataTable =\n",
              "            await google.colab.kernel.invokeFunction('convertToInteractive',\n",
              "                                                     [key], {});\n",
              "          if (!dataTable) return;\n",
              "\n",
              "          const docLinkHtml = 'Like what you see? Visit the ' +\n",
              "            '<a target=\"_blank\" href=https://colab.research.google.com/notebooks/data_table.ipynb>data table notebook</a>'\n",
              "            + ' to learn more about interactive tables.';\n",
              "          element.innerHTML = '';\n",
              "          dataTable['output_type'] = 'display_data';\n",
              "          await google.colab.output.renderOutput(dataTable, element);\n",
              "          const docLink = document.createElement('div');\n",
              "          docLink.innerHTML = docLinkHtml;\n",
              "          element.appendChild(docLink);\n",
              "        }\n",
              "      </script>\n",
              "    </div>\n",
              "  </div>\n",
              "  "
            ]
          },
          "metadata": {},
          "execution_count": 47
        }
      ]
    },
    {
      "cell_type": "code",
      "source": [
        "zero = billion_df.loc[billion_df['location.region'] == 0]\n",
        "zero"
      ],
      "metadata": {
        "colab": {
          "base_uri": "https://localhost:8080/",
          "height": 113
        },
        "id": "HPvJueDOZ6wH",
        "outputId": "49c922ac-cc6a-45cd-ac4d-06efd1599419"
      },
      "execution_count": 48,
      "outputs": [
        {
          "output_type": "execute_result",
          "data": {
            "text/plain": [
              "Empty DataFrame\n",
              "Columns: [demographics.age, demographics.gender, location.citizenship, location.region, wealth.how.industry, wealth.how.inherited]\n",
              "Index: []"
            ],
            "text/html": [
              "\n",
              "  <div id=\"df-fff32e6f-1b4c-4631-8763-fe9a92199422\">\n",
              "    <div class=\"colab-df-container\">\n",
              "      <div>\n",
              "<style scoped>\n",
              "    .dataframe tbody tr th:only-of-type {\n",
              "        vertical-align: middle;\n",
              "    }\n",
              "\n",
              "    .dataframe tbody tr th {\n",
              "        vertical-align: top;\n",
              "    }\n",
              "\n",
              "    .dataframe thead th {\n",
              "        text-align: right;\n",
              "    }\n",
              "</style>\n",
              "<table border=\"1\" class=\"dataframe\">\n",
              "  <thead>\n",
              "    <tr style=\"text-align: right;\">\n",
              "      <th></th>\n",
              "      <th>demographics.age</th>\n",
              "      <th>demographics.gender</th>\n",
              "      <th>location.citizenship</th>\n",
              "      <th>location.region</th>\n",
              "      <th>wealth.how.industry</th>\n",
              "      <th>wealth.how.inherited</th>\n",
              "    </tr>\n",
              "  </thead>\n",
              "  <tbody>\n",
              "  </tbody>\n",
              "</table>\n",
              "</div>\n",
              "      <button class=\"colab-df-convert\" onclick=\"convertToInteractive('df-fff32e6f-1b4c-4631-8763-fe9a92199422')\"\n",
              "              title=\"Convert this dataframe to an interactive table.\"\n",
              "              style=\"display:none;\">\n",
              "        \n",
              "  <svg xmlns=\"http://www.w3.org/2000/svg\" height=\"24px\"viewBox=\"0 0 24 24\"\n",
              "       width=\"24px\">\n",
              "    <path d=\"M0 0h24v24H0V0z\" fill=\"none\"/>\n",
              "    <path d=\"M18.56 5.44l.94 2.06.94-2.06 2.06-.94-2.06-.94-.94-2.06-.94 2.06-2.06.94zm-11 1L8.5 8.5l.94-2.06 2.06-.94-2.06-.94L8.5 2.5l-.94 2.06-2.06.94zm10 10l.94 2.06.94-2.06 2.06-.94-2.06-.94-.94-2.06-.94 2.06-2.06.94z\"/><path d=\"M17.41 7.96l-1.37-1.37c-.4-.4-.92-.59-1.43-.59-.52 0-1.04.2-1.43.59L10.3 9.45l-7.72 7.72c-.78.78-.78 2.05 0 2.83L4 21.41c.39.39.9.59 1.41.59.51 0 1.02-.2 1.41-.59l7.78-7.78 2.81-2.81c.8-.78.8-2.07 0-2.86zM5.41 20L4 18.59l7.72-7.72 1.47 1.35L5.41 20z\"/>\n",
              "  </svg>\n",
              "      </button>\n",
              "      \n",
              "  <style>\n",
              "    .colab-df-container {\n",
              "      display:flex;\n",
              "      flex-wrap:wrap;\n",
              "      gap: 12px;\n",
              "    }\n",
              "\n",
              "    .colab-df-convert {\n",
              "      background-color: #E8F0FE;\n",
              "      border: none;\n",
              "      border-radius: 50%;\n",
              "      cursor: pointer;\n",
              "      display: none;\n",
              "      fill: #1967D2;\n",
              "      height: 32px;\n",
              "      padding: 0 0 0 0;\n",
              "      width: 32px;\n",
              "    }\n",
              "\n",
              "    .colab-df-convert:hover {\n",
              "      background-color: #E2EBFA;\n",
              "      box-shadow: 0px 1px 2px rgba(60, 64, 67, 0.3), 0px 1px 3px 1px rgba(60, 64, 67, 0.15);\n",
              "      fill: #174EA6;\n",
              "    }\n",
              "\n",
              "    [theme=dark] .colab-df-convert {\n",
              "      background-color: #3B4455;\n",
              "      fill: #D2E3FC;\n",
              "    }\n",
              "\n",
              "    [theme=dark] .colab-df-convert:hover {\n",
              "      background-color: #434B5C;\n",
              "      box-shadow: 0px 1px 3px 1px rgba(0, 0, 0, 0.15);\n",
              "      filter: drop-shadow(0px 1px 2px rgba(0, 0, 0, 0.3));\n",
              "      fill: #FFFFFF;\n",
              "    }\n",
              "  </style>\n",
              "\n",
              "      <script>\n",
              "        const buttonEl =\n",
              "          document.querySelector('#df-fff32e6f-1b4c-4631-8763-fe9a92199422 button.colab-df-convert');\n",
              "        buttonEl.style.display =\n",
              "          google.colab.kernel.accessAllowed ? 'block' : 'none';\n",
              "\n",
              "        async function convertToInteractive(key) {\n",
              "          const element = document.querySelector('#df-fff32e6f-1b4c-4631-8763-fe9a92199422');\n",
              "          const dataTable =\n",
              "            await google.colab.kernel.invokeFunction('convertToInteractive',\n",
              "                                                     [key], {});\n",
              "          if (!dataTable) return;\n",
              "\n",
              "          const docLinkHtml = 'Like what you see? Visit the ' +\n",
              "            '<a target=\"_blank\" href=https://colab.research.google.com/notebooks/data_table.ipynb>data table notebook</a>'\n",
              "            + ' to learn more about interactive tables.';\n",
              "          element.innerHTML = '';\n",
              "          dataTable['output_type'] = 'display_data';\n",
              "          await google.colab.output.renderOutput(dataTable, element);\n",
              "          const docLink = document.createElement('div');\n",
              "          docLink.innerHTML = docLinkHtml;\n",
              "          element.appendChild(docLink);\n",
              "        }\n",
              "      </script>\n",
              "    </div>\n",
              "  </div>\n",
              "  "
            ]
          },
          "metadata": {},
          "execution_count": 48
        }
      ]
    },
    {
      "cell_type": "code",
      "source": [
        "billion_df.nunique()"
      ],
      "metadata": {
        "colab": {
          "base_uri": "https://localhost:8080/"
        },
        "id": "6i9KAugOkMQk",
        "outputId": "fab14ed5-29ba-42a2-90c7-1ccbcaa42123"
      },
      "execution_count": 49,
      "outputs": [
        {
          "output_type": "execute_result",
          "data": {
            "text/plain": [
              "demographics.age        76\n",
              "demographics.gender      3\n",
              "location.citizenship    73\n",
              "location.region          7\n",
              "wealth.how.industry     19\n",
              "wealth.how.inherited     6\n",
              "dtype: int64"
            ]
          },
          "metadata": {},
          "execution_count": 49
        }
      ]
    },
    {
      "cell_type": "code",
      "source": [
        "billion_df['location.citizenship'].value_counts()\n",
        "\n",
        "#good place for binning or bucketing\n",
        "# actually leave all in, even 1 values"
      ],
      "metadata": {
        "colab": {
          "base_uri": "https://localhost:8080/"
        },
        "id": "iHWYzjewk2xP",
        "outputId": "98f643a2-3152-40dc-c9c0-cb049d6424a1"
      },
      "execution_count": 50,
      "outputs": [
        {
          "output_type": "execute_result",
          "data": {
            "text/plain": [
              "United States    903\n",
              "Germany          160\n",
              "China            153\n",
              "Russia           119\n",
              "Japan             96\n",
              "                ... \n",
              "Bahrain            1\n",
              "Ecuador            1\n",
              "Georgia            1\n",
              "Bermuda            1\n",
              "Tanzania           1\n",
              "Name: location.citizenship, Length: 73, dtype: int64"
            ]
          },
          "metadata": {},
          "execution_count": 50
        }
      ]
    },
    {
      "cell_type": "code",
      "source": [
        "billion_df['location.region'].value_counts()\n",
        "#remove null value here\n",
        "#Ben"
      ],
      "metadata": {
        "colab": {
          "base_uri": "https://localhost:8080/"
        },
        "id": "Kb7AAvp-EokF",
        "outputId": "8bc0ccba-d479-4ec6-f32a-b44fb6f7b7c4"
      },
      "execution_count": 51,
      "outputs": [
        {
          "output_type": "execute_result",
          "data": {
            "text/plain": [
              "North America               993\n",
              "Europe                      698\n",
              "East Asia                   535\n",
              "Latin America               182\n",
              "Middle East/North Africa    117\n",
              "South Asia                   69\n",
              "Sub-Saharan Africa           20\n",
              "Name: location.region, dtype: int64"
            ]
          },
          "metadata": {},
          "execution_count": 51
        }
      ]
    },
    {
      "cell_type": "code",
      "source": [
        "billion_df['wealth.how.industry'].value_counts()\n",
        "\n",
        "#needs cleaning, combining\n",
        "#consider a spiral chart\n",
        "#ANDREW will combine several of these columns with the help of his tutor on Tuesday\n"
      ],
      "metadata": {
        "colab": {
          "base_uri": "https://localhost:8080/"
        },
        "id": "LvYOuOUIE6Al",
        "outputId": "1b4cd77c-f8c6-4a3f-f50f-9f1cca59b3a9"
      },
      "execution_count": 52,
      "outputs": [
        {
          "output_type": "execute_result",
          "data": {
            "text/plain": [
              "Consumer                           471\n",
              "Retail, Restaurant                 281\n",
              "Real Estate                        280\n",
              "Money Management                   249\n",
              "Media                              219\n",
              "Technology-Computer                208\n",
              "Diversified financial              167\n",
              "Energy                             132\n",
              "Technology-Medical                 111\n",
              "Non-consumer industrial            107\n",
              "Constrution                         97\n",
              "Mining and metals                   90\n",
              "Other                               83\n",
              "Hedge funds                         67\n",
              "Private equity/leveraged buyout     25\n",
              "0                                   16\n",
              "Venture Capital                      8\n",
              "banking                              1\n",
              "services                             1\n",
              "Name: wealth.how.industry, dtype: int64"
            ]
          },
          "metadata": {},
          "execution_count": 52
        }
      ]
    },
    {
      "cell_type": "code",
      "source": [
        "billion_df['wealth.how.industry'] = billion_df[\"wealth.how.industry\"].replace({'Money Management': 'Financial'})\n",
        "billion_df['wealth.how.industry'] = billion_df[\"wealth.how.industry\"].replace({'Diversified financial': 'Financial'})\n",
        "billion_df['wealth.how.industry'] = billion_df[\"wealth.how.industry\"].replace({'Hedge funds': 'Financial'})\n",
        "billion_df['wealth.how.industry'] = billion_df[\"wealth.how.industry\"].replace({'banking': 'Financial'})\n",
        "billion_df['wealth.how.industry'] = billion_df[\"wealth.how.industry\"].replace({'Venture Capital': 'Financial'})\n",
        "billion_df['wealth.how.industry'] = billion_df[\"wealth.how.industry\"].replace({'Private equity/leveraged buyout': 'Financial'})\n",
        "billion_df['wealth.how.industry'] = billion_df[\"wealth.how.industry\"].replace({'Technology-Computer': 'Technology'})\n",
        "billion_df['wealth.how.industry'] = billion_df[\"wealth.how.industry\"].replace({'Technology-Medical': 'Technology'})\n",
        "billion_df['wealth.how.industry'] = billion_df[\"wealth.how.industry\"].replace({'Constrution': 'Construction'})\n",
        "billion_df['wealth.how.industry'] = billion_df[\"wealth.how.industry\"].replace({'Non-consumer industrial': 'Construction'})\n",
        "billion_df['wealth.how.industry'] = billion_df[\"wealth.how.industry\"].replace({'Mining and metals': 'Construction'})\n",
        "billion_df['wealth.how.industry'] = billion_df[\"wealth.how.industry\"].replace({'0': 'Other'})\n",
        "billion_df['wealth.how.industry'] = billion_df[\"wealth.how.industry\"].replace({'services': 'Consumer'})\n",
        "billion_df['wealth.how.industry'].value_counts()\n"
      ],
      "metadata": {
        "colab": {
          "base_uri": "https://localhost:8080/"
        },
        "id": "tYHAGvrenQN8",
        "outputId": "a85c6a15-5d4f-4b2f-bf1a-6e659112dd36"
      },
      "execution_count": 53,
      "outputs": [
        {
          "output_type": "execute_result",
          "data": {
            "text/plain": [
              "Financial             517\n",
              "Consumer              472\n",
              "Technology            319\n",
              "Construction          294\n",
              "Retail, Restaurant    281\n",
              "Real Estate           280\n",
              "Media                 219\n",
              "Energy                132\n",
              "Other                  99\n",
              "Name: wealth.how.industry, dtype: int64"
            ]
          },
          "metadata": {},
          "execution_count": 53
        }
      ]
    },
    {
      "cell_type": "code",
      "source": [
        "billion_df['wealth.how.inherited'].value_counts()\n",
        "#combine all columns that aren't \"not inherited\". Combine all non-\"non inherited\" columns.\n",
        "#Sarah will do this"
      ],
      "metadata": {
        "colab": {
          "base_uri": "https://localhost:8080/"
        },
        "id": "QFNJk7YwE6k_",
        "outputId": "40870959-1191-4a99-de03-e6fba433447f"
      },
      "execution_count": 54,
      "outputs": [
        {
          "output_type": "execute_result",
          "data": {
            "text/plain": [
              "not inherited               1688\n",
              "father                       558\n",
              "3rd generation               210\n",
              "4th generation                68\n",
              "spouse/widow                  59\n",
              "5th generation or longer      31\n",
              "Name: wealth.how.inherited, dtype: int64"
            ]
          },
          "metadata": {},
          "execution_count": 54
        }
      ]
    },
    {
      "cell_type": "code",
      "source": [
        "billion_df['wealth.how.inherited'] = billion_df[\"wealth.how.inherited\"].replace({'5th generation or longer': 'inherited'})\n",
        "billion_df['wealth.how.inherited'] = billion_df[\"wealth.how.inherited\"].replace({'spouse/widow': 'inherited'})\n",
        "billion_df['wealth.how.inherited'] = billion_df[\"wealth.how.inherited\"].replace({'father': 'inherited'})\n",
        "billion_df['wealth.how.inherited'] = billion_df[\"wealth.how.inherited\"].replace({'4th generation': 'inherited'})\n",
        "billion_df['wealth.how.inherited'] = billion_df[\"wealth.how.inherited\"].replace({'3rd generation': 'inherited'})\n",
        "billion_df['wealth.how.inherited'].value_counts()\n"
      ],
      "metadata": {
        "colab": {
          "base_uri": "https://localhost:8080/"
        },
        "id": "KTXcCr2qooQ0",
        "outputId": "d64932fd-27c6-453e-d8de-f9c83cb4037b"
      },
      "execution_count": 55,
      "outputs": [
        {
          "output_type": "execute_result",
          "data": {
            "text/plain": [
              "not inherited    1688\n",
              "inherited         926\n",
              "Name: wealth.how.inherited, dtype: int64"
            ]
          },
          "metadata": {},
          "execution_count": 55
        }
      ]
    },
    {
      "cell_type": "code",
      "source": [
        "billion_df['demographics.gender'].value_counts()\n",
        "#remove married couple \n",
        "#Ben. Remove these \"married couple\" rows from the datafram"
      ],
      "metadata": {
        "colab": {
          "base_uri": "https://localhost:8080/"
        },
        "id": "mEGncuJOEQV_",
        "outputId": "23d4c47d-3309-4641-93e6-631d8df93dba"
      },
      "execution_count": 56,
      "outputs": [
        {
          "output_type": "execute_result",
          "data": {
            "text/plain": [
              "male              2328\n",
              "female             249\n",
              "married couple       3\n",
              "Name: demographics.gender, dtype: int64"
            ]
          },
          "metadata": {},
          "execution_count": 56
        }
      ]
    },
    {
      "cell_type": "code",
      "source": [
        "billion_df.to_csv('billionaires_clean.csv')"
      ],
      "metadata": {
        "id": "0wtw4OkU57CN"
      },
      "execution_count": 62,
      "outputs": []
    },
    {
      "cell_type": "code",
      "source": [
        "billion_df.duplicated().value_counts()"
      ],
      "metadata": {
        "colab": {
          "base_uri": "https://localhost:8080/"
        },
        "id": "JNPdDv-fH_62",
        "outputId": "a3984bb3-f549-4fb9-ef1d-00b9f25370bf"
      },
      "execution_count": 57,
      "outputs": [
        {
          "output_type": "execute_result",
          "data": {
            "text/plain": [
              "False    1983\n",
              "True      631\n",
              "dtype: int64"
            ]
          },
          "metadata": {},
          "execution_count": 57
        }
      ]
    },
    {
      "cell_type": "code",
      "source": [
        "billion_df"
      ],
      "metadata": {
        "colab": {
          "base_uri": "https://localhost:8080/",
          "height": 488
        },
        "id": "obt_1W4l5Zxe",
        "outputId": "0768f051-ad04-4a39-e353-7d533ec67fef"
      },
      "execution_count": 61,
      "outputs": [
        {
          "output_type": "execute_result",
          "data": {
            "text/plain": [
              "      demographics.age demographics.gender location.citizenship  \\\n",
              "0                   40                male        United States   \n",
              "1                   45                male        United States   \n",
              "2                   58                male        United States   \n",
              "3                   65                male        United States   \n",
              "4                   70                male        United States   \n",
              "...                ...                 ...                  ...   \n",
              "2609                55                male               Taiwan   \n",
              "2610                 0                male                China   \n",
              "2611                53                male                China   \n",
              "2612                53                male       Czech Republic   \n",
              "2613                48                male                China   \n",
              "\n",
              "     location.region wealth.how.industry wealth.how.inherited  \n",
              "0      North America          Technology        not inherited  \n",
              "1      North America          Technology        not inherited  \n",
              "2      North America          Technology        not inherited  \n",
              "3      North America            Consumer        not inherited  \n",
              "4      North America            Consumer        not inherited  \n",
              "...              ...                 ...                  ...  \n",
              "2609       East Asia        Construction        not inherited  \n",
              "2610       East Asia            Consumer        not inherited  \n",
              "2611       East Asia         Real Estate        not inherited  \n",
              "2612          Europe        Construction        not inherited  \n",
              "2613       East Asia          Technology        not inherited  \n",
              "\n",
              "[2614 rows x 6 columns]"
            ],
            "text/html": [
              "\n",
              "  <div id=\"df-3e00c7af-52e4-4bb2-8109-20f227534cfb\">\n",
              "    <div class=\"colab-df-container\">\n",
              "      <div>\n",
              "<style scoped>\n",
              "    .dataframe tbody tr th:only-of-type {\n",
              "        vertical-align: middle;\n",
              "    }\n",
              "\n",
              "    .dataframe tbody tr th {\n",
              "        vertical-align: top;\n",
              "    }\n",
              "\n",
              "    .dataframe thead th {\n",
              "        text-align: right;\n",
              "    }\n",
              "</style>\n",
              "<table border=\"1\" class=\"dataframe\">\n",
              "  <thead>\n",
              "    <tr style=\"text-align: right;\">\n",
              "      <th></th>\n",
              "      <th>demographics.age</th>\n",
              "      <th>demographics.gender</th>\n",
              "      <th>location.citizenship</th>\n",
              "      <th>location.region</th>\n",
              "      <th>wealth.how.industry</th>\n",
              "      <th>wealth.how.inherited</th>\n",
              "    </tr>\n",
              "  </thead>\n",
              "  <tbody>\n",
              "    <tr>\n",
              "      <th>0</th>\n",
              "      <td>40</td>\n",
              "      <td>male</td>\n",
              "      <td>United States</td>\n",
              "      <td>North America</td>\n",
              "      <td>Technology</td>\n",
              "      <td>not inherited</td>\n",
              "    </tr>\n",
              "    <tr>\n",
              "      <th>1</th>\n",
              "      <td>45</td>\n",
              "      <td>male</td>\n",
              "      <td>United States</td>\n",
              "      <td>North America</td>\n",
              "      <td>Technology</td>\n",
              "      <td>not inherited</td>\n",
              "    </tr>\n",
              "    <tr>\n",
              "      <th>2</th>\n",
              "      <td>58</td>\n",
              "      <td>male</td>\n",
              "      <td>United States</td>\n",
              "      <td>North America</td>\n",
              "      <td>Technology</td>\n",
              "      <td>not inherited</td>\n",
              "    </tr>\n",
              "    <tr>\n",
              "      <th>3</th>\n",
              "      <td>65</td>\n",
              "      <td>male</td>\n",
              "      <td>United States</td>\n",
              "      <td>North America</td>\n",
              "      <td>Consumer</td>\n",
              "      <td>not inherited</td>\n",
              "    </tr>\n",
              "    <tr>\n",
              "      <th>4</th>\n",
              "      <td>70</td>\n",
              "      <td>male</td>\n",
              "      <td>United States</td>\n",
              "      <td>North America</td>\n",
              "      <td>Consumer</td>\n",
              "      <td>not inherited</td>\n",
              "    </tr>\n",
              "    <tr>\n",
              "      <th>...</th>\n",
              "      <td>...</td>\n",
              "      <td>...</td>\n",
              "      <td>...</td>\n",
              "      <td>...</td>\n",
              "      <td>...</td>\n",
              "      <td>...</td>\n",
              "    </tr>\n",
              "    <tr>\n",
              "      <th>2609</th>\n",
              "      <td>55</td>\n",
              "      <td>male</td>\n",
              "      <td>Taiwan</td>\n",
              "      <td>East Asia</td>\n",
              "      <td>Construction</td>\n",
              "      <td>not inherited</td>\n",
              "    </tr>\n",
              "    <tr>\n",
              "      <th>2610</th>\n",
              "      <td>0</td>\n",
              "      <td>male</td>\n",
              "      <td>China</td>\n",
              "      <td>East Asia</td>\n",
              "      <td>Consumer</td>\n",
              "      <td>not inherited</td>\n",
              "    </tr>\n",
              "    <tr>\n",
              "      <th>2611</th>\n",
              "      <td>53</td>\n",
              "      <td>male</td>\n",
              "      <td>China</td>\n",
              "      <td>East Asia</td>\n",
              "      <td>Real Estate</td>\n",
              "      <td>not inherited</td>\n",
              "    </tr>\n",
              "    <tr>\n",
              "      <th>2612</th>\n",
              "      <td>53</td>\n",
              "      <td>male</td>\n",
              "      <td>Czech Republic</td>\n",
              "      <td>Europe</td>\n",
              "      <td>Construction</td>\n",
              "      <td>not inherited</td>\n",
              "    </tr>\n",
              "    <tr>\n",
              "      <th>2613</th>\n",
              "      <td>48</td>\n",
              "      <td>male</td>\n",
              "      <td>China</td>\n",
              "      <td>East Asia</td>\n",
              "      <td>Technology</td>\n",
              "      <td>not inherited</td>\n",
              "    </tr>\n",
              "  </tbody>\n",
              "</table>\n",
              "<p>2614 rows × 6 columns</p>\n",
              "</div>\n",
              "      <button class=\"colab-df-convert\" onclick=\"convertToInteractive('df-3e00c7af-52e4-4bb2-8109-20f227534cfb')\"\n",
              "              title=\"Convert this dataframe to an interactive table.\"\n",
              "              style=\"display:none;\">\n",
              "        \n",
              "  <svg xmlns=\"http://www.w3.org/2000/svg\" height=\"24px\"viewBox=\"0 0 24 24\"\n",
              "       width=\"24px\">\n",
              "    <path d=\"M0 0h24v24H0V0z\" fill=\"none\"/>\n",
              "    <path d=\"M18.56 5.44l.94 2.06.94-2.06 2.06-.94-2.06-.94-.94-2.06-.94 2.06-2.06.94zm-11 1L8.5 8.5l.94-2.06 2.06-.94-2.06-.94L8.5 2.5l-.94 2.06-2.06.94zm10 10l.94 2.06.94-2.06 2.06-.94-2.06-.94-.94-2.06-.94 2.06-2.06.94z\"/><path d=\"M17.41 7.96l-1.37-1.37c-.4-.4-.92-.59-1.43-.59-.52 0-1.04.2-1.43.59L10.3 9.45l-7.72 7.72c-.78.78-.78 2.05 0 2.83L4 21.41c.39.39.9.59 1.41.59.51 0 1.02-.2 1.41-.59l7.78-7.78 2.81-2.81c.8-.78.8-2.07 0-2.86zM5.41 20L4 18.59l7.72-7.72 1.47 1.35L5.41 20z\"/>\n",
              "  </svg>\n",
              "      </button>\n",
              "      \n",
              "  <style>\n",
              "    .colab-df-container {\n",
              "      display:flex;\n",
              "      flex-wrap:wrap;\n",
              "      gap: 12px;\n",
              "    }\n",
              "\n",
              "    .colab-df-convert {\n",
              "      background-color: #E8F0FE;\n",
              "      border: none;\n",
              "      border-radius: 50%;\n",
              "      cursor: pointer;\n",
              "      display: none;\n",
              "      fill: #1967D2;\n",
              "      height: 32px;\n",
              "      padding: 0 0 0 0;\n",
              "      width: 32px;\n",
              "    }\n",
              "\n",
              "    .colab-df-convert:hover {\n",
              "      background-color: #E2EBFA;\n",
              "      box-shadow: 0px 1px 2px rgba(60, 64, 67, 0.3), 0px 1px 3px 1px rgba(60, 64, 67, 0.15);\n",
              "      fill: #174EA6;\n",
              "    }\n",
              "\n",
              "    [theme=dark] .colab-df-convert {\n",
              "      background-color: #3B4455;\n",
              "      fill: #D2E3FC;\n",
              "    }\n",
              "\n",
              "    [theme=dark] .colab-df-convert:hover {\n",
              "      background-color: #434B5C;\n",
              "      box-shadow: 0px 1px 3px 1px rgba(0, 0, 0, 0.15);\n",
              "      filter: drop-shadow(0px 1px 2px rgba(0, 0, 0, 0.3));\n",
              "      fill: #FFFFFF;\n",
              "    }\n",
              "  </style>\n",
              "\n",
              "      <script>\n",
              "        const buttonEl =\n",
              "          document.querySelector('#df-3e00c7af-52e4-4bb2-8109-20f227534cfb button.colab-df-convert');\n",
              "        buttonEl.style.display =\n",
              "          google.colab.kernel.accessAllowed ? 'block' : 'none';\n",
              "\n",
              "        async function convertToInteractive(key) {\n",
              "          const element = document.querySelector('#df-3e00c7af-52e4-4bb2-8109-20f227534cfb');\n",
              "          const dataTable =\n",
              "            await google.colab.kernel.invokeFunction('convertToInteractive',\n",
              "                                                     [key], {});\n",
              "          if (!dataTable) return;\n",
              "\n",
              "          const docLinkHtml = 'Like what you see? Visit the ' +\n",
              "            '<a target=\"_blank\" href=https://colab.research.google.com/notebooks/data_table.ipynb>data table notebook</a>'\n",
              "            + ' to learn more about interactive tables.';\n",
              "          element.innerHTML = '';\n",
              "          dataTable['output_type'] = 'display_data';\n",
              "          await google.colab.output.renderOutput(dataTable, element);\n",
              "          const docLink = document.createElement('div');\n",
              "          docLink.innerHTML = docLinkHtml;\n",
              "          element.appendChild(docLink);\n",
              "        }\n",
              "      </script>\n",
              "    </div>\n",
              "  </div>\n",
              "  "
            ]
          },
          "metadata": {},
          "execution_count": 61
        }
      ]
    },
    {
      "cell_type": "code",
      "source": [
        ""
      ],
      "metadata": {
        "id": "V8YOhYTR5j2r"
      },
      "execution_count": null,
      "outputs": []
    },
    {
      "cell_type": "code",
      "source": [
        "clean_gender = billion_df['demographics.gender']"
      ],
      "metadata": {
        "id": "afVDBhiklP1b"
      },
      "execution_count": 58,
      "outputs": []
    },
    {
      "cell_type": "code",
      "source": [
        "clean_gender"
      ],
      "metadata": {
        "colab": {
          "base_uri": "https://localhost:8080/"
        },
        "id": "mCZn9HZynO2f",
        "outputId": "8de14bef-1c26-411d-e6ed-0088ae548274"
      },
      "execution_count": 59,
      "outputs": [
        {
          "output_type": "execute_result",
          "data": {
            "text/plain": [
              "0       male\n",
              "1       male\n",
              "2       male\n",
              "3       male\n",
              "4       male\n",
              "        ... \n",
              "2609    male\n",
              "2610    male\n",
              "2611    male\n",
              "2612    male\n",
              "2613    male\n",
              "Name: demographics.gender, Length: 2614, dtype: object"
            ]
          },
          "metadata": {},
          "execution_count": 59
        }
      ]
    },
    {
      "cell_type": "code",
      "source": [
        "if clean_gender == 'married couple':\n",
        "  (clean_gender['male'] + 1) + (clean_gender['female' + 1])"
      ],
      "metadata": {
        "colab": {
          "base_uri": "https://localhost:8080/",
          "height": 322
        },
        "id": "5odUL7qgl5uU",
        "outputId": "f2ea17f5-0e54-4bdd-cad7-9c1869754ef9"
      },
      "execution_count": 60,
      "outputs": [
        {
          "output_type": "error",
          "ename": "ValueError",
          "evalue": "ignored",
          "traceback": [
            "\u001b[0;31m---------------------------------------------------------------------------\u001b[0m",
            "\u001b[0;31mValueError\u001b[0m                                Traceback (most recent call last)",
            "\u001b[0;32m<ipython-input-60-e404908826dc>\u001b[0m in \u001b[0;36m<module>\u001b[0;34m()\u001b[0m\n\u001b[0;32m----> 1\u001b[0;31m \u001b[0;32mif\u001b[0m \u001b[0mclean_gender\u001b[0m \u001b[0;34m==\u001b[0m \u001b[0;34m'married couple'\u001b[0m\u001b[0;34m:\u001b[0m\u001b[0;34m\u001b[0m\u001b[0;34m\u001b[0m\u001b[0m\n\u001b[0m\u001b[1;32m      2\u001b[0m   \u001b[0;34m(\u001b[0m\u001b[0mclean_gender\u001b[0m\u001b[0;34m[\u001b[0m\u001b[0;34m'male'\u001b[0m\u001b[0;34m]\u001b[0m \u001b[0;34m+\u001b[0m \u001b[0;36m1\u001b[0m\u001b[0;34m)\u001b[0m \u001b[0;34m+\u001b[0m \u001b[0;34m(\u001b[0m\u001b[0mclean_gender\u001b[0m\u001b[0;34m[\u001b[0m\u001b[0;34m'female'\u001b[0m \u001b[0;34m+\u001b[0m \u001b[0;36m1\u001b[0m\u001b[0;34m]\u001b[0m\u001b[0;34m)\u001b[0m\u001b[0;34m\u001b[0m\u001b[0;34m\u001b[0m\u001b[0m\n",
            "\u001b[0;32m/usr/local/lib/python3.7/dist-packages/pandas/core/generic.py\u001b[0m in \u001b[0;36m__nonzero__\u001b[0;34m(self)\u001b[0m\n\u001b[1;32m   1536\u001b[0m     \u001b[0;32mdef\u001b[0m \u001b[0m__nonzero__\u001b[0m\u001b[0;34m(\u001b[0m\u001b[0mself\u001b[0m\u001b[0;34m)\u001b[0m\u001b[0;34m:\u001b[0m\u001b[0;34m\u001b[0m\u001b[0;34m\u001b[0m\u001b[0m\n\u001b[1;32m   1537\u001b[0m         raise ValueError(\n\u001b[0;32m-> 1538\u001b[0;31m             \u001b[0;34mf\"The truth value of a {type(self).__name__} is ambiguous. \"\u001b[0m\u001b[0;34m\u001b[0m\u001b[0;34m\u001b[0m\u001b[0m\n\u001b[0m\u001b[1;32m   1539\u001b[0m             \u001b[0;34m\"Use a.empty, a.bool(), a.item(), a.any() or a.all().\"\u001b[0m\u001b[0;34m\u001b[0m\u001b[0;34m\u001b[0m\u001b[0m\n\u001b[1;32m   1540\u001b[0m         )\n",
            "\u001b[0;31mValueError\u001b[0m: The truth value of a Series is ambiguous. Use a.empty, a.bool(), a.item(), a.any() or a.all()."
          ]
        }
      ]
    },
    {
      "cell_type": "code",
      "source": [
        "billion_df = billion_df[billion_df.demographics.gender !='married couple']\n",
        "# Ref: https://www.statology.org/pandas-drop-rows-with-value/"
      ],
      "metadata": {
        "id": "o1PS_Sb_mw9C"
      },
      "execution_count": null,
      "outputs": []
    },
    {
      "cell_type": "code",
      "source": [
        "#Rename columns with simpler titles\n",
        "# Then get back to this dataframe error."
      ],
      "metadata": {
        "id": "ZCJHCD2moNnF"
      },
      "execution_count": null,
      "outputs": []
    },
    {
      "cell_type": "code",
      "source": [
        "billionaires_df = pd.read_csv(\"billionaires.csv\")\n",
        "billionaires_df.head(10)"
      ],
      "metadata": {
        "id": "iX20c3k8IWBL"
      },
      "execution_count": null,
      "outputs": []
    },
    {
      "cell_type": "code",
      "source": [
        "multi_bills = billionaires_df.duplicated(subset='name')\n",
        "multi_bills.value_counts()"
      ],
      "metadata": {
        "id": "8ECdJBIVIcKR"
      },
      "execution_count": null,
      "outputs": []
    },
    {
      "cell_type": "code",
      "source": [
        ""
      ],
      "metadata": {
        "id": "l58hJiCEIlny"
      },
      "execution_count": null,
      "outputs": []
    }
  ]
}