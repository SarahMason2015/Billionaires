{
 "cells": [
  {
   "cell_type": "markdown",
   "metadata": {
    "colab_type": "text",
    "id": "view-in-github"
   },
   "source": [
    "<a href=\"https://colab.research.google.com/github/SarahMason2015/Billionaires/blob/main/BillionairesData.ipynb\" target=\"_parent\"><img src=\"https://colab.research.google.com/assets/colab-badge.svg\" alt=\"Open In Colab\"/></a>"
   ]
  },
  {
   "cell_type": "code",
   "execution_count": 1,
   "metadata": {
    "id": "AMrWPOtRhj6D"
   },
   "outputs": [],
   "source": [
    "# Import our dependencies\n",
    "import pandas as pd\n",
    "import matplotlib as plt\n",
    "import sklearn as skl\n",
    "import tensorflow as tf"
   ]
  },
  {
   "cell_type": "code",
   "execution_count": 2,
   "metadata": {
    "colab": {
     "base_uri": "https://localhost:8080/",
     "height": 206
    },
    "id": "6Dcpg0S3jePk",
    "outputId": "30f4ad4a-f969-492c-c848-99b50b81f567"
   },
   "outputs": [
    {
     "data": {
      "text/html": [
       "<div>\n",
       "<style scoped>\n",
       "    .dataframe tbody tr th:only-of-type {\n",
       "        vertical-align: middle;\n",
       "    }\n",
       "\n",
       "    .dataframe tbody tr th {\n",
       "        vertical-align: top;\n",
       "    }\n",
       "\n",
       "    .dataframe thead th {\n",
       "        text-align: right;\n",
       "    }\n",
       "</style>\n",
       "<table border=\"1\" class=\"dataframe\">\n",
       "  <thead>\n",
       "    <tr style=\"text-align: right;\">\n",
       "      <th></th>\n",
       "      <th>country</th>\n",
       "      <th>numBils</th>\n",
       "      <th>bilsPerMil</th>\n",
       "    </tr>\n",
       "  </thead>\n",
       "  <tbody>\n",
       "    <tr>\n",
       "      <th>0</th>\n",
       "      <td>United States</td>\n",
       "      <td>724</td>\n",
       "      <td>1.853</td>\n",
       "    </tr>\n",
       "    <tr>\n",
       "      <th>1</th>\n",
       "      <td>China</td>\n",
       "      <td>698</td>\n",
       "      <td>0.276</td>\n",
       "    </tr>\n",
       "    <tr>\n",
       "      <th>2</th>\n",
       "      <td>India</td>\n",
       "      <td>237</td>\n",
       "      <td>0.171</td>\n",
       "    </tr>\n",
       "    <tr>\n",
       "      <th>3</th>\n",
       "      <td>Germany</td>\n",
       "      <td>136</td>\n",
       "      <td>1.553</td>\n",
       "    </tr>\n",
       "    <tr>\n",
       "      <th>4</th>\n",
       "      <td>Russia</td>\n",
       "      <td>117</td>\n",
       "      <td>0.677</td>\n",
       "    </tr>\n",
       "  </tbody>\n",
       "</table>\n",
       "</div>"
      ],
      "text/plain": [
       "         country  numBils  bilsPerMil\n",
       "0  United States      724       1.853\n",
       "1          China      698       0.276\n",
       "2          India      237       0.171\n",
       "3        Germany      136       1.553\n",
       "4         Russia      117       0.677"
      ]
     },
     "execution_count": 2,
     "metadata": {},
     "output_type": "execute_result"
    }
   ],
   "source": [
    "countries_df = pd.read_csv(\"resources/billionairesBYcountry.csv\")\n",
    "countries_df.head()"
   ]
  },
  {
   "cell_type": "code",
   "execution_count": 3,
   "metadata": {
    "colab": {
     "base_uri": "https://localhost:8080/"
    },
    "id": "6i9KAugOkMQk",
    "outputId": "4780bc02-d9fb-4422-acc4-80a261f4bd24"
   },
   "outputs": [
    {
     "data": {
      "text/plain": [
       "country       71\n",
       "numBils       32\n",
       "bilsPerMil    68\n",
       "dtype: int64"
      ]
     },
     "execution_count": 3,
     "metadata": {},
     "output_type": "execute_result"
    }
   ],
   "source": [
    "countries_df.nunique()"
   ]
  },
  {
   "cell_type": "code",
   "execution_count": 4,
   "metadata": {
    "colab": {
     "base_uri": "https://localhost:8080/"
    },
    "id": "iHWYzjewk2xP",
    "outputId": "938b270c-607b-4c0e-f232-af6af191b01c"
   },
   "outputs": [
    {
     "data": {
      "text/plain": [
       "United States    1\n",
       "Greece           1\n",
       "Romania          1\n",
       "Slovakia         1\n",
       "New Zealand      1\n",
       "                ..\n",
       "Indonesia        1\n",
       "Philippines      1\n",
       "Israel           1\n",
       "Turkey           1\n",
       "Tanzania         1\n",
       "Name: country, Length: 71, dtype: int64"
      ]
     },
     "execution_count": 4,
     "metadata": {},
     "output_type": "execute_result"
    }
   ],
   "source": [
    "countries_df['country'].value_counts()"
   ]
  },
  {
   "cell_type": "code",
   "execution_count": 5,
   "metadata": {
    "colab": {
     "base_uri": "https://localhost:8080/"
    },
    "id": "Kb7AAvp-EokF",
    "outputId": "b7fbddcb-c31a-4bc8-faaf-e3f47d956f4c"
   },
   "outputs": [
    {
     "data": {
      "text/plain": [
       "1      18\n",
       "2       5\n",
       "3       5\n",
       "4       5\n",
       "6       5\n",
       "12      3\n",
       "8       2\n",
       "9       2\n",
       "15      2\n",
       "27      2\n",
       "698     1\n",
       "7       1\n",
       "11      1\n",
       "17      1\n",
       "30      1\n",
       "31      1\n",
       "724     1\n",
       "41      1\n",
       "42      1\n",
       "43      1\n",
       "44      1\n",
       "47      1\n",
       "49      1\n",
       "51      1\n",
       "56      1\n",
       "64      1\n",
       "65      1\n",
       "71      1\n",
       "117     1\n",
       "136     1\n",
       "237     1\n",
       "40      1\n",
       "Name: numBils, dtype: int64"
      ]
     },
     "execution_count": 5,
     "metadata": {},
     "output_type": "execute_result"
    }
   ],
   "source": [
    "countries_df['numBils'].value_counts()"
   ]
  },
  {
   "cell_type": "code",
   "execution_count": 6,
   "metadata": {
    "colab": {
     "base_uri": "https://localhost:8080/"
    },
    "id": "LvYOuOUIE6Al",
    "outputId": "a56d3f95-e529-49d6-e935-87e411da4e7e"
   },
   "outputs": [
    {
     "data": {
      "text/plain": [
       "0.059    2\n",
       "0.087    2\n",
       "0.366    2\n",
       "1.853    1\n",
       "3.378    1\n",
       "        ..\n",
       "1.007    1\n",
       "1.370    1\n",
       "0.747    1\n",
       "0.356    1\n",
       "0.017    1\n",
       "Name: bilsPerMil, Length: 68, dtype: int64"
      ]
     },
     "execution_count": 6,
     "metadata": {},
     "output_type": "execute_result"
    }
   ],
   "source": [
    "countries_df['bilsPerMil'].value_counts()"
   ]
  },
  {
   "cell_type": "code",
   "execution_count": null,
   "metadata": {},
   "outputs": [],
   "source": []
  },
  {
   "cell_type": "code",
   "execution_count": null,
   "metadata": {},
   "outputs": [],
   "source": []
  },
  {
   "cell_type": "code",
   "execution_count": null,
   "metadata": {},
   "outputs": [],
   "source": []
  },
  {
   "cell_type": "code",
   "execution_count": null,
   "metadata": {},
   "outputs": [],
   "source": []
  },
  {
   "cell_type": "code",
   "execution_count": null,
   "metadata": {},
   "outputs": [],
   "source": []
  }
 ],
 "metadata": {
  "colab": {
   "authorship_tag": "ABX9TyOsogxMnjZYdGOTQvXvR+UM",
   "include_colab_link": true,
   "name": "BillionairesData.ipynb",
   "provenance": []
  },
  "kernelspec": {
   "display_name": "Python 3 (ipykernel)",
   "language": "python",
   "name": "python3"
  },
  "language_info": {
   "codemirror_mode": {
    "name": "ipython",
    "version": 3
   },
   "file_extension": ".py",
   "mimetype": "text/x-python",
   "name": "python",
   "nbconvert_exporter": "python",
   "pygments_lexer": "ipython3",
   "version": "3.7.11"
  }
 },
 "nbformat": 4,
 "nbformat_minor": 1
}
