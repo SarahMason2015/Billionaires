{
  "nbformat": 4,
  "nbformat_minor": 0,
  "metadata": {
    "colab": {
      "name": "BillionairesDataML.ipynb",
      "provenance": [],
      "authorship_tag": "ABX9TyOmxvhUdMnaqC7Ox3m6YHow",
      "include_colab_link": true
    },
    "kernelspec": {
      "name": "python3",
      "display_name": "Python 3"
    },
    "language_info": {
      "name": "python"
    }
  },
  "cells": [
    {
      "cell_type": "markdown",
      "metadata": {
        "id": "view-in-github",
        "colab_type": "text"
      },
      "source": [
        "<a href=\"https://colab.research.google.com/github/SarahMason2015/Billionaires/blob/James_wk1/BillionairesDataML.ipynb\" target=\"_parent\"><img src=\"https://colab.research.google.com/assets/colab-badge.svg\" alt=\"Open In Colab\"/></a>"
      ]
    },
    {
      "cell_type": "code",
      "execution_count": 46,
      "metadata": {
        "id": "AMrWPOtRhj6D"
      },
      "outputs": [],
      "source": [
        "# Import our dependencies\n",
        "import pandas as pd\n",
        "import numpy as np\n",
        "import matplotlib as plt\n",
        "import matplotlib.pyplot as plt\n",
        "import sklearn as skl\n",
        "import tensorflow as tf\n",
        "from pathlib import Path\n",
        "from sklearn.linear_model import LinearRegression\n"
      ]
    },
    {
      "cell_type": "code",
      "source": [
        "from billionairesdatacleaning import *"
      ],
      "metadata": {
        "id": "3NATeecS1rEe"
      },
      "execution_count": 47,
      "outputs": []
    },
    {
      "cell_type": "markdown",
      "source": [
        "# Linear Regression with Billionaires, Company foundings"
      ],
      "metadata": {
        "id": "c01xsrerS8je"
      }
    },
    {
      "cell_type": "code",
      "source": [
        "billionaires_df = pd.read_csv(\"billionaires.csv\")\n",
        "billionaires_df.head(10)"
      ],
      "metadata": {
        "colab": {
          "base_uri": "https://localhost:8080/",
          "height": 717
        },
        "id": "iX20c3k8IWBL",
        "outputId": "d7405916-de57-4f02-ef00-30060d2fa9cb"
      },
      "execution_count": 48,
      "outputs": [
        {
          "output_type": "execute_result",
          "data": {
            "text/plain": [
              "                      name  rank  year  company.founded  \\\n",
              "0               Bill Gates     1  1996             1975   \n",
              "1               Bill Gates     1  2001             1975   \n",
              "2               Bill Gates     1  2014             1975   \n",
              "3           Warren Buffett     2  1996             1962   \n",
              "4           Warren Buffett     2  2001             1962   \n",
              "5         Carlos Slim Helu     2  2014             1990   \n",
              "6  Oeri Hoffman and Sacher     3  1996             1896   \n",
              "7               Paul Allen     3  2001             1975   \n",
              "8           Amancio Ortega     3  2014             1975   \n",
              "9             Lee Shau Kee     4  1996             1976   \n",
              "\n",
              "                 company.name company.relationship   company.sector  \\\n",
              "0                   Microsoft              founder         Software   \n",
              "1                   Microsoft              founder         Software   \n",
              "2                   Microsoft              founder         Software   \n",
              "3          Berkshire Hathaway              founder          Finance   \n",
              "4          Berkshire Hathaway              founder          Finance   \n",
              "5                      Telmex              founder   Communications   \n",
              "6        F. Hoffmann-La Roche                  NaN  pharmaceuticals   \n",
              "7                   Microsoft              founder       technology   \n",
              "8                        Zara              founder          Fashion   \n",
              "9  Henderson Land Development     founder/chairman      real estate   \n",
              "\n",
              "    company.type  demographics.age demographics.gender  ...  location.gdp  \\\n",
              "0            new                40                male  ...  8.100000e+12   \n",
              "1            new                45                male  ...  1.060000e+13   \n",
              "2            new                58                male  ...  0.000000e+00   \n",
              "3            new                65                male  ...  8.100000e+12   \n",
              "4            new                70                male  ...  1.060000e+13   \n",
              "5  privatization                74                male  ...  0.000000e+00   \n",
              "6            new                 0                 NaN  ...  3.300000e+11   \n",
              "7            new                48                male  ...  1.060000e+13   \n",
              "8            new                77                male  ...  0.000000e+00   \n",
              "9            new                68                male  ...  1.600000e+11   \n",
              "\n",
              "  location.region               wealth.type wealth.worth in billions  \\\n",
              "0   North America       founder non-finance                     18.5   \n",
              "1   North America       founder non-finance                     58.7   \n",
              "2   North America       founder non-finance                     76.0   \n",
              "3   North America       founder non-finance                     15.0   \n",
              "4   North America       founder non-finance                     32.3   \n",
              "5   Latin America  privatized and resources                     72.0   \n",
              "6          Europe                 inherited                     13.1   \n",
              "7   North America       founder non-finance                     30.4   \n",
              "8          Europe       founder non-finance                     64.0   \n",
              "9       East Asia         self-made finance                     12.7   \n",
              "\n",
              "  wealth.how.category  wealth.how.from emerging  wealth.how.industry  \\\n",
              "0         New Sectors                      True  Technology-Computer   \n",
              "1         New Sectors                      True  Technology-Computer   \n",
              "2         New Sectors                      True  Technology-Computer   \n",
              "3      Traded Sectors                      True             Consumer   \n",
              "4      Traded Sectors                      True             Consumer   \n",
              "5  Non-Traded Sectors                      True                Media   \n",
              "6         New Sectors                      True   Technology-Medical   \n",
              "7         New Sectors                      True  Technology-Computer   \n",
              "8  Non-Traded Sectors                      True   Retail, Restaurant   \n",
              "9           Financial                      True          Real Estate   \n",
              "\n",
              "   wealth.how.inherited wealth.how.was founder wealth.how.was political  \n",
              "0         not inherited                   True                     True  \n",
              "1         not inherited                   True                     True  \n",
              "2         not inherited                   True                     True  \n",
              "3         not inherited                   True                     True  \n",
              "4         not inherited                   True                     True  \n",
              "5         not inherited                   True                     True  \n",
              "6        3rd generation                   True                     True  \n",
              "7         not inherited                   True                     True  \n",
              "8         not inherited                   True                     True  \n",
              "9         not inherited                   True                     True  \n",
              "\n",
              "[10 rows x 22 columns]"
            ],
            "text/html": [
              "\n",
              "  <div id=\"df-d9d57489-b50c-4df2-811b-20e7d9cbee4d\">\n",
              "    <div class=\"colab-df-container\">\n",
              "      <div>\n",
              "<style scoped>\n",
              "    .dataframe tbody tr th:only-of-type {\n",
              "        vertical-align: middle;\n",
              "    }\n",
              "\n",
              "    .dataframe tbody tr th {\n",
              "        vertical-align: top;\n",
              "    }\n",
              "\n",
              "    .dataframe thead th {\n",
              "        text-align: right;\n",
              "    }\n",
              "</style>\n",
              "<table border=\"1\" class=\"dataframe\">\n",
              "  <thead>\n",
              "    <tr style=\"text-align: right;\">\n",
              "      <th></th>\n",
              "      <th>name</th>\n",
              "      <th>rank</th>\n",
              "      <th>year</th>\n",
              "      <th>company.founded</th>\n",
              "      <th>company.name</th>\n",
              "      <th>company.relationship</th>\n",
              "      <th>company.sector</th>\n",
              "      <th>company.type</th>\n",
              "      <th>demographics.age</th>\n",
              "      <th>demographics.gender</th>\n",
              "      <th>...</th>\n",
              "      <th>location.gdp</th>\n",
              "      <th>location.region</th>\n",
              "      <th>wealth.type</th>\n",
              "      <th>wealth.worth in billions</th>\n",
              "      <th>wealth.how.category</th>\n",
              "      <th>wealth.how.from emerging</th>\n",
              "      <th>wealth.how.industry</th>\n",
              "      <th>wealth.how.inherited</th>\n",
              "      <th>wealth.how.was founder</th>\n",
              "      <th>wealth.how.was political</th>\n",
              "    </tr>\n",
              "  </thead>\n",
              "  <tbody>\n",
              "    <tr>\n",
              "      <th>0</th>\n",
              "      <td>Bill Gates</td>\n",
              "      <td>1</td>\n",
              "      <td>1996</td>\n",
              "      <td>1975</td>\n",
              "      <td>Microsoft</td>\n",
              "      <td>founder</td>\n",
              "      <td>Software</td>\n",
              "      <td>new</td>\n",
              "      <td>40</td>\n",
              "      <td>male</td>\n",
              "      <td>...</td>\n",
              "      <td>8.100000e+12</td>\n",
              "      <td>North America</td>\n",
              "      <td>founder non-finance</td>\n",
              "      <td>18.5</td>\n",
              "      <td>New Sectors</td>\n",
              "      <td>True</td>\n",
              "      <td>Technology-Computer</td>\n",
              "      <td>not inherited</td>\n",
              "      <td>True</td>\n",
              "      <td>True</td>\n",
              "    </tr>\n",
              "    <tr>\n",
              "      <th>1</th>\n",
              "      <td>Bill Gates</td>\n",
              "      <td>1</td>\n",
              "      <td>2001</td>\n",
              "      <td>1975</td>\n",
              "      <td>Microsoft</td>\n",
              "      <td>founder</td>\n",
              "      <td>Software</td>\n",
              "      <td>new</td>\n",
              "      <td>45</td>\n",
              "      <td>male</td>\n",
              "      <td>...</td>\n",
              "      <td>1.060000e+13</td>\n",
              "      <td>North America</td>\n",
              "      <td>founder non-finance</td>\n",
              "      <td>58.7</td>\n",
              "      <td>New Sectors</td>\n",
              "      <td>True</td>\n",
              "      <td>Technology-Computer</td>\n",
              "      <td>not inherited</td>\n",
              "      <td>True</td>\n",
              "      <td>True</td>\n",
              "    </tr>\n",
              "    <tr>\n",
              "      <th>2</th>\n",
              "      <td>Bill Gates</td>\n",
              "      <td>1</td>\n",
              "      <td>2014</td>\n",
              "      <td>1975</td>\n",
              "      <td>Microsoft</td>\n",
              "      <td>founder</td>\n",
              "      <td>Software</td>\n",
              "      <td>new</td>\n",
              "      <td>58</td>\n",
              "      <td>male</td>\n",
              "      <td>...</td>\n",
              "      <td>0.000000e+00</td>\n",
              "      <td>North America</td>\n",
              "      <td>founder non-finance</td>\n",
              "      <td>76.0</td>\n",
              "      <td>New Sectors</td>\n",
              "      <td>True</td>\n",
              "      <td>Technology-Computer</td>\n",
              "      <td>not inherited</td>\n",
              "      <td>True</td>\n",
              "      <td>True</td>\n",
              "    </tr>\n",
              "    <tr>\n",
              "      <th>3</th>\n",
              "      <td>Warren Buffett</td>\n",
              "      <td>2</td>\n",
              "      <td>1996</td>\n",
              "      <td>1962</td>\n",
              "      <td>Berkshire Hathaway</td>\n",
              "      <td>founder</td>\n",
              "      <td>Finance</td>\n",
              "      <td>new</td>\n",
              "      <td>65</td>\n",
              "      <td>male</td>\n",
              "      <td>...</td>\n",
              "      <td>8.100000e+12</td>\n",
              "      <td>North America</td>\n",
              "      <td>founder non-finance</td>\n",
              "      <td>15.0</td>\n",
              "      <td>Traded Sectors</td>\n",
              "      <td>True</td>\n",
              "      <td>Consumer</td>\n",
              "      <td>not inherited</td>\n",
              "      <td>True</td>\n",
              "      <td>True</td>\n",
              "    </tr>\n",
              "    <tr>\n",
              "      <th>4</th>\n",
              "      <td>Warren Buffett</td>\n",
              "      <td>2</td>\n",
              "      <td>2001</td>\n",
              "      <td>1962</td>\n",
              "      <td>Berkshire Hathaway</td>\n",
              "      <td>founder</td>\n",
              "      <td>Finance</td>\n",
              "      <td>new</td>\n",
              "      <td>70</td>\n",
              "      <td>male</td>\n",
              "      <td>...</td>\n",
              "      <td>1.060000e+13</td>\n",
              "      <td>North America</td>\n",
              "      <td>founder non-finance</td>\n",
              "      <td>32.3</td>\n",
              "      <td>Traded Sectors</td>\n",
              "      <td>True</td>\n",
              "      <td>Consumer</td>\n",
              "      <td>not inherited</td>\n",
              "      <td>True</td>\n",
              "      <td>True</td>\n",
              "    </tr>\n",
              "    <tr>\n",
              "      <th>5</th>\n",
              "      <td>Carlos Slim Helu</td>\n",
              "      <td>2</td>\n",
              "      <td>2014</td>\n",
              "      <td>1990</td>\n",
              "      <td>Telmex</td>\n",
              "      <td>founder</td>\n",
              "      <td>Communications</td>\n",
              "      <td>privatization</td>\n",
              "      <td>74</td>\n",
              "      <td>male</td>\n",
              "      <td>...</td>\n",
              "      <td>0.000000e+00</td>\n",
              "      <td>Latin America</td>\n",
              "      <td>privatized and resources</td>\n",
              "      <td>72.0</td>\n",
              "      <td>Non-Traded Sectors</td>\n",
              "      <td>True</td>\n",
              "      <td>Media</td>\n",
              "      <td>not inherited</td>\n",
              "      <td>True</td>\n",
              "      <td>True</td>\n",
              "    </tr>\n",
              "    <tr>\n",
              "      <th>6</th>\n",
              "      <td>Oeri Hoffman and Sacher</td>\n",
              "      <td>3</td>\n",
              "      <td>1996</td>\n",
              "      <td>1896</td>\n",
              "      <td>F. Hoffmann-La Roche</td>\n",
              "      <td>NaN</td>\n",
              "      <td>pharmaceuticals</td>\n",
              "      <td>new</td>\n",
              "      <td>0</td>\n",
              "      <td>NaN</td>\n",
              "      <td>...</td>\n",
              "      <td>3.300000e+11</td>\n",
              "      <td>Europe</td>\n",
              "      <td>inherited</td>\n",
              "      <td>13.1</td>\n",
              "      <td>New Sectors</td>\n",
              "      <td>True</td>\n",
              "      <td>Technology-Medical</td>\n",
              "      <td>3rd generation</td>\n",
              "      <td>True</td>\n",
              "      <td>True</td>\n",
              "    </tr>\n",
              "    <tr>\n",
              "      <th>7</th>\n",
              "      <td>Paul Allen</td>\n",
              "      <td>3</td>\n",
              "      <td>2001</td>\n",
              "      <td>1975</td>\n",
              "      <td>Microsoft</td>\n",
              "      <td>founder</td>\n",
              "      <td>technology</td>\n",
              "      <td>new</td>\n",
              "      <td>48</td>\n",
              "      <td>male</td>\n",
              "      <td>...</td>\n",
              "      <td>1.060000e+13</td>\n",
              "      <td>North America</td>\n",
              "      <td>founder non-finance</td>\n",
              "      <td>30.4</td>\n",
              "      <td>New Sectors</td>\n",
              "      <td>True</td>\n",
              "      <td>Technology-Computer</td>\n",
              "      <td>not inherited</td>\n",
              "      <td>True</td>\n",
              "      <td>True</td>\n",
              "    </tr>\n",
              "    <tr>\n",
              "      <th>8</th>\n",
              "      <td>Amancio Ortega</td>\n",
              "      <td>3</td>\n",
              "      <td>2014</td>\n",
              "      <td>1975</td>\n",
              "      <td>Zara</td>\n",
              "      <td>founder</td>\n",
              "      <td>Fashion</td>\n",
              "      <td>new</td>\n",
              "      <td>77</td>\n",
              "      <td>male</td>\n",
              "      <td>...</td>\n",
              "      <td>0.000000e+00</td>\n",
              "      <td>Europe</td>\n",
              "      <td>founder non-finance</td>\n",
              "      <td>64.0</td>\n",
              "      <td>Non-Traded Sectors</td>\n",
              "      <td>True</td>\n",
              "      <td>Retail, Restaurant</td>\n",
              "      <td>not inherited</td>\n",
              "      <td>True</td>\n",
              "      <td>True</td>\n",
              "    </tr>\n",
              "    <tr>\n",
              "      <th>9</th>\n",
              "      <td>Lee Shau Kee</td>\n",
              "      <td>4</td>\n",
              "      <td>1996</td>\n",
              "      <td>1976</td>\n",
              "      <td>Henderson Land Development</td>\n",
              "      <td>founder/chairman</td>\n",
              "      <td>real estate</td>\n",
              "      <td>new</td>\n",
              "      <td>68</td>\n",
              "      <td>male</td>\n",
              "      <td>...</td>\n",
              "      <td>1.600000e+11</td>\n",
              "      <td>East Asia</td>\n",
              "      <td>self-made finance</td>\n",
              "      <td>12.7</td>\n",
              "      <td>Financial</td>\n",
              "      <td>True</td>\n",
              "      <td>Real Estate</td>\n",
              "      <td>not inherited</td>\n",
              "      <td>True</td>\n",
              "      <td>True</td>\n",
              "    </tr>\n",
              "  </tbody>\n",
              "</table>\n",
              "<p>10 rows × 22 columns</p>\n",
              "</div>\n",
              "      <button class=\"colab-df-convert\" onclick=\"convertToInteractive('df-d9d57489-b50c-4df2-811b-20e7d9cbee4d')\"\n",
              "              title=\"Convert this dataframe to an interactive table.\"\n",
              "              style=\"display:none;\">\n",
              "        \n",
              "  <svg xmlns=\"http://www.w3.org/2000/svg\" height=\"24px\"viewBox=\"0 0 24 24\"\n",
              "       width=\"24px\">\n",
              "    <path d=\"M0 0h24v24H0V0z\" fill=\"none\"/>\n",
              "    <path d=\"M18.56 5.44l.94 2.06.94-2.06 2.06-.94-2.06-.94-.94-2.06-.94 2.06-2.06.94zm-11 1L8.5 8.5l.94-2.06 2.06-.94-2.06-.94L8.5 2.5l-.94 2.06-2.06.94zm10 10l.94 2.06.94-2.06 2.06-.94-2.06-.94-.94-2.06-.94 2.06-2.06.94z\"/><path d=\"M17.41 7.96l-1.37-1.37c-.4-.4-.92-.59-1.43-.59-.52 0-1.04.2-1.43.59L10.3 9.45l-7.72 7.72c-.78.78-.78 2.05 0 2.83L4 21.41c.39.39.9.59 1.41.59.51 0 1.02-.2 1.41-.59l7.78-7.78 2.81-2.81c.8-.78.8-2.07 0-2.86zM5.41 20L4 18.59l7.72-7.72 1.47 1.35L5.41 20z\"/>\n",
              "  </svg>\n",
              "      </button>\n",
              "      \n",
              "  <style>\n",
              "    .colab-df-container {\n",
              "      display:flex;\n",
              "      flex-wrap:wrap;\n",
              "      gap: 12px;\n",
              "    }\n",
              "\n",
              "    .colab-df-convert {\n",
              "      background-color: #E8F0FE;\n",
              "      border: none;\n",
              "      border-radius: 50%;\n",
              "      cursor: pointer;\n",
              "      display: none;\n",
              "      fill: #1967D2;\n",
              "      height: 32px;\n",
              "      padding: 0 0 0 0;\n",
              "      width: 32px;\n",
              "    }\n",
              "\n",
              "    .colab-df-convert:hover {\n",
              "      background-color: #E2EBFA;\n",
              "      box-shadow: 0px 1px 2px rgba(60, 64, 67, 0.3), 0px 1px 3px 1px rgba(60, 64, 67, 0.15);\n",
              "      fill: #174EA6;\n",
              "    }\n",
              "\n",
              "    [theme=dark] .colab-df-convert {\n",
              "      background-color: #3B4455;\n",
              "      fill: #D2E3FC;\n",
              "    }\n",
              "\n",
              "    [theme=dark] .colab-df-convert:hover {\n",
              "      background-color: #434B5C;\n",
              "      box-shadow: 0px 1px 3px 1px rgba(0, 0, 0, 0.15);\n",
              "      filter: drop-shadow(0px 1px 2px rgba(0, 0, 0, 0.3));\n",
              "      fill: #FFFFFF;\n",
              "    }\n",
              "  </style>\n",
              "\n",
              "      <script>\n",
              "        const buttonEl =\n",
              "          document.querySelector('#df-d9d57489-b50c-4df2-811b-20e7d9cbee4d button.colab-df-convert');\n",
              "        buttonEl.style.display =\n",
              "          google.colab.kernel.accessAllowed ? 'block' : 'none';\n",
              "\n",
              "        async function convertToInteractive(key) {\n",
              "          const element = document.querySelector('#df-d9d57489-b50c-4df2-811b-20e7d9cbee4d');\n",
              "          const dataTable =\n",
              "            await google.colab.kernel.invokeFunction('convertToInteractive',\n",
              "                                                     [key], {});\n",
              "          if (!dataTable) return;\n",
              "\n",
              "          const docLinkHtml = 'Like what you see? Visit the ' +\n",
              "            '<a target=\"_blank\" href=https://colab.research.google.com/notebooks/data_table.ipynb>data table notebook</a>'\n",
              "            + ' to learn more about interactive tables.';\n",
              "          element.innerHTML = '';\n",
              "          dataTable['output_type'] = 'display_data';\n",
              "          await google.colab.output.renderOutput(dataTable, element);\n",
              "          const docLink = document.createElement('div');\n",
              "          docLink.innerHTML = docLinkHtml;\n",
              "          element.appendChild(docLink);\n",
              "        }\n",
              "      </script>\n",
              "    </div>\n",
              "  </div>\n",
              "  "
            ]
          },
          "metadata": {},
          "execution_count": 48
        }
      ]
    },
    {
      "cell_type": "code",
      "source": [
        "billionaires_df.rename(columns={'company.founded':'co_founded', 'wealth.worth in billions':'wealth_bb'}, inplace=True)\n",
        "billionaires_df.head(5)"
      ],
      "metadata": {
        "colab": {
          "base_uri": "https://localhost:8080/",
          "height": 404
        },
        "id": "Ja92Z0oaIbBc",
        "outputId": "91f85c86-6105-4142-f7fe-275046f9da11"
      },
      "execution_count": 49,
      "outputs": [
        {
          "output_type": "execute_result",
          "data": {
            "text/plain": [
              "             name  rank  year  co_founded        company.name  \\\n",
              "0      Bill Gates     1  1996        1975           Microsoft   \n",
              "1      Bill Gates     1  2001        1975           Microsoft   \n",
              "2      Bill Gates     1  2014        1975           Microsoft   \n",
              "3  Warren Buffett     2  1996        1962  Berkshire Hathaway   \n",
              "4  Warren Buffett     2  2001        1962  Berkshire Hathaway   \n",
              "\n",
              "  company.relationship company.sector company.type  demographics.age  \\\n",
              "0              founder       Software          new                40   \n",
              "1              founder       Software          new                45   \n",
              "2              founder       Software          new                58   \n",
              "3              founder        Finance          new                65   \n",
              "4              founder        Finance          new                70   \n",
              "\n",
              "  demographics.gender  ...  location.gdp location.region          wealth.type  \\\n",
              "0                male  ...  8.100000e+12   North America  founder non-finance   \n",
              "1                male  ...  1.060000e+13   North America  founder non-finance   \n",
              "2                male  ...  0.000000e+00   North America  founder non-finance   \n",
              "3                male  ...  8.100000e+12   North America  founder non-finance   \n",
              "4                male  ...  1.060000e+13   North America  founder non-finance   \n",
              "\n",
              "  wealth_bb wealth.how.category  wealth.how.from emerging  \\\n",
              "0      18.5         New Sectors                      True   \n",
              "1      58.7         New Sectors                      True   \n",
              "2      76.0         New Sectors                      True   \n",
              "3      15.0      Traded Sectors                      True   \n",
              "4      32.3      Traded Sectors                      True   \n",
              "\n",
              "   wealth.how.industry  wealth.how.inherited wealth.how.was founder  \\\n",
              "0  Technology-Computer         not inherited                   True   \n",
              "1  Technology-Computer         not inherited                   True   \n",
              "2  Technology-Computer         not inherited                   True   \n",
              "3             Consumer         not inherited                   True   \n",
              "4             Consumer         not inherited                   True   \n",
              "\n",
              "  wealth.how.was political  \n",
              "0                     True  \n",
              "1                     True  \n",
              "2                     True  \n",
              "3                     True  \n",
              "4                     True  \n",
              "\n",
              "[5 rows x 22 columns]"
            ],
            "text/html": [
              "\n",
              "  <div id=\"df-c32b77ce-1fe8-4fc4-aad7-c96d45fb7798\">\n",
              "    <div class=\"colab-df-container\">\n",
              "      <div>\n",
              "<style scoped>\n",
              "    .dataframe tbody tr th:only-of-type {\n",
              "        vertical-align: middle;\n",
              "    }\n",
              "\n",
              "    .dataframe tbody tr th {\n",
              "        vertical-align: top;\n",
              "    }\n",
              "\n",
              "    .dataframe thead th {\n",
              "        text-align: right;\n",
              "    }\n",
              "</style>\n",
              "<table border=\"1\" class=\"dataframe\">\n",
              "  <thead>\n",
              "    <tr style=\"text-align: right;\">\n",
              "      <th></th>\n",
              "      <th>name</th>\n",
              "      <th>rank</th>\n",
              "      <th>year</th>\n",
              "      <th>co_founded</th>\n",
              "      <th>company.name</th>\n",
              "      <th>company.relationship</th>\n",
              "      <th>company.sector</th>\n",
              "      <th>company.type</th>\n",
              "      <th>demographics.age</th>\n",
              "      <th>demographics.gender</th>\n",
              "      <th>...</th>\n",
              "      <th>location.gdp</th>\n",
              "      <th>location.region</th>\n",
              "      <th>wealth.type</th>\n",
              "      <th>wealth_bb</th>\n",
              "      <th>wealth.how.category</th>\n",
              "      <th>wealth.how.from emerging</th>\n",
              "      <th>wealth.how.industry</th>\n",
              "      <th>wealth.how.inherited</th>\n",
              "      <th>wealth.how.was founder</th>\n",
              "      <th>wealth.how.was political</th>\n",
              "    </tr>\n",
              "  </thead>\n",
              "  <tbody>\n",
              "    <tr>\n",
              "      <th>0</th>\n",
              "      <td>Bill Gates</td>\n",
              "      <td>1</td>\n",
              "      <td>1996</td>\n",
              "      <td>1975</td>\n",
              "      <td>Microsoft</td>\n",
              "      <td>founder</td>\n",
              "      <td>Software</td>\n",
              "      <td>new</td>\n",
              "      <td>40</td>\n",
              "      <td>male</td>\n",
              "      <td>...</td>\n",
              "      <td>8.100000e+12</td>\n",
              "      <td>North America</td>\n",
              "      <td>founder non-finance</td>\n",
              "      <td>18.5</td>\n",
              "      <td>New Sectors</td>\n",
              "      <td>True</td>\n",
              "      <td>Technology-Computer</td>\n",
              "      <td>not inherited</td>\n",
              "      <td>True</td>\n",
              "      <td>True</td>\n",
              "    </tr>\n",
              "    <tr>\n",
              "      <th>1</th>\n",
              "      <td>Bill Gates</td>\n",
              "      <td>1</td>\n",
              "      <td>2001</td>\n",
              "      <td>1975</td>\n",
              "      <td>Microsoft</td>\n",
              "      <td>founder</td>\n",
              "      <td>Software</td>\n",
              "      <td>new</td>\n",
              "      <td>45</td>\n",
              "      <td>male</td>\n",
              "      <td>...</td>\n",
              "      <td>1.060000e+13</td>\n",
              "      <td>North America</td>\n",
              "      <td>founder non-finance</td>\n",
              "      <td>58.7</td>\n",
              "      <td>New Sectors</td>\n",
              "      <td>True</td>\n",
              "      <td>Technology-Computer</td>\n",
              "      <td>not inherited</td>\n",
              "      <td>True</td>\n",
              "      <td>True</td>\n",
              "    </tr>\n",
              "    <tr>\n",
              "      <th>2</th>\n",
              "      <td>Bill Gates</td>\n",
              "      <td>1</td>\n",
              "      <td>2014</td>\n",
              "      <td>1975</td>\n",
              "      <td>Microsoft</td>\n",
              "      <td>founder</td>\n",
              "      <td>Software</td>\n",
              "      <td>new</td>\n",
              "      <td>58</td>\n",
              "      <td>male</td>\n",
              "      <td>...</td>\n",
              "      <td>0.000000e+00</td>\n",
              "      <td>North America</td>\n",
              "      <td>founder non-finance</td>\n",
              "      <td>76.0</td>\n",
              "      <td>New Sectors</td>\n",
              "      <td>True</td>\n",
              "      <td>Technology-Computer</td>\n",
              "      <td>not inherited</td>\n",
              "      <td>True</td>\n",
              "      <td>True</td>\n",
              "    </tr>\n",
              "    <tr>\n",
              "      <th>3</th>\n",
              "      <td>Warren Buffett</td>\n",
              "      <td>2</td>\n",
              "      <td>1996</td>\n",
              "      <td>1962</td>\n",
              "      <td>Berkshire Hathaway</td>\n",
              "      <td>founder</td>\n",
              "      <td>Finance</td>\n",
              "      <td>new</td>\n",
              "      <td>65</td>\n",
              "      <td>male</td>\n",
              "      <td>...</td>\n",
              "      <td>8.100000e+12</td>\n",
              "      <td>North America</td>\n",
              "      <td>founder non-finance</td>\n",
              "      <td>15.0</td>\n",
              "      <td>Traded Sectors</td>\n",
              "      <td>True</td>\n",
              "      <td>Consumer</td>\n",
              "      <td>not inherited</td>\n",
              "      <td>True</td>\n",
              "      <td>True</td>\n",
              "    </tr>\n",
              "    <tr>\n",
              "      <th>4</th>\n",
              "      <td>Warren Buffett</td>\n",
              "      <td>2</td>\n",
              "      <td>2001</td>\n",
              "      <td>1962</td>\n",
              "      <td>Berkshire Hathaway</td>\n",
              "      <td>founder</td>\n",
              "      <td>Finance</td>\n",
              "      <td>new</td>\n",
              "      <td>70</td>\n",
              "      <td>male</td>\n",
              "      <td>...</td>\n",
              "      <td>1.060000e+13</td>\n",
              "      <td>North America</td>\n",
              "      <td>founder non-finance</td>\n",
              "      <td>32.3</td>\n",
              "      <td>Traded Sectors</td>\n",
              "      <td>True</td>\n",
              "      <td>Consumer</td>\n",
              "      <td>not inherited</td>\n",
              "      <td>True</td>\n",
              "      <td>True</td>\n",
              "    </tr>\n",
              "  </tbody>\n",
              "</table>\n",
              "<p>5 rows × 22 columns</p>\n",
              "</div>\n",
              "      <button class=\"colab-df-convert\" onclick=\"convertToInteractive('df-c32b77ce-1fe8-4fc4-aad7-c96d45fb7798')\"\n",
              "              title=\"Convert this dataframe to an interactive table.\"\n",
              "              style=\"display:none;\">\n",
              "        \n",
              "  <svg xmlns=\"http://www.w3.org/2000/svg\" height=\"24px\"viewBox=\"0 0 24 24\"\n",
              "       width=\"24px\">\n",
              "    <path d=\"M0 0h24v24H0V0z\" fill=\"none\"/>\n",
              "    <path d=\"M18.56 5.44l.94 2.06.94-2.06 2.06-.94-2.06-.94-.94-2.06-.94 2.06-2.06.94zm-11 1L8.5 8.5l.94-2.06 2.06-.94-2.06-.94L8.5 2.5l-.94 2.06-2.06.94zm10 10l.94 2.06.94-2.06 2.06-.94-2.06-.94-.94-2.06-.94 2.06-2.06.94z\"/><path d=\"M17.41 7.96l-1.37-1.37c-.4-.4-.92-.59-1.43-.59-.52 0-1.04.2-1.43.59L10.3 9.45l-7.72 7.72c-.78.78-.78 2.05 0 2.83L4 21.41c.39.39.9.59 1.41.59.51 0 1.02-.2 1.41-.59l7.78-7.78 2.81-2.81c.8-.78.8-2.07 0-2.86zM5.41 20L4 18.59l7.72-7.72 1.47 1.35L5.41 20z\"/>\n",
              "  </svg>\n",
              "      </button>\n",
              "      \n",
              "  <style>\n",
              "    .colab-df-container {\n",
              "      display:flex;\n",
              "      flex-wrap:wrap;\n",
              "      gap: 12px;\n",
              "    }\n",
              "\n",
              "    .colab-df-convert {\n",
              "      background-color: #E8F0FE;\n",
              "      border: none;\n",
              "      border-radius: 50%;\n",
              "      cursor: pointer;\n",
              "      display: none;\n",
              "      fill: #1967D2;\n",
              "      height: 32px;\n",
              "      padding: 0 0 0 0;\n",
              "      width: 32px;\n",
              "    }\n",
              "\n",
              "    .colab-df-convert:hover {\n",
              "      background-color: #E2EBFA;\n",
              "      box-shadow: 0px 1px 2px rgba(60, 64, 67, 0.3), 0px 1px 3px 1px rgba(60, 64, 67, 0.15);\n",
              "      fill: #174EA6;\n",
              "    }\n",
              "\n",
              "    [theme=dark] .colab-df-convert {\n",
              "      background-color: #3B4455;\n",
              "      fill: #D2E3FC;\n",
              "    }\n",
              "\n",
              "    [theme=dark] .colab-df-convert:hover {\n",
              "      background-color: #434B5C;\n",
              "      box-shadow: 0px 1px 3px 1px rgba(0, 0, 0, 0.15);\n",
              "      filter: drop-shadow(0px 1px 2px rgba(0, 0, 0, 0.3));\n",
              "      fill: #FFFFFF;\n",
              "    }\n",
              "  </style>\n",
              "\n",
              "      <script>\n",
              "        const buttonEl =\n",
              "          document.querySelector('#df-c32b77ce-1fe8-4fc4-aad7-c96d45fb7798 button.colab-df-convert');\n",
              "        buttonEl.style.display =\n",
              "          google.colab.kernel.accessAllowed ? 'block' : 'none';\n",
              "\n",
              "        async function convertToInteractive(key) {\n",
              "          const element = document.querySelector('#df-c32b77ce-1fe8-4fc4-aad7-c96d45fb7798');\n",
              "          const dataTable =\n",
              "            await google.colab.kernel.invokeFunction('convertToInteractive',\n",
              "                                                     [key], {});\n",
              "          if (!dataTable) return;\n",
              "\n",
              "          const docLinkHtml = 'Like what you see? Visit the ' +\n",
              "            '<a target=\"_blank\" href=https://colab.research.google.com/notebooks/data_table.ipynb>data table notebook</a>'\n",
              "            + ' to learn more about interactive tables.';\n",
              "          element.innerHTML = '';\n",
              "          dataTable['output_type'] = 'display_data';\n",
              "          await google.colab.output.renderOutput(dataTable, element);\n",
              "          const docLink = document.createElement('div');\n",
              "          docLink.innerHTML = docLinkHtml;\n",
              "          element.appendChild(docLink);\n",
              "        }\n",
              "      </script>\n",
              "    </div>\n",
              "  </div>\n",
              "  "
            ]
          },
          "metadata": {},
          "execution_count": 49
        }
      ]
    },
    {
      "cell_type": "code",
      "source": [
        ""
      ],
      "metadata": {
        "id": "qu8UbrCVLM0y"
      },
      "execution_count": 49,
      "outputs": []
    },
    {
      "cell_type": "code",
      "source": [
        "billionaires_df['co_founded'].value_counts()\n"
      ],
      "metadata": {
        "colab": {
          "base_uri": "https://localhost:8080/"
        },
        "id": "nTtgdCZ0LM-m",
        "outputId": "b2b77167-341d-4f22-db15-989e7c5e471d"
      },
      "execution_count": 50,
      "outputs": [
        {
          "output_type": "execute_result",
          "data": {
            "text/plain": [
              "1962    57\n",
              "1995    54\n",
              "1972    51\n",
              "1993    48\n",
              "1969    48\n",
              "        ..\n",
              "1789     1\n",
              "1848     1\n",
              "1863     1\n",
              "1900     1\n",
              "1907     1\n",
              "Name: co_founded, Length: 178, dtype: int64"
            ]
          },
          "metadata": {},
          "execution_count": 50
        }
      ]
    },
    {
      "cell_type": "code",
      "source": [
        "billion_com_clean = billionaires_df[billionaires_df.co_founded !=0]\n",
        "# ref: https://www.codegrepper.com/code-examples/python/delete+row+with+zero+value+in+a+column+pyton"
      ],
      "metadata": {
        "id": "iJ03-5y0MY2L"
      },
      "execution_count": 51,
      "outputs": []
    },
    {
      "cell_type": "code",
      "source": [
        "#from 17.2.3\n",
        "plt.scatter(billion_com_clean.co_founded, billion_com_clean.wealth_bb)\n",
        "plt.xlabel('Company Founded')\n",
        "plt.ylabel('Wealth in Billions')\n",
        "plt.show()"
      ],
      "metadata": {
        "colab": {
          "base_uri": "https://localhost:8080/",
          "height": 279
        },
        "id": "qC_nJ7XiHmNC",
        "outputId": "aa8b081c-0963-4902-a59c-7120eff36242"
      },
      "execution_count": 52,
      "outputs": [
        {
          "output_type": "display_data",
          "data": {
            "text/plain": [
              "<Figure size 432x288 with 1 Axes>"
            ],
            "image/png": "[encoded data removed]"
          },
          "metadata": {
            "needs_background": "light"
          }
        }
      ]
    },
    {
      "cell_type": "code",
      "source": [
        "model = LinearRegression()"
      ],
      "metadata": {
        "id": "_suhcluCOmKn"
      },
      "execution_count": 53,
      "outputs": []
    },
    {
      "cell_type": "code",
      "source": [
        "X = billion_com_clean.co_founded.values.reshape(-1, 1)\n",
        "y = billion_com_clean.wealth_bb"
      ],
      "metadata": {
        "id": "ouUL8rTMO8v4"
      },
      "execution_count": 54,
      "outputs": []
    },
    {
      "cell_type": "code",
      "source": [
        "model.fit(X,y)"
      ],
      "metadata": {
        "colab": {
          "base_uri": "https://localhost:8080/"
        },
        "id": "raEmZqWCOpM3",
        "outputId": "6972517d-c242-4c6a-f99e-de4a571af895"
      },
      "execution_count": 55,
      "outputs": [
        {
          "output_type": "execute_result",
          "data": {
            "text/plain": [
              "LinearRegression()"
            ]
          },
          "metadata": {},
          "execution_count": 55
        }
      ]
    },
    {
      "cell_type": "code",
      "source": [
        "y_pred= model.predict(X)\n",
        "print(y_pred.shape)"
      ],
      "metadata": {
        "colab": {
          "base_uri": "https://localhost:8080/"
        },
        "id": "F1CZidywKJ19",
        "outputId": "b6df9430-0bbe-47b1-dbc4-55bf3298e077"
      },
      "execution_count": 56,
      "outputs": [
        {
          "output_type": "stream",
          "name": "stdout",
          "text": [
            "(2574,)\n"
          ]
        }
      ]
    },
    {
      "cell_type": "code",
      "source": [
        "plt.scatter(X,y)\n",
        "plt.plot(X, y_pred, color = 'red')\n",
        "plt.show()\n",
        "#All that work for nothing! At least I got to experiment with Linear Regression "
      ],
      "metadata": {
        "colab": {
          "base_uri": "https://localhost:8080/",
          "height": 265
        },
        "id": "srazuBj_Pyft",
        "outputId": "52a8f2d4-b3ee-41d7-90b1-8a7b59c36368"
      },
      "execution_count": 57,
      "outputs": [
        {
          "output_type": "display_data",
          "data": {
            "text/plain": [
              "<Figure size 432x288 with 1 Axes>"
            ],
            "image/png": "[encoded data removed]"
          },
          "metadata": {
            "needs_background": "light"
          }
        }
      ]
    },
    {
      "cell_type": "markdown",
      "source": [
        "# Logistic Regression to Predict Aires vs Heirs"
      ],
      "metadata": {
        "id": "NjRect-TTbYI"
      }
    },
    {
      "cell_type": "code",
      "source": [
        "billion_df.head(5)"
      ],
      "metadata": {
        "colab": {
          "base_uri": "https://localhost:8080/",
          "height": 206
        },
        "id": "7GeOgllwTgp-",
        "outputId": "42c3c77b-8ed0-49e1-c07d-1c27b79784a8"
      },
      "execution_count": 58,
      "outputs": [
        {
          "output_type": "execute_result",
          "data": {
            "text/plain": [
              "   demographics.age demographics.gender location.citizenship location.region  \\\n",
              "0                40                male        United States   North America   \n",
              "1                45                male        United States   North America   \n",
              "2                58                male        United States   North America   \n",
              "3                65                male        United States   North America   \n",
              "4                70                male        United States   North America   \n",
              "\n",
              "  wealth.how.industry wealth.how.inherited  \n",
              "0          Technology        not inherited  \n",
              "1          Technology        not inherited  \n",
              "2          Technology        not inherited  \n",
              "3            Consumer        not inherited  \n",
              "4            Consumer        not inherited  "
            ],
            "text/html": [
              "\n",
              "  <div id=\"df-2e0d8e32-1cdc-4622-9930-61ae31746a83\">\n",
              "    <div class=\"colab-df-container\">\n",
              "      <div>\n",
              "<style scoped>\n",
              "    .dataframe tbody tr th:only-of-type {\n",
              "        vertical-align: middle;\n",
              "    }\n",
              "\n",
              "    .dataframe tbody tr th {\n",
              "        vertical-align: top;\n",
              "    }\n",
              "\n",
              "    .dataframe thead th {\n",
              "        text-align: right;\n",
              "    }\n",
              "</style>\n",
              "<table border=\"1\" class=\"dataframe\">\n",
              "  <thead>\n",
              "    <tr style=\"text-align: right;\">\n",
              "      <th></th>\n",
              "      <th>demographics.age</th>\n",
              "      <th>demographics.gender</th>\n",
              "      <th>location.citizenship</th>\n",
              "      <th>location.region</th>\n",
              "      <th>wealth.how.industry</th>\n",
              "      <th>wealth.how.inherited</th>\n",
              "    </tr>\n",
              "  </thead>\n",
              "  <tbody>\n",
              "    <tr>\n",
              "      <th>0</th>\n",
              "      <td>40</td>\n",
              "      <td>male</td>\n",
              "      <td>United States</td>\n",
              "      <td>North America</td>\n",
              "      <td>Technology</td>\n",
              "      <td>not inherited</td>\n",
              "    </tr>\n",
              "    <tr>\n",
              "      <th>1</th>\n",
              "      <td>45</td>\n",
              "      <td>male</td>\n",
              "      <td>United States</td>\n",
              "      <td>North America</td>\n",
              "      <td>Technology</td>\n",
              "      <td>not inherited</td>\n",
              "    </tr>\n",
              "    <tr>\n",
              "      <th>2</th>\n",
              "      <td>58</td>\n",
              "      <td>male</td>\n",
              "      <td>United States</td>\n",
              "      <td>North America</td>\n",
              "      <td>Technology</td>\n",
              "      <td>not inherited</td>\n",
              "    </tr>\n",
              "    <tr>\n",
              "      <th>3</th>\n",
              "      <td>65</td>\n",
              "      <td>male</td>\n",
              "      <td>United States</td>\n",
              "      <td>North America</td>\n",
              "      <td>Consumer</td>\n",
              "      <td>not inherited</td>\n",
              "    </tr>\n",
              "    <tr>\n",
              "      <th>4</th>\n",
              "      <td>70</td>\n",
              "      <td>male</td>\n",
              "      <td>United States</td>\n",
              "      <td>North America</td>\n",
              "      <td>Consumer</td>\n",
              "      <td>not inherited</td>\n",
              "    </tr>\n",
              "  </tbody>\n",
              "</table>\n",
              "</div>\n",
              "      <button class=\"colab-df-convert\" onclick=\"convertToInteractive('df-2e0d8e32-1cdc-4622-9930-61ae31746a83')\"\n",
              "              title=\"Convert this dataframe to an interactive table.\"\n",
              "              style=\"display:none;\">\n",
              "        \n",
              "  <svg xmlns=\"http://www.w3.org/2000/svg\" height=\"24px\"viewBox=\"0 0 24 24\"\n",
              "       width=\"24px\">\n",
              "    <path d=\"M0 0h24v24H0V0z\" fill=\"none\"/>\n",
              "    <path d=\"M18.56 5.44l.94 2.06.94-2.06 2.06-.94-2.06-.94-.94-2.06-.94 2.06-2.06.94zm-11 1L8.5 8.5l.94-2.06 2.06-.94-2.06-.94L8.5 2.5l-.94 2.06-2.06.94zm10 10l.94 2.06.94-2.06 2.06-.94-2.06-.94-.94-2.06-.94 2.06-2.06.94z\"/><path d=\"M17.41 7.96l-1.37-1.37c-.4-.4-.92-.59-1.43-.59-.52 0-1.04.2-1.43.59L10.3 9.45l-7.72 7.72c-.78.78-.78 2.05 0 2.83L4 21.41c.39.39.9.59 1.41.59.51 0 1.02-.2 1.41-.59l7.78-7.78 2.81-2.81c.8-.78.8-2.07 0-2.86zM5.41 20L4 18.59l7.72-7.72 1.47 1.35L5.41 20z\"/>\n",
              "  </svg>\n",
              "      </button>\n",
              "      \n",
              "  <style>\n",
              "    .colab-df-container {\n",
              "      display:flex;\n",
              "      flex-wrap:wrap;\n",
              "      gap: 12px;\n",
              "    }\n",
              "\n",
              "    .colab-df-convert {\n",
              "      background-color: #E8F0FE;\n",
              "      border: none;\n",
              "      border-radius: 50%;\n",
              "      cursor: pointer;\n",
              "      display: none;\n",
              "      fill: #1967D2;\n",
              "      height: 32px;\n",
              "      padding: 0 0 0 0;\n",
              "      width: 32px;\n",
              "    }\n",
              "\n",
              "    .colab-df-convert:hover {\n",
              "      background-color: #E2EBFA;\n",
              "      box-shadow: 0px 1px 2px rgba(60, 64, 67, 0.3), 0px 1px 3px 1px rgba(60, 64, 67, 0.15);\n",
              "      fill: #174EA6;\n",
              "    }\n",
              "\n",
              "    [theme=dark] .colab-df-convert {\n",
              "      background-color: #3B4455;\n",
              "      fill: #D2E3FC;\n",
              "    }\n",
              "\n",
              "    [theme=dark] .colab-df-convert:hover {\n",
              "      background-color: #434B5C;\n",
              "      box-shadow: 0px 1px 3px 1px rgba(0, 0, 0, 0.15);\n",
              "      filter: drop-shadow(0px 1px 2px rgba(0, 0, 0, 0.3));\n",
              "      fill: #FFFFFF;\n",
              "    }\n",
              "  </style>\n",
              "\n",
              "      <script>\n",
              "        const buttonEl =\n",
              "          document.querySelector('#df-2e0d8e32-1cdc-4622-9930-61ae31746a83 button.colab-df-convert');\n",
              "        buttonEl.style.display =\n",
              "          google.colab.kernel.accessAllowed ? 'block' : 'none';\n",
              "\n",
              "        async function convertToInteractive(key) {\n",
              "          const element = document.querySelector('#df-2e0d8e32-1cdc-4622-9930-61ae31746a83');\n",
              "          const dataTable =\n",
              "            await google.colab.kernel.invokeFunction('convertToInteractive',\n",
              "                                                     [key], {});\n",
              "          if (!dataTable) return;\n",
              "\n",
              "          const docLinkHtml = 'Like what you see? Visit the ' +\n",
              "            '<a target=\"_blank\" href=https://colab.research.google.com/notebooks/data_table.ipynb>data table notebook</a>'\n",
              "            + ' to learn more about interactive tables.';\n",
              "          element.innerHTML = '';\n",
              "          dataTable['output_type'] = 'display_data';\n",
              "          await google.colab.output.renderOutput(dataTable, element);\n",
              "          const docLink = document.createElement('div');\n",
              "          docLink.innerHTML = docLinkHtml;\n",
              "          element.appendChild(docLink);\n",
              "        }\n",
              "      </script>\n",
              "    </div>\n",
              "  </div>\n",
              "  "
            ]
          },
          "metadata": {},
          "execution_count": 58
        }
      ]
    },
    {
      "cell_type": "code",
      "source": [
        "\n",
        "\n",
        "from sklearn.preprocessing import LabelEncoder"
      ],
      "metadata": {
        "id": "8-yKlxJYTlry"
      },
      "execution_count": 59,
      "outputs": []
    },
    {
      "cell_type": "code",
      "source": [
        "#17.6.3\n",
        "le = LabelEncoder()"
      ],
      "metadata": {
        "id": "yjuecEvNT2zK"
      },
      "execution_count": 60,
      "outputs": []
    },
    {
      "cell_type": "code",
      "source": [
        "billion2df = billion_df.copy()\n",
        "billion2df['demographics.gender'] = le.fit_transform(billion2df['demographics.gender'])\n",
        "billion2df.head(5)"
      ],
      "metadata": {
        "colab": {
          "base_uri": "https://localhost:8080/",
          "height": 206
        },
        "id": "YYO4Zc_rUWNJ",
        "outputId": "b04a2468-b71f-409f-bfb1-a193393ba8d7"
      },
      "execution_count": 61,
      "outputs": [
        {
          "output_type": "execute_result",
          "data": {
            "text/plain": [
              "   demographics.age  demographics.gender location.citizenship location.region  \\\n",
              "0                40                    1        United States   North America   \n",
              "1                45                    1        United States   North America   \n",
              "2                58                    1        United States   North America   \n",
              "3                65                    1        United States   North America   \n",
              "4                70                    1        United States   North America   \n",
              "\n",
              "  wealth.how.industry wealth.how.inherited  \n",
              "0          Technology        not inherited  \n",
              "1          Technology        not inherited  \n",
              "2          Technology        not inherited  \n",
              "3            Consumer        not inherited  \n",
              "4            Consumer        not inherited  "
            ],
            "text/html": [
              "\n",
              "  <div id=\"df-eb4536a8-5110-4661-8358-ebe11929c2d4\">\n",
              "    <div class=\"colab-df-container\">\n",
              "      <div>\n",
              "<style scoped>\n",
              "    .dataframe tbody tr th:only-of-type {\n",
              "        vertical-align: middle;\n",
              "    }\n",
              "\n",
              "    .dataframe tbody tr th {\n",
              "        vertical-align: top;\n",
              "    }\n",
              "\n",
              "    .dataframe thead th {\n",
              "        text-align: right;\n",
              "    }\n",
              "</style>\n",
              "<table border=\"1\" class=\"dataframe\">\n",
              "  <thead>\n",
              "    <tr style=\"text-align: right;\">\n",
              "      <th></th>\n",
              "      <th>demographics.age</th>\n",
              "      <th>demographics.gender</th>\n",
              "      <th>location.citizenship</th>\n",
              "      <th>location.region</th>\n",
              "      <th>wealth.how.industry</th>\n",
              "      <th>wealth.how.inherited</th>\n",
              "    </tr>\n",
              "  </thead>\n",
              "  <tbody>\n",
              "    <tr>\n",
              "      <th>0</th>\n",
              "      <td>40</td>\n",
              "      <td>1</td>\n",
              "      <td>United States</td>\n",
              "      <td>North America</td>\n",
              "      <td>Technology</td>\n",
              "      <td>not inherited</td>\n",
              "    </tr>\n",
              "    <tr>\n",
              "      <th>1</th>\n",
              "      <td>45</td>\n",
              "      <td>1</td>\n",
              "      <td>United States</td>\n",
              "      <td>North America</td>\n",
              "      <td>Technology</td>\n",
              "      <td>not inherited</td>\n",
              "    </tr>\n",
              "    <tr>\n",
              "      <th>2</th>\n",
              "      <td>58</td>\n",
              "      <td>1</td>\n",
              "      <td>United States</td>\n",
              "      <td>North America</td>\n",
              "      <td>Technology</td>\n",
              "      <td>not inherited</td>\n",
              "    </tr>\n",
              "    <tr>\n",
              "      <th>3</th>\n",
              "      <td>65</td>\n",
              "      <td>1</td>\n",
              "      <td>United States</td>\n",
              "      <td>North America</td>\n",
              "      <td>Consumer</td>\n",
              "      <td>not inherited</td>\n",
              "    </tr>\n",
              "    <tr>\n",
              "      <th>4</th>\n",
              "      <td>70</td>\n",
              "      <td>1</td>\n",
              "      <td>United States</td>\n",
              "      <td>North America</td>\n",
              "      <td>Consumer</td>\n",
              "      <td>not inherited</td>\n",
              "    </tr>\n",
              "  </tbody>\n",
              "</table>\n",
              "</div>\n",
              "      <button class=\"colab-df-convert\" onclick=\"convertToInteractive('df-eb4536a8-5110-4661-8358-ebe11929c2d4')\"\n",
              "              title=\"Convert this dataframe to an interactive table.\"\n",
              "              style=\"display:none;\">\n",
              "        \n",
              "  <svg xmlns=\"http://www.w3.org/2000/svg\" height=\"24px\"viewBox=\"0 0 24 24\"\n",
              "       width=\"24px\">\n",
              "    <path d=\"M0 0h24v24H0V0z\" fill=\"none\"/>\n",
              "    <path d=\"M18.56 5.44l.94 2.06.94-2.06 2.06-.94-2.06-.94-.94-2.06-.94 2.06-2.06.94zm-11 1L8.5 8.5l.94-2.06 2.06-.94-2.06-.94L8.5 2.5l-.94 2.06-2.06.94zm10 10l.94 2.06.94-2.06 2.06-.94-2.06-.94-.94-2.06-.94 2.06-2.06.94z\"/><path d=\"M17.41 7.96l-1.37-1.37c-.4-.4-.92-.59-1.43-.59-.52 0-1.04.2-1.43.59L10.3 9.45l-7.72 7.72c-.78.78-.78 2.05 0 2.83L4 21.41c.39.39.9.59 1.41.59.51 0 1.02-.2 1.41-.59l7.78-7.78 2.81-2.81c.8-.78.8-2.07 0-2.86zM5.41 20L4 18.59l7.72-7.72 1.47 1.35L5.41 20z\"/>\n",
              "  </svg>\n",
              "      </button>\n",
              "      \n",
              "  <style>\n",
              "    .colab-df-container {\n",
              "      display:flex;\n",
              "      flex-wrap:wrap;\n",
              "      gap: 12px;\n",
              "    }\n",
              "\n",
              "    .colab-df-convert {\n",
              "      background-color: #E8F0FE;\n",
              "      border: none;\n",
              "      border-radius: 50%;\n",
              "      cursor: pointer;\n",
              "      display: none;\n",
              "      fill: #1967D2;\n",
              "      height: 32px;\n",
              "      padding: 0 0 0 0;\n",
              "      width: 32px;\n",
              "    }\n",
              "\n",
              "    .colab-df-convert:hover {\n",
              "      background-color: #E2EBFA;\n",
              "      box-shadow: 0px 1px 2px rgba(60, 64, 67, 0.3), 0px 1px 3px 1px rgba(60, 64, 67, 0.15);\n",
              "      fill: #174EA6;\n",
              "    }\n",
              "\n",
              "    [theme=dark] .colab-df-convert {\n",
              "      background-color: #3B4455;\n",
              "      fill: #D2E3FC;\n",
              "    }\n",
              "\n",
              "    [theme=dark] .colab-df-convert:hover {\n",
              "      background-color: #434B5C;\n",
              "      box-shadow: 0px 1px 3px 1px rgba(0, 0, 0, 0.15);\n",
              "      filter: drop-shadow(0px 1px 2px rgba(0, 0, 0, 0.3));\n",
              "      fill: #FFFFFF;\n",
              "    }\n",
              "  </style>\n",
              "\n",
              "      <script>\n",
              "        const buttonEl =\n",
              "          document.querySelector('#df-eb4536a8-5110-4661-8358-ebe11929c2d4 button.colab-df-convert');\n",
              "        buttonEl.style.display =\n",
              "          google.colab.kernel.accessAllowed ? 'block' : 'none';\n",
              "\n",
              "        async function convertToInteractive(key) {\n",
              "          const element = document.querySelector('#df-eb4536a8-5110-4661-8358-ebe11929c2d4');\n",
              "          const dataTable =\n",
              "            await google.colab.kernel.invokeFunction('convertToInteractive',\n",
              "                                                     [key], {});\n",
              "          if (!dataTable) return;\n",
              "\n",
              "          const docLinkHtml = 'Like what you see? Visit the ' +\n",
              "            '<a target=\"_blank\" href=https://colab.research.google.com/notebooks/data_table.ipynb>data table notebook</a>'\n",
              "            + ' to learn more about interactive tables.';\n",
              "          element.innerHTML = '';\n",
              "          dataTable['output_type'] = 'display_data';\n",
              "          await google.colab.output.renderOutput(dataTable, element);\n",
              "          const docLink = document.createElement('div');\n",
              "          docLink.innerHTML = docLinkHtml;\n",
              "          element.appendChild(docLink);\n",
              "        }\n",
              "      </script>\n",
              "    </div>\n",
              "  </div>\n",
              "  "
            ]
          },
          "metadata": {},
          "execution_count": 61
        }
      ]
    },
    {
      "cell_type": "code",
      "source": [
        "billion2df['location.region'] = le.fit_transform(billion2df['location.region'])\n",
        "billion2df['wealth.how.industry'] = le.fit_transform(billion2df['wealth.how.industry'])\n",
        "billion2df['wealth.how.inherited'] = le.fit_transform(billion2df['wealth.how.inherited'])\n",
        "billion2df.head(5)\n"
      ],
      "metadata": {
        "colab": {
          "base_uri": "https://localhost:8080/",
          "height": 206
        },
        "id": "yU4SVm8SUgFf",
        "outputId": "9a828a40-dd38-4f49-c09c-7efef6d1efff"
      },
      "execution_count": 62,
      "outputs": [
        {
          "output_type": "execute_result",
          "data": {
            "text/plain": [
              "   demographics.age  demographics.gender location.citizenship  \\\n",
              "0                40                    1        United States   \n",
              "1                45                    1        United States   \n",
              "2                58                    1        United States   \n",
              "3                65                    1        United States   \n",
              "4                70                    1        United States   \n",
              "\n",
              "   location.region  wealth.how.industry  wealth.how.inherited  \n",
              "0                4                    8                     1  \n",
              "1                4                    8                     1  \n",
              "2                4                    8                     1  \n",
              "3                4                    1                     1  \n",
              "4                4                    1                     1  "
            ],
            "text/html": [
              "\n",
              "  <div id=\"df-2252cb1b-97ad-4ede-8518-2c71c823584d\">\n",
              "    <div class=\"colab-df-container\">\n",
              "      <div>\n",
              "<style scoped>\n",
              "    .dataframe tbody tr th:only-of-type {\n",
              "        vertical-align: middle;\n",
              "    }\n",
              "\n",
              "    .dataframe tbody tr th {\n",
              "        vertical-align: top;\n",
              "    }\n",
              "\n",
              "    .dataframe thead th {\n",
              "        text-align: right;\n",
              "    }\n",
              "</style>\n",
              "<table border=\"1\" class=\"dataframe\">\n",
              "  <thead>\n",
              "    <tr style=\"text-align: right;\">\n",
              "      <th></th>\n",
              "      <th>demographics.age</th>\n",
              "      <th>demographics.gender</th>\n",
              "      <th>location.citizenship</th>\n",
              "      <th>location.region</th>\n",
              "      <th>wealth.how.industry</th>\n",
              "      <th>wealth.how.inherited</th>\n",
              "    </tr>\n",
              "  </thead>\n",
              "  <tbody>\n",
              "    <tr>\n",
              "      <th>0</th>\n",
              "      <td>40</td>\n",
              "      <td>1</td>\n",
              "      <td>United States</td>\n",
              "      <td>4</td>\n",
              "      <td>8</td>\n",
              "      <td>1</td>\n",
              "    </tr>\n",
              "    <tr>\n",
              "      <th>1</th>\n",
              "      <td>45</td>\n",
              "      <td>1</td>\n",
              "      <td>United States</td>\n",
              "      <td>4</td>\n",
              "      <td>8</td>\n",
              "      <td>1</td>\n",
              "    </tr>\n",
              "    <tr>\n",
              "      <th>2</th>\n",
              "      <td>58</td>\n",
              "      <td>1</td>\n",
              "      <td>United States</td>\n",
              "      <td>4</td>\n",
              "      <td>8</td>\n",
              "      <td>1</td>\n",
              "    </tr>\n",
              "    <tr>\n",
              "      <th>3</th>\n",
              "      <td>65</td>\n",
              "      <td>1</td>\n",
              "      <td>United States</td>\n",
              "      <td>4</td>\n",
              "      <td>1</td>\n",
              "      <td>1</td>\n",
              "    </tr>\n",
              "    <tr>\n",
              "      <th>4</th>\n",
              "      <td>70</td>\n",
              "      <td>1</td>\n",
              "      <td>United States</td>\n",
              "      <td>4</td>\n",
              "      <td>1</td>\n",
              "      <td>1</td>\n",
              "    </tr>\n",
              "  </tbody>\n",
              "</table>\n",
              "</div>\n",
              "      <button class=\"colab-df-convert\" onclick=\"convertToInteractive('df-2252cb1b-97ad-4ede-8518-2c71c823584d')\"\n",
              "              title=\"Convert this dataframe to an interactive table.\"\n",
              "              style=\"display:none;\">\n",
              "        \n",
              "  <svg xmlns=\"http://www.w3.org/2000/svg\" height=\"24px\"viewBox=\"0 0 24 24\"\n",
              "       width=\"24px\">\n",
              "    <path d=\"M0 0h24v24H0V0z\" fill=\"none\"/>\n",
              "    <path d=\"M18.56 5.44l.94 2.06.94-2.06 2.06-.94-2.06-.94-.94-2.06-.94 2.06-2.06.94zm-11 1L8.5 8.5l.94-2.06 2.06-.94-2.06-.94L8.5 2.5l-.94 2.06-2.06.94zm10 10l.94 2.06.94-2.06 2.06-.94-2.06-.94-.94-2.06-.94 2.06-2.06.94z\"/><path d=\"M17.41 7.96l-1.37-1.37c-.4-.4-.92-.59-1.43-.59-.52 0-1.04.2-1.43.59L10.3 9.45l-7.72 7.72c-.78.78-.78 2.05 0 2.83L4 21.41c.39.39.9.59 1.41.59.51 0 1.02-.2 1.41-.59l7.78-7.78 2.81-2.81c.8-.78.8-2.07 0-2.86zM5.41 20L4 18.59l7.72-7.72 1.47 1.35L5.41 20z\"/>\n",
              "  </svg>\n",
              "      </button>\n",
              "      \n",
              "  <style>\n",
              "    .colab-df-container {\n",
              "      display:flex;\n",
              "      flex-wrap:wrap;\n",
              "      gap: 12px;\n",
              "    }\n",
              "\n",
              "    .colab-df-convert {\n",
              "      background-color: #E8F0FE;\n",
              "      border: none;\n",
              "      border-radius: 50%;\n",
              "      cursor: pointer;\n",
              "      display: none;\n",
              "      fill: #1967D2;\n",
              "      height: 32px;\n",
              "      padding: 0 0 0 0;\n",
              "      width: 32px;\n",
              "    }\n",
              "\n",
              "    .colab-df-convert:hover {\n",
              "      background-color: #E2EBFA;\n",
              "      box-shadow: 0px 1px 2px rgba(60, 64, 67, 0.3), 0px 1px 3px 1px rgba(60, 64, 67, 0.15);\n",
              "      fill: #174EA6;\n",
              "    }\n",
              "\n",
              "    [theme=dark] .colab-df-convert {\n",
              "      background-color: #3B4455;\n",
              "      fill: #D2E3FC;\n",
              "    }\n",
              "\n",
              "    [theme=dark] .colab-df-convert:hover {\n",
              "      background-color: #434B5C;\n",
              "      box-shadow: 0px 1px 3px 1px rgba(0, 0, 0, 0.15);\n",
              "      filter: drop-shadow(0px 1px 2px rgba(0, 0, 0, 0.3));\n",
              "      fill: #FFFFFF;\n",
              "    }\n",
              "  </style>\n",
              "\n",
              "      <script>\n",
              "        const buttonEl =\n",
              "          document.querySelector('#df-2252cb1b-97ad-4ede-8518-2c71c823584d button.colab-df-convert');\n",
              "        buttonEl.style.display =\n",
              "          google.colab.kernel.accessAllowed ? 'block' : 'none';\n",
              "\n",
              "        async function convertToInteractive(key) {\n",
              "          const element = document.querySelector('#df-2252cb1b-97ad-4ede-8518-2c71c823584d');\n",
              "          const dataTable =\n",
              "            await google.colab.kernel.invokeFunction('convertToInteractive',\n",
              "                                                     [key], {});\n",
              "          if (!dataTable) return;\n",
              "\n",
              "          const docLinkHtml = 'Like what you see? Visit the ' +\n",
              "            '<a target=\"_blank\" href=https://colab.research.google.com/notebooks/data_table.ipynb>data table notebook</a>'\n",
              "            + ' to learn more about interactive tables.';\n",
              "          element.innerHTML = '';\n",
              "          dataTable['output_type'] = 'display_data';\n",
              "          await google.colab.output.renderOutput(dataTable, element);\n",
              "          const docLink = document.createElement('div');\n",
              "          docLink.innerHTML = docLinkHtml;\n",
              "          element.appendChild(docLink);\n",
              "        }\n",
              "      </script>\n",
              "    </div>\n",
              "  </div>\n",
              "  "
            ]
          },
          "metadata": {},
          "execution_count": 62
        }
      ]
    },
    {
      "cell_type": "code",
      "source": [
        "billion_encoded = billion2df.drop(['location.citizenship'], axis = 1)"
      ],
      "metadata": {
        "id": "Vhj8_G0PU68Z"
      },
      "execution_count": 63,
      "outputs": []
    },
    {
      "cell_type": "code",
      "source": [
        "billion_encoded.head(5)"
      ],
      "metadata": {
        "colab": {
          "base_uri": "https://localhost:8080/",
          "height": 206
        },
        "id": "E3dI62CcVG_g",
        "outputId": "0ffcd21a-9d7f-43b3-9964-d02440d17ad0"
      },
      "execution_count": 64,
      "outputs": [
        {
          "output_type": "execute_result",
          "data": {
            "text/plain": [
              "   demographics.age  demographics.gender  location.region  \\\n",
              "0                40                    1                4   \n",
              "1                45                    1                4   \n",
              "2                58                    1                4   \n",
              "3                65                    1                4   \n",
              "4                70                    1                4   \n",
              "\n",
              "   wealth.how.industry  wealth.how.inherited  \n",
              "0                    8                     1  \n",
              "1                    8                     1  \n",
              "2                    8                     1  \n",
              "3                    1                     1  \n",
              "4                    1                     1  "
            ],
            "text/html": [
              "\n",
              "  <div id=\"df-f8c7c356-2efd-43c6-88df-adea5ef92f96\">\n",
              "    <div class=\"colab-df-container\">\n",
              "      <div>\n",
              "<style scoped>\n",
              "    .dataframe tbody tr th:only-of-type {\n",
              "        vertical-align: middle;\n",
              "    }\n",
              "\n",
              "    .dataframe tbody tr th {\n",
              "        vertical-align: top;\n",
              "    }\n",
              "\n",
              "    .dataframe thead th {\n",
              "        text-align: right;\n",
              "    }\n",
              "</style>\n",
              "<table border=\"1\" class=\"dataframe\">\n",
              "  <thead>\n",
              "    <tr style=\"text-align: right;\">\n",
              "      <th></th>\n",
              "      <th>demographics.age</th>\n",
              "      <th>demographics.gender</th>\n",
              "      <th>location.region</th>\n",
              "      <th>wealth.how.industry</th>\n",
              "      <th>wealth.how.inherited</th>\n",
              "    </tr>\n",
              "  </thead>\n",
              "  <tbody>\n",
              "    <tr>\n",
              "      <th>0</th>\n",
              "      <td>40</td>\n",
              "      <td>1</td>\n",
              "      <td>4</td>\n",
              "      <td>8</td>\n",
              "      <td>1</td>\n",
              "    </tr>\n",
              "    <tr>\n",
              "      <th>1</th>\n",
              "      <td>45</td>\n",
              "      <td>1</td>\n",
              "      <td>4</td>\n",
              "      <td>8</td>\n",
              "      <td>1</td>\n",
              "    </tr>\n",
              "    <tr>\n",
              "      <th>2</th>\n",
              "      <td>58</td>\n",
              "      <td>1</td>\n",
              "      <td>4</td>\n",
              "      <td>8</td>\n",
              "      <td>1</td>\n",
              "    </tr>\n",
              "    <tr>\n",
              "      <th>3</th>\n",
              "      <td>65</td>\n",
              "      <td>1</td>\n",
              "      <td>4</td>\n",
              "      <td>1</td>\n",
              "      <td>1</td>\n",
              "    </tr>\n",
              "    <tr>\n",
              "      <th>4</th>\n",
              "      <td>70</td>\n",
              "      <td>1</td>\n",
              "      <td>4</td>\n",
              "      <td>1</td>\n",
              "      <td>1</td>\n",
              "    </tr>\n",
              "  </tbody>\n",
              "</table>\n",
              "</div>\n",
              "      <button class=\"colab-df-convert\" onclick=\"convertToInteractive('df-f8c7c356-2efd-43c6-88df-adea5ef92f96')\"\n",
              "              title=\"Convert this dataframe to an interactive table.\"\n",
              "              style=\"display:none;\">\n",
              "        \n",
              "  <svg xmlns=\"http://www.w3.org/2000/svg\" height=\"24px\"viewBox=\"0 0 24 24\"\n",
              "       width=\"24px\">\n",
              "    <path d=\"M0 0h24v24H0V0z\" fill=\"none\"/>\n",
              "    <path d=\"M18.56 5.44l.94 2.06.94-2.06 2.06-.94-2.06-.94-.94-2.06-.94 2.06-2.06.94zm-11 1L8.5 8.5l.94-2.06 2.06-.94-2.06-.94L8.5 2.5l-.94 2.06-2.06.94zm10 10l.94 2.06.94-2.06 2.06-.94-2.06-.94-.94-2.06-.94 2.06-2.06.94z\"/><path d=\"M17.41 7.96l-1.37-1.37c-.4-.4-.92-.59-1.43-.59-.52 0-1.04.2-1.43.59L10.3 9.45l-7.72 7.72c-.78.78-.78 2.05 0 2.83L4 21.41c.39.39.9.59 1.41.59.51 0 1.02-.2 1.41-.59l7.78-7.78 2.81-2.81c.8-.78.8-2.07 0-2.86zM5.41 20L4 18.59l7.72-7.72 1.47 1.35L5.41 20z\"/>\n",
              "  </svg>\n",
              "      </button>\n",
              "      \n",
              "  <style>\n",
              "    .colab-df-container {\n",
              "      display:flex;\n",
              "      flex-wrap:wrap;\n",
              "      gap: 12px;\n",
              "    }\n",
              "\n",
              "    .colab-df-convert {\n",
              "      background-color: #E8F0FE;\n",
              "      border: none;\n",
              "      border-radius: 50%;\n",
              "      cursor: pointer;\n",
              "      display: none;\n",
              "      fill: #1967D2;\n",
              "      height: 32px;\n",
              "      padding: 0 0 0 0;\n",
              "      width: 32px;\n",
              "    }\n",
              "\n",
              "    .colab-df-convert:hover {\n",
              "      background-color: #E2EBFA;\n",
              "      box-shadow: 0px 1px 2px rgba(60, 64, 67, 0.3), 0px 1px 3px 1px rgba(60, 64, 67, 0.15);\n",
              "      fill: #174EA6;\n",
              "    }\n",
              "\n",
              "    [theme=dark] .colab-df-convert {\n",
              "      background-color: #3B4455;\n",
              "      fill: #D2E3FC;\n",
              "    }\n",
              "\n",
              "    [theme=dark] .colab-df-convert:hover {\n",
              "      background-color: #434B5C;\n",
              "      box-shadow: 0px 1px 3px 1px rgba(0, 0, 0, 0.15);\n",
              "      filter: drop-shadow(0px 1px 2px rgba(0, 0, 0, 0.3));\n",
              "      fill: #FFFFFF;\n",
              "    }\n",
              "  </style>\n",
              "\n",
              "      <script>\n",
              "        const buttonEl =\n",
              "          document.querySelector('#df-f8c7c356-2efd-43c6-88df-adea5ef92f96 button.colab-df-convert');\n",
              "        buttonEl.style.display =\n",
              "          google.colab.kernel.accessAllowed ? 'block' : 'none';\n",
              "\n",
              "        async function convertToInteractive(key) {\n",
              "          const element = document.querySelector('#df-f8c7c356-2efd-43c6-88df-adea5ef92f96');\n",
              "          const dataTable =\n",
              "            await google.colab.kernel.invokeFunction('convertToInteractive',\n",
              "                                                     [key], {});\n",
              "          if (!dataTable) return;\n",
              "\n",
              "          const docLinkHtml = 'Like what you see? Visit the ' +\n",
              "            '<a target=\"_blank\" href=https://colab.research.google.com/notebooks/data_table.ipynb>data table notebook</a>'\n",
              "            + ' to learn more about interactive tables.';\n",
              "          element.innerHTML = '';\n",
              "          dataTable['output_type'] = 'display_data';\n",
              "          await google.colab.output.renderOutput(dataTable, element);\n",
              "          const docLink = document.createElement('div');\n",
              "          docLink.innerHTML = docLinkHtml;\n",
              "          element.appendChild(docLink);\n",
              "        }\n",
              "      </script>\n",
              "    </div>\n",
              "  </div>\n",
              "  "
            ]
          },
          "metadata": {},
          "execution_count": 64
        }
      ]
    },
    {
      "cell_type": "code",
      "source": [
        "billion_encoded.to_csv(\"billion_encoded.csv\")"
      ],
      "metadata": {
        "id": "GzDO78SKbWxf"
      },
      "execution_count": 65,
      "outputs": []
    },
    {
      "cell_type": "code",
      "source": [
        "y = billion_encoded['wealth.how.inherited']\n",
        "y"
      ],
      "metadata": {
        "colab": {
          "base_uri": "https://localhost:8080/"
        },
        "id": "LMj2xzAsV5UM",
        "outputId": "eef0b099-561f-4b77-e81b-7f3394d8a57b"
      },
      "execution_count": 66,
      "outputs": [
        {
          "output_type": "execute_result",
          "data": {
            "text/plain": [
              "0       1\n",
              "1       1\n",
              "2       1\n",
              "3       1\n",
              "4       1\n",
              "       ..\n",
              "2609    1\n",
              "2610    1\n",
              "2611    1\n",
              "2612    1\n",
              "2613    1\n",
              "Name: wealth.how.inherited, Length: 2614, dtype: int64"
            ]
          },
          "metadata": {},
          "execution_count": 66
        }
      ]
    },
    {
      "cell_type": "code",
      "source": [
        "X = billion_encoded.drop(['wealth.how.inherited'], axis = 1)"
      ],
      "metadata": {
        "id": "MIiGzYOZWFRp"
      },
      "execution_count": 67,
      "outputs": []
    },
    {
      "cell_type": "code",
      "source": [
        "from sklearn.preprocessing import StandardScaler\n",
        "# data_scaler = StandardScaler()\n",
        "# billions_caled = data_scaler.fit_transform(X)"
      ],
      "metadata": {
        "id": "RQeR14ysVNwA"
      },
      "execution_count": 68,
      "outputs": []
    },
    {
      "cell_type": "code",
      "source": [
        "#billions_caled[:5]"
      ],
      "metadata": {
        "id": "PGufFQ1wVpA6"
      },
      "execution_count": 69,
      "outputs": []
    },
    {
      "cell_type": "markdown",
      "source": [
        "# Data is now scaled. Ready for ML Models"
      ],
      "metadata": {
        "id": "93YcUwoeWbl3"
      }
    },
    {
      "cell_type": "code",
      "source": [
        "from sklearn.model_selection import train_test_split\n",
        "from sklearn import tree\n",
        "from sklearn.tree import DecisionTreeClassifier"
      ],
      "metadata": {
        "id": "56Uzt9BqB46K"
      },
      "execution_count": 70,
      "outputs": []
    },
    {
      "cell_type": "code",
      "source": [
        "#Split data into Training & Testing Sets\n",
        "X_train, X_test, y_train, y_test = train_test_split(X, y, random_state=78)"
      ],
      "metadata": {
        "id": "SSD4LmoEWhrq"
      },
      "execution_count": 71,
      "outputs": []
    },
    {
      "cell_type": "code",
      "source": [
        "# Creating a StandardScaler instance.\n",
        "scaler = StandardScaler()\n",
        "# Fitting the Standard Scaler with the training data.\n",
        "X_scaler = scaler.fit(X_train)\n",
        "\n",
        "# Scaling the data.\n",
        "X_train_scaled = X_scaler.transform(X_train)\n",
        "X_test_scaled = X_scaler.transform(X_test)"
      ],
      "metadata": {
        "id": "byX6Xj-mFk77"
      },
      "execution_count": 72,
      "outputs": []
    },
    {
      "cell_type": "code",
      "source": [
        "#Start with a Decision Tree\n",
        "model = tree.DecisionTreeClassifier()\n"
      ],
      "metadata": {
        "id": "_TeIjnH9BqIW"
      },
      "execution_count": 73,
      "outputs": []
    },
    {
      "cell_type": "code",
      "source": [
        "model = model.fit(X_train_scaled, y_train)"
      ],
      "metadata": {
        "id": "eWLnXW6BCHfr"
      },
      "execution_count": 74,
      "outputs": []
    },
    {
      "cell_type": "code",
      "source": [
        "predictions = model.predict(X_test_scaled)"
      ],
      "metadata": {
        "id": "NLS28imvCqhy"
      },
      "execution_count": 75,
      "outputs": []
    },
    {
      "cell_type": "code",
      "source": [
        "from sklearn.metrics import confusion_matrix\n",
        "from sklearn.metrics import accuracy_score\n",
        "from sklearn.metrics import classification_report"
      ],
      "metadata": {
        "id": "_4HqBL-cDZTU"
      },
      "execution_count": 76,
      "outputs": []
    },
    {
      "cell_type": "code",
      "source": [
        "cm = confusion_matrix(y_test, predictions)"
      ],
      "metadata": {
        "id": "EiZFfXLHDFN2"
      },
      "execution_count": 77,
      "outputs": []
    },
    {
      "cell_type": "code",
      "source": [
        "cm_df = pd.DataFrame(cm, index=[\"Actual Inherited\", \"Actual Earned\"], columns=[\"Predicted Inherited\", \"Predicted Earned\"])\n",
        "cm_df"
      ],
      "metadata": {
        "colab": {
          "base_uri": "https://localhost:8080/",
          "height": 0
        },
        "id": "kSvux5ajDJcS",
        "outputId": "ad2e78a3-0bac-4e36-a2c4-e95911f3f5c4"
      },
      "execution_count": 78,
      "outputs": [
        {
          "output_type": "execute_result",
          "data": {
            "text/plain": [
              "                  Predicted Inherited  Predicted Earned\n",
              "Actual Inherited                  114               113\n",
              "Actual Earned                     135               292"
            ],
            "text/html": [
              "\n",
              "  <div id=\"df-ade01d2d-044d-4485-9d2c-71ba0235fef2\">\n",
              "    <div class=\"colab-df-container\">\n",
              "      <div>\n",
              "<style scoped>\n",
              "    .dataframe tbody tr th:only-of-type {\n",
              "        vertical-align: middle;\n",
              "    }\n",
              "\n",
              "    .dataframe tbody tr th {\n",
              "        vertical-align: top;\n",
              "    }\n",
              "\n",
              "    .dataframe thead th {\n",
              "        text-align: right;\n",
              "    }\n",
              "</style>\n",
              "<table border=\"1\" class=\"dataframe\">\n",
              "  <thead>\n",
              "    <tr style=\"text-align: right;\">\n",
              "      <th></th>\n",
              "      <th>Predicted Inherited</th>\n",
              "      <th>Predicted Earned</th>\n",
              "    </tr>\n",
              "  </thead>\n",
              "  <tbody>\n",
              "    <tr>\n",
              "      <th>Actual Inherited</th>\n",
              "      <td>114</td>\n",
              "      <td>113</td>\n",
              "    </tr>\n",
              "    <tr>\n",
              "      <th>Actual Earned</th>\n",
              "      <td>135</td>\n",
              "      <td>292</td>\n",
              "    </tr>\n",
              "  </tbody>\n",
              "</table>\n",
              "</div>\n",
              "      <button class=\"colab-df-convert\" onclick=\"convertToInteractive('df-ade01d2d-044d-4485-9d2c-71ba0235fef2')\"\n",
              "              title=\"Convert this dataframe to an interactive table.\"\n",
              "              style=\"display:none;\">\n",
              "        \n",
              "  <svg xmlns=\"http://www.w3.org/2000/svg\" height=\"24px\"viewBox=\"0 0 24 24\"\n",
              "       width=\"24px\">\n",
              "    <path d=\"M0 0h24v24H0V0z\" fill=\"none\"/>\n",
              "    <path d=\"M18.56 5.44l.94 2.06.94-2.06 2.06-.94-2.06-.94-.94-2.06-.94 2.06-2.06.94zm-11 1L8.5 8.5l.94-2.06 2.06-.94-2.06-.94L8.5 2.5l-.94 2.06-2.06.94zm10 10l.94 2.06.94-2.06 2.06-.94-2.06-.94-.94-2.06-.94 2.06-2.06.94z\"/><path d=\"M17.41 7.96l-1.37-1.37c-.4-.4-.92-.59-1.43-.59-.52 0-1.04.2-1.43.59L10.3 9.45l-7.72 7.72c-.78.78-.78 2.05 0 2.83L4 21.41c.39.39.9.59 1.41.59.51 0 1.02-.2 1.41-.59l7.78-7.78 2.81-2.81c.8-.78.8-2.07 0-2.86zM5.41 20L4 18.59l7.72-7.72 1.47 1.35L5.41 20z\"/>\n",
              "  </svg>\n",
              "      </button>\n",
              "      \n",
              "  <style>\n",
              "    .colab-df-container {\n",
              "      display:flex;\n",
              "      flex-wrap:wrap;\n",
              "      gap: 12px;\n",
              "    }\n",
              "\n",
              "    .colab-df-convert {\n",
              "      background-color: #E8F0FE;\n",
              "      border: none;\n",
              "      border-radius: 50%;\n",
              "      cursor: pointer;\n",
              "      display: none;\n",
              "      fill: #1967D2;\n",
              "      height: 32px;\n",
              "      padding: 0 0 0 0;\n",
              "      width: 32px;\n",
              "    }\n",
              "\n",
              "    .colab-df-convert:hover {\n",
              "      background-color: #E2EBFA;\n",
              "      box-shadow: 0px 1px 2px rgba(60, 64, 67, 0.3), 0px 1px 3px 1px rgba(60, 64, 67, 0.15);\n",
              "      fill: #174EA6;\n",
              "    }\n",
              "\n",
              "    [theme=dark] .colab-df-convert {\n",
              "      background-color: #3B4455;\n",
              "      fill: #D2E3FC;\n",
              "    }\n",
              "\n",
              "    [theme=dark] .colab-df-convert:hover {\n",
              "      background-color: #434B5C;\n",
              "      box-shadow: 0px 1px 3px 1px rgba(0, 0, 0, 0.15);\n",
              "      filter: drop-shadow(0px 1px 2px rgba(0, 0, 0, 0.3));\n",
              "      fill: #FFFFFF;\n",
              "    }\n",
              "  </style>\n",
              "\n",
              "      <script>\n",
              "        const buttonEl =\n",
              "          document.querySelector('#df-ade01d2d-044d-4485-9d2c-71ba0235fef2 button.colab-df-convert');\n",
              "        buttonEl.style.display =\n",
              "          google.colab.kernel.accessAllowed ? 'block' : 'none';\n",
              "\n",
              "        async function convertToInteractive(key) {\n",
              "          const element = document.querySelector('#df-ade01d2d-044d-4485-9d2c-71ba0235fef2');\n",
              "          const dataTable =\n",
              "            await google.colab.kernel.invokeFunction('convertToInteractive',\n",
              "                                                     [key], {});\n",
              "          if (!dataTable) return;\n",
              "\n",
              "          const docLinkHtml = 'Like what you see? Visit the ' +\n",
              "            '<a target=\"_blank\" href=https://colab.research.google.com/notebooks/data_table.ipynb>data table notebook</a>'\n",
              "            + ' to learn more about interactive tables.';\n",
              "          element.innerHTML = '';\n",
              "          dataTable['output_type'] = 'display_data';\n",
              "          await google.colab.output.renderOutput(dataTable, element);\n",
              "          const docLink = document.createElement('div');\n",
              "          docLink.innerHTML = docLinkHtml;\n",
              "          element.appendChild(docLink);\n",
              "        }\n",
              "      </script>\n",
              "    </div>\n",
              "  </div>\n",
              "  "
            ]
          },
          "metadata": {},
          "execution_count": 78
        }
      ]
    },
    {
      "cell_type": "code",
      "source": [
        "decision_tree = accuracy_score(y_test, predictions)\n",
        "decision_tree"
      ],
      "metadata": {
        "colab": {
          "base_uri": "https://localhost:8080/"
        },
        "id": "ykN-02AHDa1s",
        "outputId": "2227963f-c90a-4017-9c43-01d48646349a"
      },
      "execution_count": 79,
      "outputs": [
        {
          "output_type": "execute_result",
          "data": {
            "text/plain": [
              "0.6207951070336392"
            ]
          },
          "metadata": {},
          "execution_count": 79
        }
      ]
    },
    {
      "cell_type": "code",
      "source": [
        "# Displaying results\n",
        "print(\"Confusion Matrix\")\n",
        "display(cm_df)\n",
        "print(f\"Accuracy Score : {decision_tree}\")\n",
        "print(\"Classification Report\")\n",
        "print(classification_report(y_test, predictions))"
      ],
      "metadata": {
        "colab": {
          "base_uri": "https://localhost:8080/",
          "height": 0
        },
        "id": "-gleSLaJDyxf",
        "outputId": "71e06b0e-cd23-4ce8-f1e8-9dd4304fd146"
      },
      "execution_count": 80,
      "outputs": [
        {
          "output_type": "stream",
          "name": "stdout",
          "text": [
            "Confusion Matrix\n"
          ]
        },
        {
          "output_type": "display_data",
          "data": {
            "text/plain": [
              "                  Predicted Inherited  Predicted Earned\n",
              "Actual Inherited                  114               113\n",
              "Actual Earned                     135               292"
            ],
            "text/html": [
              "\n",
              "  <div id=\"df-05ae2fa3-de5a-4602-a3d8-acaa879492dc\">\n",
              "    <div class=\"colab-df-container\">\n",
              "      <div>\n",
              "<style scoped>\n",
              "    .dataframe tbody tr th:only-of-type {\n",
              "        vertical-align: middle;\n",
              "    }\n",
              "\n",
              "    .dataframe tbody tr th {\n",
              "        vertical-align: top;\n",
              "    }\n",
              "\n",
              "    .dataframe thead th {\n",
              "        text-align: right;\n",
              "    }\n",
              "</style>\n",
              "<table border=\"1\" class=\"dataframe\">\n",
              "  <thead>\n",
              "    <tr style=\"text-align: right;\">\n",
              "      <th></th>\n",
              "      <th>Predicted Inherited</th>\n",
              "      <th>Predicted Earned</th>\n",
              "    </tr>\n",
              "  </thead>\n",
              "  <tbody>\n",
              "    <tr>\n",
              "      <th>Actual Inherited</th>\n",
              "      <td>114</td>\n",
              "      <td>113</td>\n",
              "    </tr>\n",
              "    <tr>\n",
              "      <th>Actual Earned</th>\n",
              "      <td>135</td>\n",
              "      <td>292</td>\n",
              "    </tr>\n",
              "  </tbody>\n",
              "</table>\n",
              "</div>\n",
              "      <button class=\"colab-df-convert\" onclick=\"convertToInteractive('df-05ae2fa3-de5a-4602-a3d8-acaa879492dc')\"\n",
              "              title=\"Convert this dataframe to an interactive table.\"\n",
              "              style=\"display:none;\">\n",
              "        \n",
              "  <svg xmlns=\"http://www.w3.org/2000/svg\" height=\"24px\"viewBox=\"0 0 24 24\"\n",
              "       width=\"24px\">\n",
              "    <path d=\"M0 0h24v24H0V0z\" fill=\"none\"/>\n",
              "    <path d=\"M18.56 5.44l.94 2.06.94-2.06 2.06-.94-2.06-.94-.94-2.06-.94 2.06-2.06.94zm-11 1L8.5 8.5l.94-2.06 2.06-.94-2.06-.94L8.5 2.5l-.94 2.06-2.06.94zm10 10l.94 2.06.94-2.06 2.06-.94-2.06-.94-.94-2.06-.94 2.06-2.06.94z\"/><path d=\"M17.41 7.96l-1.37-1.37c-.4-.4-.92-.59-1.43-.59-.52 0-1.04.2-1.43.59L10.3 9.45l-7.72 7.72c-.78.78-.78 2.05 0 2.83L4 21.41c.39.39.9.59 1.41.59.51 0 1.02-.2 1.41-.59l7.78-7.78 2.81-2.81c.8-.78.8-2.07 0-2.86zM5.41 20L4 18.59l7.72-7.72 1.47 1.35L5.41 20z\"/>\n",
              "  </svg>\n",
              "      </button>\n",
              "      \n",
              "  <style>\n",
              "    .colab-df-container {\n",
              "      display:flex;\n",
              "      flex-wrap:wrap;\n",
              "      gap: 12px;\n",
              "    }\n",
              "\n",
              "    .colab-df-convert {\n",
              "      background-color: #E8F0FE;\n",
              "      border: none;\n",
              "      border-radius: 50%;\n",
              "      cursor: pointer;\n",
              "      display: none;\n",
              "      fill: #1967D2;\n",
              "      height: 32px;\n",
              "      padding: 0 0 0 0;\n",
              "      width: 32px;\n",
              "    }\n",
              "\n",
              "    .colab-df-convert:hover {\n",
              "      background-color: #E2EBFA;\n",
              "      box-shadow: 0px 1px 2px rgba(60, 64, 67, 0.3), 0px 1px 3px 1px rgba(60, 64, 67, 0.15);\n",
              "      fill: #174EA6;\n",
              "    }\n",
              "\n",
              "    [theme=dark] .colab-df-convert {\n",
              "      background-color: #3B4455;\n",
              "      fill: #D2E3FC;\n",
              "    }\n",
              "\n",
              "    [theme=dark] .colab-df-convert:hover {\n",
              "      background-color: #434B5C;\n",
              "      box-shadow: 0px 1px 3px 1px rgba(0, 0, 0, 0.15);\n",
              "      filter: drop-shadow(0px 1px 2px rgba(0, 0, 0, 0.3));\n",
              "      fill: #FFFFFF;\n",
              "    }\n",
              "  </style>\n",
              "\n",
              "      <script>\n",
              "        const buttonEl =\n",
              "          document.querySelector('#df-05ae2fa3-de5a-4602-a3d8-acaa879492dc button.colab-df-convert');\n",
              "        buttonEl.style.display =\n",
              "          google.colab.kernel.accessAllowed ? 'block' : 'none';\n",
              "\n",
              "        async function convertToInteractive(key) {\n",
              "          const element = document.querySelector('#df-05ae2fa3-de5a-4602-a3d8-acaa879492dc');\n",
              "          const dataTable =\n",
              "            await google.colab.kernel.invokeFunction('convertToInteractive',\n",
              "                                                     [key], {});\n",
              "          if (!dataTable) return;\n",
              "\n",
              "          const docLinkHtml = 'Like what you see? Visit the ' +\n",
              "            '<a target=\"_blank\" href=https://colab.research.google.com/notebooks/data_table.ipynb>data table notebook</a>'\n",
              "            + ' to learn more about interactive tables.';\n",
              "          element.innerHTML = '';\n",
              "          dataTable['output_type'] = 'display_data';\n",
              "          await google.colab.output.renderOutput(dataTable, element);\n",
              "          const docLink = document.createElement('div');\n",
              "          docLink.innerHTML = docLinkHtml;\n",
              "          element.appendChild(docLink);\n",
              "        }\n",
              "      </script>\n",
              "    </div>\n",
              "  </div>\n",
              "  "
            ]
          },
          "metadata": {}
        },
        {
          "output_type": "stream",
          "name": "stdout",
          "text": [
            "Accuracy Score : 0.6207951070336392\n",
            "Classification Report\n",
            "              precision    recall  f1-score   support\n",
            "\n",
            "           0       0.46      0.50      0.48       227\n",
            "           1       0.72      0.68      0.70       427\n",
            "\n",
            "    accuracy                           0.62       654\n",
            "   macro avg       0.59      0.59      0.59       654\n",
            "weighted avg       0.63      0.62      0.62       654\n",
            "\n"
          ]
        }
      ]
    },
    {
      "cell_type": "code",
      "source": [
        "#Analysis. Precision of 0.46 means we weren't really able to predict the inherited, although the model predicted earned quite well, 0.72\n",
        "#Recall score shows that 51% of the total inherited were predicted with our model. Not much. A higher number of earned"
      ],
      "metadata": {
        "id": "nsY_3rmAEsZC"
      },
      "execution_count": 81,
      "outputs": []
    },
    {
      "cell_type": "markdown",
      "source": [
        "# Let's Try Random Forest Classifier"
      ],
      "metadata": {
        "id": "h_kxgH6IIdym"
      }
    },
    {
      "cell_type": "code",
      "source": [
        "from sklearn.ensemble import RandomForestClassifier"
      ],
      "metadata": {
        "id": "sI_LY8l6JGhU"
      },
      "execution_count": 82,
      "outputs": []
    },
    {
      "cell_type": "code",
      "source": [
        "rf_model = RandomForestClassifier(n_estimators=100, random_state=78)"
      ],
      "metadata": {
        "id": "Z3P7m2KiJJ8K"
      },
      "execution_count": 83,
      "outputs": []
    },
    {
      "cell_type": "code",
      "source": [
        "rf_model = rf_model.fit(X_train_scaled, y_train)"
      ],
      "metadata": {
        "id": "j9uKKIKaJRIb"
      },
      "execution_count": 84,
      "outputs": []
    },
    {
      "cell_type": "code",
      "source": [
        "rf_predictions = rf_model.predict(X_test_scaled)"
      ],
      "metadata": {
        "id": "E-6RcPN8JUrs"
      },
      "execution_count": 85,
      "outputs": []
    },
    {
      "cell_type": "code",
      "source": [
        "rf_cm = confusion_matrix(y_test, rf_predictions)"
      ],
      "metadata": {
        "id": "PXMdLNm-Jq32"
      },
      "execution_count": 86,
      "outputs": []
    },
    {
      "cell_type": "code",
      "source": [
        "rf_cm_df = pd.DataFrame(rf_cm, index=[\"Actual Inherited\", \"Actual Earned\"], columns=[\"Predicted Inherited\", \"Predicted Earned\"])\n",
        "rf_cm_df"
      ],
      "metadata": {
        "id": "vqkfQD4cJs9i",
        "colab": {
          "base_uri": "https://localhost:8080/",
          "height": 112
        },
        "outputId": "26897897-f101-4e57-db96-df0107e1238e"
      },
      "execution_count": 87,
      "outputs": [
        {
          "output_type": "execute_result",
          "data": {
            "text/plain": [
              "                  Predicted Inherited  Predicted Earned\n",
              "Actual Inherited                  110               117\n",
              "Actual Earned                      84               343"
            ],
            "text/html": [
              "\n",
              "  <div id=\"df-6840eb86-d66e-4b20-9ea3-c3aa52707fb0\">\n",
              "    <div class=\"colab-df-container\">\n",
              "      <div>\n",
              "<style scoped>\n",
              "    .dataframe tbody tr th:only-of-type {\n",
              "        vertical-align: middle;\n",
              "    }\n",
              "\n",
              "    .dataframe tbody tr th {\n",
              "        vertical-align: top;\n",
              "    }\n",
              "\n",
              "    .dataframe thead th {\n",
              "        text-align: right;\n",
              "    }\n",
              "</style>\n",
              "<table border=\"1\" class=\"dataframe\">\n",
              "  <thead>\n",
              "    <tr style=\"text-align: right;\">\n",
              "      <th></th>\n",
              "      <th>Predicted Inherited</th>\n",
              "      <th>Predicted Earned</th>\n",
              "    </tr>\n",
              "  </thead>\n",
              "  <tbody>\n",
              "    <tr>\n",
              "      <th>Actual Inherited</th>\n",
              "      <td>110</td>\n",
              "      <td>117</td>\n",
              "    </tr>\n",
              "    <tr>\n",
              "      <th>Actual Earned</th>\n",
              "      <td>84</td>\n",
              "      <td>343</td>\n",
              "    </tr>\n",
              "  </tbody>\n",
              "</table>\n",
              "</div>\n",
              "      <button class=\"colab-df-convert\" onclick=\"convertToInteractive('df-6840eb86-d66e-4b20-9ea3-c3aa52707fb0')\"\n",
              "              title=\"Convert this dataframe to an interactive table.\"\n",
              "              style=\"display:none;\">\n",
              "        \n",
              "  <svg xmlns=\"http://www.w3.org/2000/svg\" height=\"24px\"viewBox=\"0 0 24 24\"\n",
              "       width=\"24px\">\n",
              "    <path d=\"M0 0h24v24H0V0z\" fill=\"none\"/>\n",
              "    <path d=\"M18.56 5.44l.94 2.06.94-2.06 2.06-.94-2.06-.94-.94-2.06-.94 2.06-2.06.94zm-11 1L8.5 8.5l.94-2.06 2.06-.94-2.06-.94L8.5 2.5l-.94 2.06-2.06.94zm10 10l.94 2.06.94-2.06 2.06-.94-2.06-.94-.94-2.06-.94 2.06-2.06.94z\"/><path d=\"M17.41 7.96l-1.37-1.37c-.4-.4-.92-.59-1.43-.59-.52 0-1.04.2-1.43.59L10.3 9.45l-7.72 7.72c-.78.78-.78 2.05 0 2.83L4 21.41c.39.39.9.59 1.41.59.51 0 1.02-.2 1.41-.59l7.78-7.78 2.81-2.81c.8-.78.8-2.07 0-2.86zM5.41 20L4 18.59l7.72-7.72 1.47 1.35L5.41 20z\"/>\n",
              "  </svg>\n",
              "      </button>\n",
              "      \n",
              "  <style>\n",
              "    .colab-df-container {\n",
              "      display:flex;\n",
              "      flex-wrap:wrap;\n",
              "      gap: 12px;\n",
              "    }\n",
              "\n",
              "    .colab-df-convert {\n",
              "      background-color: #E8F0FE;\n",
              "      border: none;\n",
              "      border-radius: 50%;\n",
              "      cursor: pointer;\n",
              "      display: none;\n",
              "      fill: #1967D2;\n",
              "      height: 32px;\n",
              "      padding: 0 0 0 0;\n",
              "      width: 32px;\n",
              "    }\n",
              "\n",
              "    .colab-df-convert:hover {\n",
              "      background-color: #E2EBFA;\n",
              "      box-shadow: 0px 1px 2px rgba(60, 64, 67, 0.3), 0px 1px 3px 1px rgba(60, 64, 67, 0.15);\n",
              "      fill: #174EA6;\n",
              "    }\n",
              "\n",
              "    [theme=dark] .colab-df-convert {\n",
              "      background-color: #3B4455;\n",
              "      fill: #D2E3FC;\n",
              "    }\n",
              "\n",
              "    [theme=dark] .colab-df-convert:hover {\n",
              "      background-color: #434B5C;\n",
              "      box-shadow: 0px 1px 3px 1px rgba(0, 0, 0, 0.15);\n",
              "      filter: drop-shadow(0px 1px 2px rgba(0, 0, 0, 0.3));\n",
              "      fill: #FFFFFF;\n",
              "    }\n",
              "  </style>\n",
              "\n",
              "      <script>\n",
              "        const buttonEl =\n",
              "          document.querySelector('#df-6840eb86-d66e-4b20-9ea3-c3aa52707fb0 button.colab-df-convert');\n",
              "        buttonEl.style.display =\n",
              "          google.colab.kernel.accessAllowed ? 'block' : 'none';\n",
              "\n",
              "        async function convertToInteractive(key) {\n",
              "          const element = document.querySelector('#df-6840eb86-d66e-4b20-9ea3-c3aa52707fb0');\n",
              "          const dataTable =\n",
              "            await google.colab.kernel.invokeFunction('convertToInteractive',\n",
              "                                                     [key], {});\n",
              "          if (!dataTable) return;\n",
              "\n",
              "          const docLinkHtml = 'Like what you see? Visit the ' +\n",
              "            '<a target=\"_blank\" href=https://colab.research.google.com/notebooks/data_table.ipynb>data table notebook</a>'\n",
              "            + ' to learn more about interactive tables.';\n",
              "          element.innerHTML = '';\n",
              "          dataTable['output_type'] = 'display_data';\n",
              "          await google.colab.output.renderOutput(dataTable, element);\n",
              "          const docLink = document.createElement('div');\n",
              "          docLink.innerHTML = docLinkHtml;\n",
              "          element.appendChild(docLink);\n",
              "        }\n",
              "      </script>\n",
              "    </div>\n",
              "  </div>\n",
              "  "
            ]
          },
          "metadata": {},
          "execution_count": 87
        }
      ]
    },
    {
      "cell_type": "code",
      "source": [
        "random_forest = accuracy_score(y_test, rf_predictions)\n",
        "random_forest"
      ],
      "metadata": {
        "id": "6-sT_aUcJy-z",
        "colab": {
          "base_uri": "https://localhost:8080/"
        },
        "outputId": "32d43efe-eea6-4a4f-cae4-7ff58af15000"
      },
      "execution_count": 88,
      "outputs": [
        {
          "output_type": "execute_result",
          "data": {
            "text/plain": [
              "0.6926605504587156"
            ]
          },
          "metadata": {},
          "execution_count": 88
        }
      ]
    },
    {
      "cell_type": "code",
      "source": [
        "# Displaying results\n",
        "print(\"Confusion Matrix\")\n",
        "display(rf_cm_df)\n",
        "print(f\"Accuracy Score : {random_forest}\")\n",
        "print(\"Classification Report\")\n",
        "print(classification_report(y_test, rf_predictions))"
      ],
      "metadata": {
        "id": "b2jtFe3HJ98O",
        "colab": {
          "base_uri": "https://localhost:8080/",
          "height": 320
        },
        "outputId": "9cee4a37-9daf-47b7-f24b-67e993704217"
      },
      "execution_count": 89,
      "outputs": [
        {
          "output_type": "stream",
          "name": "stdout",
          "text": [
            "Confusion Matrix\n"
          ]
        },
        {
          "output_type": "display_data",
          "data": {
            "text/plain": [
              "                  Predicted Inherited  Predicted Earned\n",
              "Actual Inherited                  110               117\n",
              "Actual Earned                      84               343"
            ],
            "text/html": [
              "\n",
              "  <div id=\"df-60414325-7e14-471b-9d52-b3cc71f511b1\">\n",
              "    <div class=\"colab-df-container\">\n",
              "      <div>\n",
              "<style scoped>\n",
              "    .dataframe tbody tr th:only-of-type {\n",
              "        vertical-align: middle;\n",
              "    }\n",
              "\n",
              "    .dataframe tbody tr th {\n",
              "        vertical-align: top;\n",
              "    }\n",
              "\n",
              "    .dataframe thead th {\n",
              "        text-align: right;\n",
              "    }\n",
              "</style>\n",
              "<table border=\"1\" class=\"dataframe\">\n",
              "  <thead>\n",
              "    <tr style=\"text-align: right;\">\n",
              "      <th></th>\n",
              "      <th>Predicted Inherited</th>\n",
              "      <th>Predicted Earned</th>\n",
              "    </tr>\n",
              "  </thead>\n",
              "  <tbody>\n",
              "    <tr>\n",
              "      <th>Actual Inherited</th>\n",
              "      <td>110</td>\n",
              "      <td>117</td>\n",
              "    </tr>\n",
              "    <tr>\n",
              "      <th>Actual Earned</th>\n",
              "      <td>84</td>\n",
              "      <td>343</td>\n",
              "    </tr>\n",
              "  </tbody>\n",
              "</table>\n",
              "</div>\n",
              "      <button class=\"colab-df-convert\" onclick=\"convertToInteractive('df-60414325-7e14-471b-9d52-b3cc71f511b1')\"\n",
              "              title=\"Convert this dataframe to an interactive table.\"\n",
              "              style=\"display:none;\">\n",
              "        \n",
              "  <svg xmlns=\"http://www.w3.org/2000/svg\" height=\"24px\"viewBox=\"0 0 24 24\"\n",
              "       width=\"24px\">\n",
              "    <path d=\"M0 0h24v24H0V0z\" fill=\"none\"/>\n",
              "    <path d=\"M18.56 5.44l.94 2.06.94-2.06 2.06-.94-2.06-.94-.94-2.06-.94 2.06-2.06.94zm-11 1L8.5 8.5l.94-2.06 2.06-.94-2.06-.94L8.5 2.5l-.94 2.06-2.06.94zm10 10l.94 2.06.94-2.06 2.06-.94-2.06-.94-.94-2.06-.94 2.06-2.06.94z\"/><path d=\"M17.41 7.96l-1.37-1.37c-.4-.4-.92-.59-1.43-.59-.52 0-1.04.2-1.43.59L10.3 9.45l-7.72 7.72c-.78.78-.78 2.05 0 2.83L4 21.41c.39.39.9.59 1.41.59.51 0 1.02-.2 1.41-.59l7.78-7.78 2.81-2.81c.8-.78.8-2.07 0-2.86zM5.41 20L4 18.59l7.72-7.72 1.47 1.35L5.41 20z\"/>\n",
              "  </svg>\n",
              "      </button>\n",
              "      \n",
              "  <style>\n",
              "    .colab-df-container {\n",
              "      display:flex;\n",
              "      flex-wrap:wrap;\n",
              "      gap: 12px;\n",
              "    }\n",
              "\n",
              "    .colab-df-convert {\n",
              "      background-color: #E8F0FE;\n",
              "      border: none;\n",
              "      border-radius: 50%;\n",
              "      cursor: pointer;\n",
              "      display: none;\n",
              "      fill: #1967D2;\n",
              "      height: 32px;\n",
              "      padding: 0 0 0 0;\n",
              "      width: 32px;\n",
              "    }\n",
              "\n",
              "    .colab-df-convert:hover {\n",
              "      background-color: #E2EBFA;\n",
              "      box-shadow: 0px 1px 2px rgba(60, 64, 67, 0.3), 0px 1px 3px 1px rgba(60, 64, 67, 0.15);\n",
              "      fill: #174EA6;\n",
              "    }\n",
              "\n",
              "    [theme=dark] .colab-df-convert {\n",
              "      background-color: #3B4455;\n",
              "      fill: #D2E3FC;\n",
              "    }\n",
              "\n",
              "    [theme=dark] .colab-df-convert:hover {\n",
              "      background-color: #434B5C;\n",
              "      box-shadow: 0px 1px 3px 1px rgba(0, 0, 0, 0.15);\n",
              "      filter: drop-shadow(0px 1px 2px rgba(0, 0, 0, 0.3));\n",
              "      fill: #FFFFFF;\n",
              "    }\n",
              "  </style>\n",
              "\n",
              "      <script>\n",
              "        const buttonEl =\n",
              "          document.querySelector('#df-60414325-7e14-471b-9d52-b3cc71f511b1 button.colab-df-convert');\n",
              "        buttonEl.style.display =\n",
              "          google.colab.kernel.accessAllowed ? 'block' : 'none';\n",
              "\n",
              "        async function convertToInteractive(key) {\n",
              "          const element = document.querySelector('#df-60414325-7e14-471b-9d52-b3cc71f511b1');\n",
              "          const dataTable =\n",
              "            await google.colab.kernel.invokeFunction('convertToInteractive',\n",
              "                                                     [key], {});\n",
              "          if (!dataTable) return;\n",
              "\n",
              "          const docLinkHtml = 'Like what you see? Visit the ' +\n",
              "            '<a target=\"_blank\" href=https://colab.research.google.com/notebooks/data_table.ipynb>data table notebook</a>'\n",
              "            + ' to learn more about interactive tables.';\n",
              "          element.innerHTML = '';\n",
              "          dataTable['output_type'] = 'display_data';\n",
              "          await google.colab.output.renderOutput(dataTable, element);\n",
              "          const docLink = document.createElement('div');\n",
              "          docLink.innerHTML = docLinkHtml;\n",
              "          element.appendChild(docLink);\n",
              "        }\n",
              "      </script>\n",
              "    </div>\n",
              "  </div>\n",
              "  "
            ]
          },
          "metadata": {}
        },
        {
          "output_type": "stream",
          "name": "stdout",
          "text": [
            "Accuracy Score : 0.6926605504587156\n",
            "Classification Report\n",
            "              precision    recall  f1-score   support\n",
            "\n",
            "           0       0.57      0.48      0.52       227\n",
            "           1       0.75      0.80      0.77       427\n",
            "\n",
            "    accuracy                           0.69       654\n",
            "   macro avg       0.66      0.64      0.65       654\n",
            "weighted avg       0.68      0.69      0.69       654\n",
            "\n"
          ]
        }
      ]
    },
    {
      "cell_type": "code",
      "source": [
        "#ANALYSIS: RandomForest Classifier had higher precision on the inherited and earned billionaires. The accuracy scores was more than 6 pts higher"
      ],
      "metadata": {
        "id": "bHJjnA52KHj1"
      },
      "execution_count": 90,
      "outputs": []
    },
    {
      "cell_type": "markdown",
      "source": [
        "# Try oversampling to even out Inherited/Earned"
      ],
      "metadata": {
        "id": "07rjhMHPN_J7"
      }
    },
    {
      "cell_type": "code",
      "source": [
        "from imblearn.over_sampling import RandomOverSampler\n",
        "from sklearn.linear_model import LogisticRegression\n",
        "from sklearn.metrics import balanced_accuracy_score\n",
        "from imblearn.metrics import classification_report_imbalanced\n",
        "from collections import Counter"
      ],
      "metadata": {
        "id": "jRIGiCk0N9Z-"
      },
      "execution_count": 91,
      "outputs": []
    },
    {
      "cell_type": "code",
      "source": [
        "ros = RandomOverSampler(random_state=1)\n",
        "Counter(y_train)"
      ],
      "metadata": {
        "id": "Ii0Zsp38P8OO",
        "colab": {
          "base_uri": "https://localhost:8080/"
        },
        "outputId": "b1d0253e-15ad-4cd9-d71b-2a37ca2af2ed"
      },
      "execution_count": 92,
      "outputs": [
        {
          "output_type": "execute_result",
          "data": {
            "text/plain": [
              "Counter({0: 699, 1: 1261})"
            ]
          },
          "metadata": {},
          "execution_count": 92
        }
      ]
    },
    {
      "cell_type": "code",
      "source": [
        "X_resampled, y_resampled = ros.fit_resample(X_train, y_train)\n",
        "Counter(y_resampled)\n",
        "#This shows that we have oversampled the inherited count to better compare it with the earners"
      ],
      "metadata": {
        "id": "EJiMwA9FR-py",
        "colab": {
          "base_uri": "https://localhost:8080/"
        },
        "outputId": "a4c8689d-9175-43d8-a14e-d8bfaea79da7"
      },
      "execution_count": 93,
      "outputs": [
        {
          "output_type": "execute_result",
          "data": {
            "text/plain": [
              "Counter({0: 1261, 1: 1261})"
            ]
          },
          "metadata": {},
          "execution_count": 93
        }
      ]
    },
    {
      "cell_type": "code",
      "source": [
        "os_model = LogisticRegression(solver='lbfgs', random_state=1)\n",
        "os_model.fit(X_resampled, y_resampled)"
      ],
      "metadata": {
        "id": "LBLh_6erSB5R",
        "colab": {
          "base_uri": "https://localhost:8080/"
        },
        "outputId": "55680435-0d33-4a5b-8003-7f5e3fa719eb"
      },
      "execution_count": 94,
      "outputs": [
        {
          "output_type": "execute_result",
          "data": {
            "text/plain": [
              "LogisticRegression(random_state=1)"
            ]
          },
          "metadata": {},
          "execution_count": 94
        }
      ]
    },
    {
      "cell_type": "code",
      "source": [
        "y_pred = os_model.predict(X_test)\n",
        "confusion_matrix(y_test, y_pred)"
      ],
      "metadata": {
        "id": "H447NXDBT_Gv",
        "colab": {
          "base_uri": "https://localhost:8080/"
        },
        "outputId": "1a44682e-767f-4539-982f-baaa7d28d080"
      },
      "execution_count": 95,
      "outputs": [
        {
          "output_type": "execute_result",
          "data": {
            "text/plain": [
              "array([[132,  95],\n",
              "       [128, 299]])"
            ]
          },
          "metadata": {},
          "execution_count": 95
        }
      ]
    },
    {
      "cell_type": "code",
      "source": [
        "balanced_accuracy_score(y_test, y_pred)"
      ],
      "metadata": {
        "id": "xTmbV8p6SLnJ",
        "colab": {
          "base_uri": "https://localhost:8080/"
        },
        "outputId": "98cc2f11-e217-422c-c290-58bb150f107e"
      },
      "execution_count": 96,
      "outputs": [
        {
          "output_type": "execute_result",
          "data": {
            "text/plain": [
              "0.6408659946971494"
            ]
          },
          "metadata": {},
          "execution_count": 96
        }
      ]
    },
    {
      "cell_type": "code",
      "source": [
        "oversampling = balanced_accuracy_score(y_test, y_pred)"
      ],
      "metadata": {
        "id": "msGoRASehqT4"
      },
      "execution_count": 97,
      "outputs": []
    },
    {
      "cell_type": "code",
      "source": [
        "print(classification_report_imbalanced(y_test, y_pred))"
      ],
      "metadata": {
        "id": "KAcCXV_3SV-u",
        "colab": {
          "base_uri": "https://localhost:8080/"
        },
        "outputId": "c3617d44-7dba-4ca1-f929-41fdda5d755b"
      },
      "execution_count": 98,
      "outputs": [
        {
          "output_type": "stream",
          "name": "stdout",
          "text": [
            "                   pre       rec       spe        f1       geo       iba       sup\n",
            "\n",
            "          0       0.51      0.58      0.70      0.54      0.64      0.40       227\n",
            "          1       0.76      0.70      0.58      0.73      0.64      0.41       427\n",
            "\n",
            "avg / total       0.67      0.66      0.62      0.66      0.64      0.41       654\n",
            "\n"
          ]
        }
      ]
    },
    {
      "cell_type": "code",
      "source": [
        "#ANALYSIS: lower precision but higher recall of inherited. Overall slightly lower balanced accuracy score after oversampling.\n",
        "#The F1-score, which balances both precision & recall is the highest of any tests, however."
      ],
      "metadata": {
        "id": "q7eVugKeSndm"
      },
      "execution_count": 99,
      "outputs": []
    },
    {
      "cell_type": "code",
      "source": [
        "#Reset samples\n",
        "X_resampled = 0\n",
        "y_resampled = 0"
      ],
      "metadata": {
        "id": "9Bf1QkfRVkPm"
      },
      "execution_count": 100,
      "outputs": []
    },
    {
      "cell_type": "markdown",
      "source": [
        "# Using SMOTE"
      ],
      "metadata": {
        "id": "I_B3k9S5VO01"
      }
    },
    {
      "cell_type": "code",
      "source": [
        "from imblearn.over_sampling import SMOTE\n",
        "X_resampled, y_resampled = SMOTE(random_state=1,\n",
        "sampling_strategy='auto').fit_resample(\n",
        "   X_train, y_train)"
      ],
      "metadata": {
        "id": "_yMV0nK6VSEc"
      },
      "execution_count": 101,
      "outputs": []
    },
    {
      "cell_type": "code",
      "source": [
        "Counter(y_resampled)"
      ],
      "metadata": {
        "id": "l3-y92tyVYy7",
        "colab": {
          "base_uri": "https://localhost:8080/"
        },
        "outputId": "7e3ad6ba-d195-43fd-c87b-1888971ece3d"
      },
      "execution_count": 102,
      "outputs": [
        {
          "output_type": "execute_result",
          "data": {
            "text/plain": [
              "Counter({0: 1261, 1: 1261})"
            ]
          },
          "metadata": {},
          "execution_count": 102
        }
      ]
    },
    {
      "cell_type": "code",
      "source": [
        "sm_model = LogisticRegression(solver='lbfgs', random_state=1)\n",
        "sm_model.fit(X_resampled, y_resampled)\n",
        "\n",
        "y_pred = sm_model.predict(X_test)\n",
        "balanced_accuracy_score(y_test, y_pred)\n",
        "\n",
        "confusion_matrix(y_test, y_pred)\n",
        "\n",
        "print(classification_report_imbalanced(y_test, y_pred))"
      ],
      "metadata": {
        "id": "SBwSelxRVdcd",
        "colab": {
          "base_uri": "https://localhost:8080/"
        },
        "outputId": "272017bf-d813-4763-8ec7-da109ac214da"
      },
      "execution_count": 103,
      "outputs": [
        {
          "output_type": "stream",
          "name": "stdout",
          "text": [
            "                   pre       rec       spe        f1       geo       iba       sup\n",
            "\n",
            "          0       0.54      0.54      0.76      0.54      0.64      0.40       227\n",
            "          1       0.76      0.76      0.54      0.76      0.64      0.42       427\n",
            "\n",
            "avg / total       0.68      0.68      0.62      0.68      0.64      0.41       654\n",
            "\n"
          ]
        }
      ]
    },
    {
      "cell_type": "code",
      "source": [
        "balanced_accuracy_score(y_test, y_pred)"
      ],
      "metadata": {
        "id": "5ECIYrWYV47k",
        "colab": {
          "base_uri": "https://localhost:8080/"
        },
        "outputId": "88a74d06-51e6-4ba9-b882-438dac62eec4"
      },
      "execution_count": 104,
      "outputs": [
        {
          "output_type": "execute_result",
          "data": {
            "text/plain": [
              "0.6503162108347347"
            ]
          },
          "metadata": {},
          "execution_count": 104
        }
      ]
    },
    {
      "cell_type": "code",
      "source": [
        "smote = balanced_accuracy_score(y_test, y_pred)"
      ],
      "metadata": {
        "id": "SRV8mcIqhlRP"
      },
      "execution_count": 105,
      "outputs": []
    },
    {
      "cell_type": "code",
      "source": [
        "#Reset samples\n",
        "X_resampled = 0\n",
        "y_resampled = 0"
      ],
      "metadata": {
        "id": "67H6mKQ5W5FJ"
      },
      "execution_count": 106,
      "outputs": []
    },
    {
      "cell_type": "markdown",
      "source": [
        "# Undersampling Model"
      ],
      "metadata": {
        "id": "0f33B8ySWnmC"
      }
    },
    {
      "cell_type": "code",
      "source": [
        "from imblearn.under_sampling import RandomUnderSampler\n",
        "rus = RandomUnderSampler(random_state=1)\n",
        "X_resampled, y_resampled = ros.fit_resample(X_train, y_train)\n",
        "Counter(y_resampled)"
      ],
      "metadata": {
        "id": "Q3RB2WprWDuH",
        "colab": {
          "base_uri": "https://localhost:8080/"
        },
        "outputId": "7901cf65-cd96-4957-839b-b5dc951280ff"
      },
      "execution_count": 107,
      "outputs": [
        {
          "output_type": "execute_result",
          "data": {
            "text/plain": [
              "Counter({0: 1261, 1: 1261})"
            ]
          },
          "metadata": {},
          "execution_count": 107
        }
      ]
    },
    {
      "cell_type": "code",
      "source": [
        "us_model = LogisticRegression(solver='lbfgs', random_state=1)\n",
        "us_model.fit(X_resampled, y_resampled)"
      ],
      "metadata": {
        "id": "YtwmQt40W_RD",
        "colab": {
          "base_uri": "https://localhost:8080/"
        },
        "outputId": "964ed602-5798-4d56-eee2-7ec1a375c286"
      },
      "execution_count": 108,
      "outputs": [
        {
          "output_type": "execute_result",
          "data": {
            "text/plain": [
              "LogisticRegression(random_state=1)"
            ]
          },
          "metadata": {},
          "execution_count": 108
        }
      ]
    },
    {
      "cell_type": "code",
      "source": [
        "y_pred = us_model.predict(X_test)\n",
        "confusion_matrix(y_test, y_pred)"
      ],
      "metadata": {
        "id": "HzwJjvCwXCNF",
        "colab": {
          "base_uri": "https://localhost:8080/"
        },
        "outputId": "9a89cc81-8d63-4ece-978a-5292fcf66f8b"
      },
      "execution_count": 109,
      "outputs": [
        {
          "output_type": "execute_result",
          "data": {
            "text/plain": [
              "array([[132,  95],\n",
              "       [128, 299]])"
            ]
          },
          "metadata": {},
          "execution_count": 109
        }
      ]
    },
    {
      "cell_type": "code",
      "source": [
        "balanced_accuracy_score(y_test, y_pred)"
      ],
      "metadata": {
        "id": "rDlEJKaOXPPw",
        "colab": {
          "base_uri": "https://localhost:8080/"
        },
        "outputId": "db4ecad8-6561-4d0a-f9c2-07e4a235aec4"
      },
      "execution_count": 110,
      "outputs": [
        {
          "output_type": "execute_result",
          "data": {
            "text/plain": [
              "0.6408659946971494"
            ]
          },
          "metadata": {},
          "execution_count": 110
        }
      ]
    },
    {
      "cell_type": "code",
      "source": [
        "undersampling = balanced_accuracy_score(y_test, y_pred)"
      ],
      "metadata": {
        "id": "5_mdbEqoh7Wo"
      },
      "execution_count": 111,
      "outputs": []
    },
    {
      "cell_type": "code",
      "source": [
        "print(classification_report_imbalanced(y_test, y_pred))"
      ],
      "metadata": {
        "id": "4BG1v5f_XSfu",
        "colab": {
          "base_uri": "https://localhost:8080/"
        },
        "outputId": "550776f5-ce70-490b-fa51-37a155312b19"
      },
      "execution_count": 112,
      "outputs": [
        {
          "output_type": "stream",
          "name": "stdout",
          "text": [
            "                   pre       rec       spe        f1       geo       iba       sup\n",
            "\n",
            "          0       0.51      0.58      0.70      0.54      0.64      0.40       227\n",
            "          1       0.76      0.70      0.58      0.73      0.64      0.41       427\n",
            "\n",
            "avg / total       0.67      0.66      0.62      0.66      0.64      0.41       654\n",
            "\n"
          ]
        }
      ]
    },
    {
      "cell_type": "code",
      "source": [
        "#ANALYSIS: Same as oversampling, with the same F1 score for inherited, slightly lower predictive value for earned"
      ],
      "metadata": {
        "id": "6Ku9XuViXVUM"
      },
      "execution_count": 113,
      "outputs": []
    },
    {
      "cell_type": "code",
      "source": [
        "X_resampled = 0\n",
        "y_resampled = 0"
      ],
      "metadata": {
        "id": "wQKT0jBVXvz8"
      },
      "execution_count": 114,
      "outputs": []
    },
    {
      "cell_type": "markdown",
      "source": [
        "# Cluster Centroid Undersampling"
      ],
      "metadata": {
        "id": "IhYE4kvEXoZR"
      }
    },
    {
      "cell_type": "code",
      "source": [
        "from imblearn.under_sampling import ClusterCentroids\n",
        "cc = ClusterCentroids(random_state=1)\n",
        "X_resampled, y_resampled = cc.fit_resample(X_train, y_train)"
      ],
      "metadata": {
        "id": "Ordb43wlXsKO"
      },
      "execution_count": 115,
      "outputs": []
    },
    {
      "cell_type": "code",
      "source": [
        "cc_model = LogisticRegression(solver='lbfgs', random_state=1)\n",
        "cc_model.fit(X_resampled, y_resampled)"
      ],
      "metadata": {
        "id": "WH6Hnp9vXyEP",
        "colab": {
          "base_uri": "https://localhost:8080/"
        },
        "outputId": "df35b803-3d04-4359-8404-7421cc0844c3"
      },
      "execution_count": 116,
      "outputs": [
        {
          "output_type": "execute_result",
          "data": {
            "text/plain": [
              "LogisticRegression(random_state=1)"
            ]
          },
          "metadata": {},
          "execution_count": 116
        }
      ]
    },
    {
      "cell_type": "code",
      "source": [
        "y_pred = cc_model.predict(X_test)\n",
        "confusion_matrix(y_test, y_pred)"
      ],
      "metadata": {
        "id": "LhRU0RzyX3r1",
        "colab": {
          "base_uri": "https://localhost:8080/"
        },
        "outputId": "a438f72c-f0d1-4ce5-f3c3-184a070162ec"
      },
      "execution_count": 117,
      "outputs": [
        {
          "output_type": "execute_result",
          "data": {
            "text/plain": [
              "array([[130,  97],\n",
              "       [117, 310]])"
            ]
          },
          "metadata": {},
          "execution_count": 117
        }
      ]
    },
    {
      "cell_type": "code",
      "source": [
        "balanced_accuracy_score(y_test, y_pred)"
      ],
      "metadata": {
        "id": "XscEoPfCX_Ei",
        "colab": {
          "base_uri": "https://localhost:8080/"
        },
        "outputId": "4048981a-95f1-4d07-92c7-3cc813f0a0d8"
      },
      "execution_count": 118,
      "outputs": [
        {
          "output_type": "execute_result",
          "data": {
            "text/plain": [
              "0.649341270414427"
            ]
          },
          "metadata": {},
          "execution_count": 118
        }
      ]
    },
    {
      "cell_type": "code",
      "source": [
        "clustered_centroid_us = balanced_accuracy_score(y_test, y_pred)"
      ],
      "metadata": {
        "id": "iBH0zFuYiQ61"
      },
      "execution_count": 132,
      "outputs": []
    },
    {
      "cell_type": "code",
      "source": [
        "print(classification_report_imbalanced(y_test, y_pred))"
      ],
      "metadata": {
        "id": "JGjbxHn9YB7H",
        "colab": {
          "base_uri": "https://localhost:8080/"
        },
        "outputId": "a547512d-17c6-4cb5-8c24-b50204e8a71c"
      },
      "execution_count": 120,
      "outputs": [
        {
          "output_type": "stream",
          "name": "stdout",
          "text": [
            "                   pre       rec       spe        f1       geo       iba       sup\n",
            "\n",
            "          0       0.53      0.57      0.73      0.55      0.64      0.41       227\n",
            "          1       0.76      0.73      0.57      0.74      0.64      0.42       427\n",
            "\n",
            "avg / total       0.68      0.67      0.63      0.68      0.64      0.42       654\n",
            "\n"
          ]
        }
      ]
    },
    {
      "cell_type": "code",
      "source": [
        "#ANALYSIS: Higher precision in inherited (the model found a higher percentage of them) and higher recall in earned (the model found more of them )\n",
        "# Still not close to the 69% accuracy of the Random Forest Model\n",
        "X_resampled = 0\n",
        "y_resampled = 0"
      ],
      "metadata": {
        "id": "1AphbI7vYDy6"
      },
      "execution_count": 121,
      "outputs": []
    },
    {
      "cell_type": "markdown",
      "source": [
        "# A Last Stab at Machine Learning with SMOTEENN"
      ],
      "metadata": {
        "id": "3oNlgsMHY0EC"
      }
    },
    {
      "cell_type": "code",
      "source": [
        "from imblearn.combine import SMOTEENN\n",
        "smote_enn = SMOTEENN(random_state=0)\n",
        "X_resampled, y_resampled = smote_enn.fit_resample(X, y)"
      ],
      "metadata": {
        "id": "d2wdzL6aYrYo"
      },
      "execution_count": 122,
      "outputs": []
    },
    {
      "cell_type": "code",
      "source": [
        "st_model = LogisticRegression(solver='lbfgs', random_state=1)\n",
        "st_model.fit(X_resampled, y_resampled)"
      ],
      "metadata": {
        "id": "kWRDogKGY5z3",
        "colab": {
          "base_uri": "https://localhost:8080/"
        },
        "outputId": "6fe212a1-0eed-49df-b4a8-c690df7e8ec9"
      },
      "execution_count": 123,
      "outputs": [
        {
          "output_type": "execute_result",
          "data": {
            "text/plain": [
              "LogisticRegression(random_state=1)"
            ]
          },
          "metadata": {},
          "execution_count": 123
        }
      ]
    },
    {
      "cell_type": "code",
      "source": [
        "y_pred = st_model.predict(X_test)\n",
        "confusion_matrix(y_test, y_pred)"
      ],
      "metadata": {
        "id": "47OYH4EEY-iT",
        "colab": {
          "base_uri": "https://localhost:8080/"
        },
        "outputId": "ac039a16-dee3-4735-a1c4-c980ae7a01a6"
      },
      "execution_count": 124,
      "outputs": [
        {
          "output_type": "execute_result",
          "data": {
            "text/plain": [
              "array([[133,  94],\n",
              "       [120, 307]])"
            ]
          },
          "metadata": {},
          "execution_count": 124
        }
      ]
    },
    {
      "cell_type": "code",
      "source": [
        "balanced_accuracy_score(y_test, y_pred)"
      ],
      "metadata": {
        "id": "OhuL3X23ZByx",
        "colab": {
          "base_uri": "https://localhost:8080/"
        },
        "outputId": "a495c33e-ee3b-49ef-a16f-b3821e80687c"
      },
      "execution_count": 125,
      "outputs": [
        {
          "output_type": "execute_result",
          "data": {
            "text/plain": [
              "0.6524363193677847"
            ]
          },
          "metadata": {},
          "execution_count": 125
        }
      ]
    },
    {
      "cell_type": "code",
      "source": [
        "smoteenn =  balanced_accuracy_score(y_test, y_pred)"
      ],
      "metadata": {
        "id": "DRsygguH2PuD"
      },
      "execution_count": 133,
      "outputs": []
    },
    {
      "cell_type": "code",
      "source": [
        "print(classification_report_imbalanced(y_test, y_pred))"
      ],
      "metadata": {
        "id": "EnZ0oD6BZFP3",
        "colab": {
          "base_uri": "https://localhost:8080/"
        },
        "outputId": "3cc807ed-f08e-4e42-fc43-bf15a4dc08d1"
      },
      "execution_count": 126,
      "outputs": [
        {
          "output_type": "stream",
          "name": "stdout",
          "text": [
            "                   pre       rec       spe        f1       geo       iba       sup\n",
            "\n",
            "          0       0.53      0.59      0.72      0.55      0.65      0.42       227\n",
            "          1       0.77      0.72      0.59      0.74      0.65      0.43       427\n",
            "\n",
            "avg / total       0.68      0.67      0.63      0.68      0.65      0.42       654\n",
            "\n"
          ]
        }
      ]
    },
    {
      "cell_type": "code",
      "source": [
        "#ANALYSIS: I had thought the high number of true-positives in the confusion matrix would make this the best model\n",
        "#but it was only marginally more accurate (+0.5%) than the previous model.\n",
        "X_resampled = 0\n",
        "y_resampled = 0"
      ],
      "metadata": {
        "id": "UH2Nyw3TZH6B"
      },
      "execution_count": 127,
      "outputs": []
    },
    {
      "cell_type": "markdown",
      "source": [
        "# Putting it all together\n"
      ],
      "metadata": {
        "id": "ld5Af6eeaZxT"
      }
    },
    {
      "cell_type": "markdown",
      "source": [
        "*## Accuracy Scores for the Models*"
      ],
      "metadata": {
        "id": "98J0TgaC878V"
      }
    },
    {
      "cell_type": "code",
      "source": [
        "data = [['Random_Forest',0.6926605504587156],['Oversampling',0.6408659946971494],['SMOTE',0.6503162108347347],['Undersampling', 0.6408659946971494],['Cluster_Centroid_US',0.649341270414427],['SMOTEENN', 0.6524363193677847]]\n",
        "chart_df = pd.DataFrame(data, columns = ['ML_Model','Accuracy'])\n",
        "chart_df"
      ],
      "metadata": {
        "colab": {
          "base_uri": "https://localhost:8080/",
          "height": 238
        },
        "id": "46GT033J4sZb",
        "outputId": "95724d90-ba80-4473-803a-8988631cad68"
      },
      "execution_count": 143,
      "outputs": [
        {
          "output_type": "execute_result",
          "data": {
            "text/plain": [
              "              ML_Model  Accuracy\n",
              "0        Random_Forest  0.692661\n",
              "1         Oversampling  0.640866\n",
              "2                SMOTE  0.650316\n",
              "3        Undersampling  0.640866\n",
              "4  Cluster_Centroid_US  0.649341\n",
              "5             SMOTEENN  0.652436"
            ],
            "text/html": [
              "\n",
              "  <div id=\"df-046ac7c1-2c7f-4ed5-a423-cac21a6cb2ae\">\n",
              "    <div class=\"colab-df-container\">\n",
              "      <div>\n",
              "<style scoped>\n",
              "    .dataframe tbody tr th:only-of-type {\n",
              "        vertical-align: middle;\n",
              "    }\n",
              "\n",
              "    .dataframe tbody tr th {\n",
              "        vertical-align: top;\n",
              "    }\n",
              "\n",
              "    .dataframe thead th {\n",
              "        text-align: right;\n",
              "    }\n",
              "</style>\n",
              "<table border=\"1\" class=\"dataframe\">\n",
              "  <thead>\n",
              "    <tr style=\"text-align: right;\">\n",
              "      <th></th>\n",
              "      <th>ML_Model</th>\n",
              "      <th>Accuracy</th>\n",
              "    </tr>\n",
              "  </thead>\n",
              "  <tbody>\n",
              "    <tr>\n",
              "      <th>0</th>\n",
              "      <td>Random_Forest</td>\n",
              "      <td>0.692661</td>\n",
              "    </tr>\n",
              "    <tr>\n",
              "      <th>1</th>\n",
              "      <td>Oversampling</td>\n",
              "      <td>0.640866</td>\n",
              "    </tr>\n",
              "    <tr>\n",
              "      <th>2</th>\n",
              "      <td>SMOTE</td>\n",
              "      <td>0.650316</td>\n",
              "    </tr>\n",
              "    <tr>\n",
              "      <th>3</th>\n",
              "      <td>Undersampling</td>\n",
              "      <td>0.640866</td>\n",
              "    </tr>\n",
              "    <tr>\n",
              "      <th>4</th>\n",
              "      <td>Cluster_Centroid_US</td>\n",
              "      <td>0.649341</td>\n",
              "    </tr>\n",
              "    <tr>\n",
              "      <th>5</th>\n",
              "      <td>SMOTEENN</td>\n",
              "      <td>0.652436</td>\n",
              "    </tr>\n",
              "  </tbody>\n",
              "</table>\n",
              "</div>\n",
              "      <button class=\"colab-df-convert\" onclick=\"convertToInteractive('df-046ac7c1-2c7f-4ed5-a423-cac21a6cb2ae')\"\n",
              "              title=\"Convert this dataframe to an interactive table.\"\n",
              "              style=\"display:none;\">\n",
              "        \n",
              "  <svg xmlns=\"http://www.w3.org/2000/svg\" height=\"24px\"viewBox=\"0 0 24 24\"\n",
              "       width=\"24px\">\n",
              "    <path d=\"M0 0h24v24H0V0z\" fill=\"none\"/>\n",
              "    <path d=\"M18.56 5.44l.94 2.06.94-2.06 2.06-.94-2.06-.94-.94-2.06-.94 2.06-2.06.94zm-11 1L8.5 8.5l.94-2.06 2.06-.94-2.06-.94L8.5 2.5l-.94 2.06-2.06.94zm10 10l.94 2.06.94-2.06 2.06-.94-2.06-.94-.94-2.06-.94 2.06-2.06.94z\"/><path d=\"M17.41 7.96l-1.37-1.37c-.4-.4-.92-.59-1.43-.59-.52 0-1.04.2-1.43.59L10.3 9.45l-7.72 7.72c-.78.78-.78 2.05 0 2.83L4 21.41c.39.39.9.59 1.41.59.51 0 1.02-.2 1.41-.59l7.78-7.78 2.81-2.81c.8-.78.8-2.07 0-2.86zM5.41 20L4 18.59l7.72-7.72 1.47 1.35L5.41 20z\"/>\n",
              "  </svg>\n",
              "      </button>\n",
              "      \n",
              "  <style>\n",
              "    .colab-df-container {\n",
              "      display:flex;\n",
              "      flex-wrap:wrap;\n",
              "      gap: 12px;\n",
              "    }\n",
              "\n",
              "    .colab-df-convert {\n",
              "      background-color: #E8F0FE;\n",
              "      border: none;\n",
              "      border-radius: 50%;\n",
              "      cursor: pointer;\n",
              "      display: none;\n",
              "      fill: #1967D2;\n",
              "      height: 32px;\n",
              "      padding: 0 0 0 0;\n",
              "      width: 32px;\n",
              "    }\n",
              "\n",
              "    .colab-df-convert:hover {\n",
              "      background-color: #E2EBFA;\n",
              "      box-shadow: 0px 1px 2px rgba(60, 64, 67, 0.3), 0px 1px 3px 1px rgba(60, 64, 67, 0.15);\n",
              "      fill: #174EA6;\n",
              "    }\n",
              "\n",
              "    [theme=dark] .colab-df-convert {\n",
              "      background-color: #3B4455;\n",
              "      fill: #D2E3FC;\n",
              "    }\n",
              "\n",
              "    [theme=dark] .colab-df-convert:hover {\n",
              "      background-color: #434B5C;\n",
              "      box-shadow: 0px 1px 3px 1px rgba(0, 0, 0, 0.15);\n",
              "      filter: drop-shadow(0px 1px 2px rgba(0, 0, 0, 0.3));\n",
              "      fill: #FFFFFF;\n",
              "    }\n",
              "  </style>\n",
              "\n",
              "      <script>\n",
              "        const buttonEl =\n",
              "          document.querySelector('#df-046ac7c1-2c7f-4ed5-a423-cac21a6cb2ae button.colab-df-convert');\n",
              "        buttonEl.style.display =\n",
              "          google.colab.kernel.accessAllowed ? 'block' : 'none';\n",
              "\n",
              "        async function convertToInteractive(key) {\n",
              "          const element = document.querySelector('#df-046ac7c1-2c7f-4ed5-a423-cac21a6cb2ae');\n",
              "          const dataTable =\n",
              "            await google.colab.kernel.invokeFunction('convertToInteractive',\n",
              "                                                     [key], {});\n",
              "          if (!dataTable) return;\n",
              "\n",
              "          const docLinkHtml = 'Like what you see? Visit the ' +\n",
              "            '<a target=\"_blank\" href=https://colab.research.google.com/notebooks/data_table.ipynb>data table notebook</a>'\n",
              "            + ' to learn more about interactive tables.';\n",
              "          element.innerHTML = '';\n",
              "          dataTable['output_type'] = 'display_data';\n",
              "          await google.colab.output.renderOutput(dataTable, element);\n",
              "          const docLink = document.createElement('div');\n",
              "          docLink.innerHTML = docLinkHtml;\n",
              "          element.appendChild(docLink);\n",
              "        }\n",
              "      </script>\n",
              "    </div>\n",
              "  </div>\n",
              "  "
            ]
          },
          "metadata": {},
          "execution_count": 143
        }
      ]
    },
    {
      "cell_type": "code",
      "source": [
        "x = chart_df['ML_Model']\n",
        "y = chart_df['Accuracy']"
      ],
      "metadata": {
        "id": "p8sXrf1s7-ne"
      },
      "execution_count": 146,
      "outputs": []
    },
    {
      "cell_type": "code",
      "source": [
        "plt.barh(x, y, align='center', alpha = 1.0)\n",
        "plt.xlabel('Models')\n",
        "plt.ylabel('Accuracy Score')\n",
        "plt.title('Comparing Accuracy of Machine Learning Models')\n",
        "plt.show()"
      ],
      "metadata": {
        "colab": {
          "base_uri": "https://localhost:8080/",
          "height": 295
        },
        "id": "b-9mFuPN4zmv",
        "outputId": "faf89d97-5ff8-434e-8261-26613daf5306"
      },
      "execution_count": 152,
      "outputs": [
        {
          "output_type": "display_data",
          "data": {
            "text/plain": [
              "<Figure size 432x288 with 1 Axes>"
            ],
            "image/png": "[encoded data removed]"
          },
          "metadata": {
            "needs_background": "light"
          }
        }
      ]
    },
    {
      "cell_type": "markdown",
      "source": [
        "## Precision of Predictions for Billion-Heirs"
      ],
      "metadata": {
        "id": "iqdhkqik9R9o"
      }
    },
    {
      "cell_type": "code",
      "source": [
        "precision = [['Random_Forest', 0.57],['Oversampling', 0.51],['SMOTE', 0.54],['Undersampling', 0.51],['Cluster_Centroid_US',0.53],['SMOTEENN', 0.53]]\n",
        "precision_df = pd.DataFrame(precision, columns = ['ML_Model','Precision'])\n",
        "precision_df"
      ],
      "metadata": {
        "colab": {
          "base_uri": "https://localhost:8080/",
          "height": 238
        },
        "id": "vnAFW6sT9bN1",
        "outputId": "709cc628-c15e-4727-d7d9-a78a5df22151"
      },
      "execution_count": 157,
      "outputs": [
        {
          "output_type": "execute_result",
          "data": {
            "text/plain": [
              "              ML_Model  Precision\n",
              "0        Random_Forest       0.57\n",
              "1         Oversampling       0.51\n",
              "2                SMOTE       0.54\n",
              "3        Undersampling       0.51\n",
              "4  Cluster_Centroid_US       0.53\n",
              "5             SMOTEENN       0.53"
            ],
            "text/html": [
              "\n",
              "  <div id=\"df-ff78e078-7218-4764-955f-497be4424fde\">\n",
              "    <div class=\"colab-df-container\">\n",
              "      <div>\n",
              "<style scoped>\n",
              "    .dataframe tbody tr th:only-of-type {\n",
              "        vertical-align: middle;\n",
              "    }\n",
              "\n",
              "    .dataframe tbody tr th {\n",
              "        vertical-align: top;\n",
              "    }\n",
              "\n",
              "    .dataframe thead th {\n",
              "        text-align: right;\n",
              "    }\n",
              "</style>\n",
              "<table border=\"1\" class=\"dataframe\">\n",
              "  <thead>\n",
              "    <tr style=\"text-align: right;\">\n",
              "      <th></th>\n",
              "      <th>ML_Model</th>\n",
              "      <th>Precision</th>\n",
              "    </tr>\n",
              "  </thead>\n",
              "  <tbody>\n",
              "    <tr>\n",
              "      <th>0</th>\n",
              "      <td>Random_Forest</td>\n",
              "      <td>0.57</td>\n",
              "    </tr>\n",
              "    <tr>\n",
              "      <th>1</th>\n",
              "      <td>Oversampling</td>\n",
              "      <td>0.51</td>\n",
              "    </tr>\n",
              "    <tr>\n",
              "      <th>2</th>\n",
              "      <td>SMOTE</td>\n",
              "      <td>0.54</td>\n",
              "    </tr>\n",
              "    <tr>\n",
              "      <th>3</th>\n",
              "      <td>Undersampling</td>\n",
              "      <td>0.51</td>\n",
              "    </tr>\n",
              "    <tr>\n",
              "      <th>4</th>\n",
              "      <td>Cluster_Centroid_US</td>\n",
              "      <td>0.53</td>\n",
              "    </tr>\n",
              "    <tr>\n",
              "      <th>5</th>\n",
              "      <td>SMOTEENN</td>\n",
              "      <td>0.53</td>\n",
              "    </tr>\n",
              "  </tbody>\n",
              "</table>\n",
              "</div>\n",
              "      <button class=\"colab-df-convert\" onclick=\"convertToInteractive('df-ff78e078-7218-4764-955f-497be4424fde')\"\n",
              "              title=\"Convert this dataframe to an interactive table.\"\n",
              "              style=\"display:none;\">\n",
              "        \n",
              "  <svg xmlns=\"http://www.w3.org/2000/svg\" height=\"24px\"viewBox=\"0 0 24 24\"\n",
              "       width=\"24px\">\n",
              "    <path d=\"M0 0h24v24H0V0z\" fill=\"none\"/>\n",
              "    <path d=\"M18.56 5.44l.94 2.06.94-2.06 2.06-.94-2.06-.94-.94-2.06-.94 2.06-2.06.94zm-11 1L8.5 8.5l.94-2.06 2.06-.94-2.06-.94L8.5 2.5l-.94 2.06-2.06.94zm10 10l.94 2.06.94-2.06 2.06-.94-2.06-.94-.94-2.06-.94 2.06-2.06.94z\"/><path d=\"M17.41 7.96l-1.37-1.37c-.4-.4-.92-.59-1.43-.59-.52 0-1.04.2-1.43.59L10.3 9.45l-7.72 7.72c-.78.78-.78 2.05 0 2.83L4 21.41c.39.39.9.59 1.41.59.51 0 1.02-.2 1.41-.59l7.78-7.78 2.81-2.81c.8-.78.8-2.07 0-2.86zM5.41 20L4 18.59l7.72-7.72 1.47 1.35L5.41 20z\"/>\n",
              "  </svg>\n",
              "      </button>\n",
              "      \n",
              "  <style>\n",
              "    .colab-df-container {\n",
              "      display:flex;\n",
              "      flex-wrap:wrap;\n",
              "      gap: 12px;\n",
              "    }\n",
              "\n",
              "    .colab-df-convert {\n",
              "      background-color: #E8F0FE;\n",
              "      border: none;\n",
              "      border-radius: 50%;\n",
              "      cursor: pointer;\n",
              "      display: none;\n",
              "      fill: #1967D2;\n",
              "      height: 32px;\n",
              "      padding: 0 0 0 0;\n",
              "      width: 32px;\n",
              "    }\n",
              "\n",
              "    .colab-df-convert:hover {\n",
              "      background-color: #E2EBFA;\n",
              "      box-shadow: 0px 1px 2px rgba(60, 64, 67, 0.3), 0px 1px 3px 1px rgba(60, 64, 67, 0.15);\n",
              "      fill: #174EA6;\n",
              "    }\n",
              "\n",
              "    [theme=dark] .colab-df-convert {\n",
              "      background-color: #3B4455;\n",
              "      fill: #D2E3FC;\n",
              "    }\n",
              "\n",
              "    [theme=dark] .colab-df-convert:hover {\n",
              "      background-color: #434B5C;\n",
              "      box-shadow: 0px 1px 3px 1px rgba(0, 0, 0, 0.15);\n",
              "      filter: drop-shadow(0px 1px 2px rgba(0, 0, 0, 0.3));\n",
              "      fill: #FFFFFF;\n",
              "    }\n",
              "  </style>\n",
              "\n",
              "      <script>\n",
              "        const buttonEl =\n",
              "          document.querySelector('#df-ff78e078-7218-4764-955f-497be4424fde button.colab-df-convert');\n",
              "        buttonEl.style.display =\n",
              "          google.colab.kernel.accessAllowed ? 'block' : 'none';\n",
              "\n",
              "        async function convertToInteractive(key) {\n",
              "          const element = document.querySelector('#df-ff78e078-7218-4764-955f-497be4424fde');\n",
              "          const dataTable =\n",
              "            await google.colab.kernel.invokeFunction('convertToInteractive',\n",
              "                                                     [key], {});\n",
              "          if (!dataTable) return;\n",
              "\n",
              "          const docLinkHtml = 'Like what you see? Visit the ' +\n",
              "            '<a target=\"_blank\" href=https://colab.research.google.com/notebooks/data_table.ipynb>data table notebook</a>'\n",
              "            + ' to learn more about interactive tables.';\n",
              "          element.innerHTML = '';\n",
              "          dataTable['output_type'] = 'display_data';\n",
              "          await google.colab.output.renderOutput(dataTable, element);\n",
              "          const docLink = document.createElement('div');\n",
              "          docLink.innerHTML = docLinkHtml;\n",
              "          element.appendChild(docLink);\n",
              "        }\n",
              "      </script>\n",
              "    </div>\n",
              "  </div>\n",
              "  "
            ]
          },
          "metadata": {},
          "execution_count": 157
        }
      ]
    },
    {
      "cell_type": "code",
      "source": [
        "px = precision_df['ML_Model']\n",
        "py = precision_df['Precision']"
      ],
      "metadata": {
        "id": "R_35u7Yp9bRR"
      },
      "execution_count": 159,
      "outputs": []
    },
    {
      "cell_type": "code",
      "source": [
        "plt.barh(px, py, align='center', alpha = 1.0)\n",
        "plt.xlabel('Models')\n",
        "plt.ylabel('Precision Score')\n",
        "plt.title('Comparing Precision of Machine Learning Models for Billion-Heirs')\n",
        "plt.show()"
      ],
      "metadata": {
        "colab": {
          "base_uri": "https://localhost:8080/",
          "height": 295
        },
        "id": "t-PJPEk8-Ov8",
        "outputId": "86cd14ca-545f-43e3-c509-a1d3373d390f"
      },
      "execution_count": 160,
      "outputs": [
        {
          "output_type": "display_data",
          "data": {
            "text/plain": [
              "<Figure size 432x288 with 1 Axes>"
            ],
            "image/png": "[encoded data removed]"
          },
          "metadata": {
            "needs_background": "light"
          }
        }
      ]
    },
    {
      "cell_type": "markdown",
      "source": [
        "# Recall for Billion-Heirs"
      ],
      "metadata": {
        "id": "hInJqq6o-2iu"
      }
    },
    {
      "cell_type": "code",
      "source": [
        "recall = [['Random_Forest', 0.48],['Oversampling', 0.58],['SMOTE', 0.54],['Undersampling', 0.58],['Cluster_Centroid_US', 0.57],['SMOTEENN',  0.59]]\n",
        "recall_df = pd.DataFrame(recall, columns = ['ML_Model','Recall'])\n",
        "recall_df"
      ],
      "metadata": {
        "colab": {
          "base_uri": "https://localhost:8080/",
          "height": 238
        },
        "id": "Z5bUslgZ-1wG",
        "outputId": "cd87f181-5b6d-49f2-f80b-2ec5e7cf8293"
      },
      "execution_count": 161,
      "outputs": [
        {
          "output_type": "execute_result",
          "data": {
            "text/plain": [
              "              ML_Model  Recall\n",
              "0        Random_Forest    0.48\n",
              "1         Oversampling    0.58\n",
              "2                SMOTE    0.54\n",
              "3        Undersampling    0.58\n",
              "4  Cluster_Centroid_US    0.57\n",
              "5             SMOTEENN    0.59"
            ],
            "text/html": [
              "\n",
              "  <div id=\"df-c8ecb002-2459-4dbd-968c-d40bbd5a62ee\">\n",
              "    <div class=\"colab-df-container\">\n",
              "      <div>\n",
              "<style scoped>\n",
              "    .dataframe tbody tr th:only-of-type {\n",
              "        vertical-align: middle;\n",
              "    }\n",
              "\n",
              "    .dataframe tbody tr th {\n",
              "        vertical-align: top;\n",
              "    }\n",
              "\n",
              "    .dataframe thead th {\n",
              "        text-align: right;\n",
              "    }\n",
              "</style>\n",
              "<table border=\"1\" class=\"dataframe\">\n",
              "  <thead>\n",
              "    <tr style=\"text-align: right;\">\n",
              "      <th></th>\n",
              "      <th>ML_Model</th>\n",
              "      <th>Recall</th>\n",
              "    </tr>\n",
              "  </thead>\n",
              "  <tbody>\n",
              "    <tr>\n",
              "      <th>0</th>\n",
              "      <td>Random_Forest</td>\n",
              "      <td>0.48</td>\n",
              "    </tr>\n",
              "    <tr>\n",
              "      <th>1</th>\n",
              "      <td>Oversampling</td>\n",
              "      <td>0.58</td>\n",
              "    </tr>\n",
              "    <tr>\n",
              "      <th>2</th>\n",
              "      <td>SMOTE</td>\n",
              "      <td>0.54</td>\n",
              "    </tr>\n",
              "    <tr>\n",
              "      <th>3</th>\n",
              "      <td>Undersampling</td>\n",
              "      <td>0.58</td>\n",
              "    </tr>\n",
              "    <tr>\n",
              "      <th>4</th>\n",
              "      <td>Cluster_Centroid_US</td>\n",
              "      <td>0.57</td>\n",
              "    </tr>\n",
              "    <tr>\n",
              "      <th>5</th>\n",
              "      <td>SMOTEENN</td>\n",
              "      <td>0.59</td>\n",
              "    </tr>\n",
              "  </tbody>\n",
              "</table>\n",
              "</div>\n",
              "      <button class=\"colab-df-convert\" onclick=\"convertToInteractive('df-c8ecb002-2459-4dbd-968c-d40bbd5a62ee')\"\n",
              "              title=\"Convert this dataframe to an interactive table.\"\n",
              "              style=\"display:none;\">\n",
              "        \n",
              "  <svg xmlns=\"http://www.w3.org/2000/svg\" height=\"24px\"viewBox=\"0 0 24 24\"\n",
              "       width=\"24px\">\n",
              "    <path d=\"M0 0h24v24H0V0z\" fill=\"none\"/>\n",
              "    <path d=\"M18.56 5.44l.94 2.06.94-2.06 2.06-.94-2.06-.94-.94-2.06-.94 2.06-2.06.94zm-11 1L8.5 8.5l.94-2.06 2.06-.94-2.06-.94L8.5 2.5l-.94 2.06-2.06.94zm10 10l.94 2.06.94-2.06 2.06-.94-2.06-.94-.94-2.06-.94 2.06-2.06.94z\"/><path d=\"M17.41 7.96l-1.37-1.37c-.4-.4-.92-.59-1.43-.59-.52 0-1.04.2-1.43.59L10.3 9.45l-7.72 7.72c-.78.78-.78 2.05 0 2.83L4 21.41c.39.39.9.59 1.41.59.51 0 1.02-.2 1.41-.59l7.78-7.78 2.81-2.81c.8-.78.8-2.07 0-2.86zM5.41 20L4 18.59l7.72-7.72 1.47 1.35L5.41 20z\"/>\n",
              "  </svg>\n",
              "      </button>\n",
              "      \n",
              "  <style>\n",
              "    .colab-df-container {\n",
              "      display:flex;\n",
              "      flex-wrap:wrap;\n",
              "      gap: 12px;\n",
              "    }\n",
              "\n",
              "    .colab-df-convert {\n",
              "      background-color: #E8F0FE;\n",
              "      border: none;\n",
              "      border-radius: 50%;\n",
              "      cursor: pointer;\n",
              "      display: none;\n",
              "      fill: #1967D2;\n",
              "      height: 32px;\n",
              "      padding: 0 0 0 0;\n",
              "      width: 32px;\n",
              "    }\n",
              "\n",
              "    .colab-df-convert:hover {\n",
              "      background-color: #E2EBFA;\n",
              "      box-shadow: 0px 1px 2px rgba(60, 64, 67, 0.3), 0px 1px 3px 1px rgba(60, 64, 67, 0.15);\n",
              "      fill: #174EA6;\n",
              "    }\n",
              "\n",
              "    [theme=dark] .colab-df-convert {\n",
              "      background-color: #3B4455;\n",
              "      fill: #D2E3FC;\n",
              "    }\n",
              "\n",
              "    [theme=dark] .colab-df-convert:hover {\n",
              "      background-color: #434B5C;\n",
              "      box-shadow: 0px 1px 3px 1px rgba(0, 0, 0, 0.15);\n",
              "      filter: drop-shadow(0px 1px 2px rgba(0, 0, 0, 0.3));\n",
              "      fill: #FFFFFF;\n",
              "    }\n",
              "  </style>\n",
              "\n",
              "      <script>\n",
              "        const buttonEl =\n",
              "          document.querySelector('#df-c8ecb002-2459-4dbd-968c-d40bbd5a62ee button.colab-df-convert');\n",
              "        buttonEl.style.display =\n",
              "          google.colab.kernel.accessAllowed ? 'block' : 'none';\n",
              "\n",
              "        async function convertToInteractive(key) {\n",
              "          const element = document.querySelector('#df-c8ecb002-2459-4dbd-968c-d40bbd5a62ee');\n",
              "          const dataTable =\n",
              "            await google.colab.kernel.invokeFunction('convertToInteractive',\n",
              "                                                     [key], {});\n",
              "          if (!dataTable) return;\n",
              "\n",
              "          const docLinkHtml = 'Like what you see? Visit the ' +\n",
              "            '<a target=\"_blank\" href=https://colab.research.google.com/notebooks/data_table.ipynb>data table notebook</a>'\n",
              "            + ' to learn more about interactive tables.';\n",
              "          element.innerHTML = '';\n",
              "          dataTable['output_type'] = 'display_data';\n",
              "          await google.colab.output.renderOutput(dataTable, element);\n",
              "          const docLink = document.createElement('div');\n",
              "          docLink.innerHTML = docLinkHtml;\n",
              "          element.appendChild(docLink);\n",
              "        }\n",
              "      </script>\n",
              "    </div>\n",
              "  </div>\n",
              "  "
            ]
          },
          "metadata": {},
          "execution_count": 161
        }
      ]
    },
    {
      "cell_type": "code",
      "source": [
        "rx = recall_df['ML_Model']\n",
        "ry = recall_df['Recall']"
      ],
      "metadata": {
        "id": "iBy97RMT_1F9"
      },
      "execution_count": 166,
      "outputs": []
    },
    {
      "cell_type": "code",
      "source": [
        "plt.barh(rx, ry, align='center', alpha = 1.0)\n",
        "plt.xlabel('Models')\n",
        "plt.ylabel('Recall Score')\n",
        "plt.title('Comparing Recall of Machine Learning Models for Billion-Heirs')\n",
        "plt.show()"
      ],
      "metadata": {
        "colab": {
          "base_uri": "https://localhost:8080/",
          "height": 295
        },
        "id": "BY4xec4i_52Q",
        "outputId": "1c026d3e-622c-48d6-d8da-e73afa8a206e"
      },
      "execution_count": 167,
      "outputs": [
        {
          "output_type": "display_data",
          "data": {
            "text/plain": [
              "<Figure size 432x288 with 1 Axes>"
            ],
            "image/png": "[encoded data removed]"
          },
          "metadata": {
            "needs_background": "light"
          }
        }
      ]
    },
    {
      "cell_type": "markdown",
      "source": [
        "## K-Means Clustering"
      ],
      "metadata": {
        "id": "agqq1YxmaeqH"
      }
    },
    {
      "cell_type": "code",
      "source": [
        "import pandas as pd\n",
        "import plotly.express as px\n",
        "#import hvplot.pandas\n",
        "from sklearn.cluster import KMeans\n",
        "import holoviews as hv\n",
        "from holoviews import opts"
      ],
      "metadata": {
        "id": "God8CjluaQek"
      },
      "execution_count": 134,
      "outputs": []
    },
    {
      "cell_type": "code",
      "source": [
        "km_model = KMeans(n_clusters=2, random_state=5)\n",
        "km_model"
      ],
      "metadata": {
        "id": "28J6svSCaobj",
        "colab": {
          "base_uri": "https://localhost:8080/"
        },
        "outputId": "94b3ae15-326a-42c2-a938-225b845e7dea"
      },
      "execution_count": 135,
      "outputs": [
        {
          "output_type": "execute_result",
          "data": {
            "text/plain": [
              "KMeans(n_clusters=2, random_state=5)"
            ]
          },
          "metadata": {},
          "execution_count": 135
        }
      ]
    },
    {
      "cell_type": "code",
      "source": [
        "km_model.fit(billion_encoded)\n"
      ],
      "metadata": {
        "id": "yCV8TG9raw53",
        "colab": {
          "base_uri": "https://localhost:8080/"
        },
        "outputId": "8bff434c-0d25-4ba1-8ef9-dbec08fdb9c2"
      },
      "execution_count": 136,
      "outputs": [
        {
          "output_type": "execute_result",
          "data": {
            "text/plain": [
              "KMeans(n_clusters=2, random_state=5)"
            ]
          },
          "metadata": {},
          "execution_count": 136
        }
      ]
    },
    {
      "cell_type": "code",
      "source": [
        "predictions = km_model.predict(billion_encoded)\n",
        "print(predictions)"
      ],
      "metadata": {
        "id": "ZFbm2t8bbpOJ",
        "colab": {
          "base_uri": "https://localhost:8080/"
        },
        "outputId": "c52bbaa5-6238-4bca-bb98-5a35cb2c9e05"
      },
      "execution_count": 137,
      "outputs": [
        {
          "output_type": "stream",
          "name": "stdout",
          "text": [
            "[1 1 1 ... 1 1 1]\n"
          ]
        }
      ]
    },
    {
      "cell_type": "code",
      "source": [
        ""
      ],
      "metadata": {
        "id": "bezer8Kqbvzt"
      },
      "execution_count": 137,
      "outputs": []
    }
  ]
}